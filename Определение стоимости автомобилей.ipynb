{
 "cells": [
  {
   "cell_type": "markdown",
   "metadata": {},
   "source": [
    "# Определение стоимости автомобилей"
   ]
  },
  {
   "cell_type": "markdown",
   "metadata": {},
   "source": [
    "## Подготовка данных"
   ]
  },
  {
   "cell_type": "markdown",
   "metadata": {},
   "source": [
    "### Библиотеки"
   ]
  },
  {
   "cell_type": "code",
   "execution_count": 1,
   "metadata": {},
   "outputs": [],
   "source": [
    "import pandas as pd\n",
    "import numpy as np\n",
    "import seaborn as sns\n",
    "import lightgbm as lgb\n",
    "import matplotlib.pyplot as plt\n",
    "plt.rcParams[\"figure.figsize\"] = (15,10)\n",
    "\n",
    "from catboost import CatBoostRegressor, Pool\n",
    "from sklearn.model_selection import train_test_split\n",
    "from sklearn.metrics import mean_squared_error\n",
    "from sklearn.ensemble import RandomForestRegressor\n",
    "from sklearn.model_selection import GridSearchCV\n",
    "from sklearn.linear_model import LinearRegression\n",
    "from sklearn.ensemble import RandomForestRegressor\n",
    "from sklearn.dummy import DummyRegressor\n",
    "from sklearn.preprocessing import StandardScaler, OneHotEncoder\n",
    "from sklearn.metrics import mean_squared_error\n",
    "\n",
    "from sklearn.model_selection import RandomizedSearchCV"
   ]
  },
  {
   "cell_type": "markdown",
   "metadata": {},
   "source": [
    "### Загрузка данных"
   ]
  },
  {
   "cell_type": "code",
   "execution_count": 2,
   "metadata": {},
   "outputs": [],
   "source": [
    "data = pd.read_csv('/datasets/autos.csv', parse_dates=['DateCrawled', 'DateCreated', 'LastSeen'])"
   ]
  },
  {
   "cell_type": "code",
   "execution_count": 3,
   "metadata": {},
   "outputs": [
    {
     "data": {
      "text/html": [
       "<div>\n",
       "<style scoped>\n",
       "    .dataframe tbody tr th:only-of-type {\n",
       "        vertical-align: middle;\n",
       "    }\n",
       "\n",
       "    .dataframe tbody tr th {\n",
       "        vertical-align: top;\n",
       "    }\n",
       "\n",
       "    .dataframe thead th {\n",
       "        text-align: right;\n",
       "    }\n",
       "</style>\n",
       "<table border=\"1\" class=\"dataframe\">\n",
       "  <thead>\n",
       "    <tr style=\"text-align: right;\">\n",
       "      <th></th>\n",
       "      <th>DateCrawled</th>\n",
       "      <th>Price</th>\n",
       "      <th>VehicleType</th>\n",
       "      <th>RegistrationYear</th>\n",
       "      <th>Gearbox</th>\n",
       "      <th>Power</th>\n",
       "      <th>Model</th>\n",
       "      <th>Kilometer</th>\n",
       "      <th>RegistrationMonth</th>\n",
       "      <th>FuelType</th>\n",
       "      <th>Brand</th>\n",
       "      <th>Repaired</th>\n",
       "      <th>DateCreated</th>\n",
       "      <th>NumberOfPictures</th>\n",
       "      <th>PostalCode</th>\n",
       "      <th>LastSeen</th>\n",
       "    </tr>\n",
       "  </thead>\n",
       "  <tbody>\n",
       "    <tr>\n",
       "      <th>0</th>\n",
       "      <td>2016-03-24 11:52:17</td>\n",
       "      <td>480</td>\n",
       "      <td>NaN</td>\n",
       "      <td>1993</td>\n",
       "      <td>manual</td>\n",
       "      <td>0</td>\n",
       "      <td>golf</td>\n",
       "      <td>150000</td>\n",
       "      <td>0</td>\n",
       "      <td>petrol</td>\n",
       "      <td>volkswagen</td>\n",
       "      <td>NaN</td>\n",
       "      <td>2016-03-24</td>\n",
       "      <td>0</td>\n",
       "      <td>70435</td>\n",
       "      <td>2016-04-07 03:16:57</td>\n",
       "    </tr>\n",
       "    <tr>\n",
       "      <th>1</th>\n",
       "      <td>2016-03-24 10:58:45</td>\n",
       "      <td>18300</td>\n",
       "      <td>coupe</td>\n",
       "      <td>2011</td>\n",
       "      <td>manual</td>\n",
       "      <td>190</td>\n",
       "      <td>NaN</td>\n",
       "      <td>125000</td>\n",
       "      <td>5</td>\n",
       "      <td>gasoline</td>\n",
       "      <td>audi</td>\n",
       "      <td>yes</td>\n",
       "      <td>2016-03-24</td>\n",
       "      <td>0</td>\n",
       "      <td>66954</td>\n",
       "      <td>2016-04-07 01:46:50</td>\n",
       "    </tr>\n",
       "    <tr>\n",
       "      <th>2</th>\n",
       "      <td>2016-03-14 12:52:21</td>\n",
       "      <td>9800</td>\n",
       "      <td>suv</td>\n",
       "      <td>2004</td>\n",
       "      <td>auto</td>\n",
       "      <td>163</td>\n",
       "      <td>grand</td>\n",
       "      <td>125000</td>\n",
       "      <td>8</td>\n",
       "      <td>gasoline</td>\n",
       "      <td>jeep</td>\n",
       "      <td>NaN</td>\n",
       "      <td>2016-03-14</td>\n",
       "      <td>0</td>\n",
       "      <td>90480</td>\n",
       "      <td>2016-04-05 12:47:46</td>\n",
       "    </tr>\n",
       "  </tbody>\n",
       "</table>\n",
       "</div>"
      ],
      "text/plain": [
       "          DateCrawled  Price VehicleType  RegistrationYear Gearbox  Power  \\\n",
       "0 2016-03-24 11:52:17    480         NaN              1993  manual      0   \n",
       "1 2016-03-24 10:58:45  18300       coupe              2011  manual    190   \n",
       "2 2016-03-14 12:52:21   9800         suv              2004    auto    163   \n",
       "\n",
       "   Model  Kilometer  RegistrationMonth  FuelType       Brand Repaired  \\\n",
       "0   golf     150000                  0    petrol  volkswagen      NaN   \n",
       "1    NaN     125000                  5  gasoline        audi      yes   \n",
       "2  grand     125000                  8  gasoline        jeep      NaN   \n",
       "\n",
       "  DateCreated  NumberOfPictures  PostalCode            LastSeen  \n",
       "0  2016-03-24                 0       70435 2016-04-07 03:16:57  \n",
       "1  2016-03-24                 0       66954 2016-04-07 01:46:50  \n",
       "2  2016-03-14                 0       90480 2016-04-05 12:47:46  "
      ]
     },
     "execution_count": 3,
     "metadata": {},
     "output_type": "execute_result"
    }
   ],
   "source": [
    "data.head(3)"
   ]
  },
  {
   "cell_type": "code",
   "execution_count": 4,
   "metadata": {},
   "outputs": [
    {
     "name": "stdout",
     "output_type": "stream",
     "text": [
      "<class 'pandas.core.frame.DataFrame'>\n",
      "RangeIndex: 354369 entries, 0 to 354368\n",
      "Data columns (total 16 columns):\n",
      " #   Column             Non-Null Count   Dtype         \n",
      "---  ------             --------------   -----         \n",
      " 0   DateCrawled        354369 non-null  datetime64[ns]\n",
      " 1   Price              354369 non-null  int64         \n",
      " 2   VehicleType        316879 non-null  object        \n",
      " 3   RegistrationYear   354369 non-null  int64         \n",
      " 4   Gearbox            334536 non-null  object        \n",
      " 5   Power              354369 non-null  int64         \n",
      " 6   Model              334664 non-null  object        \n",
      " 7   Kilometer          354369 non-null  int64         \n",
      " 8   RegistrationMonth  354369 non-null  int64         \n",
      " 9   FuelType           321474 non-null  object        \n",
      " 10  Brand              354369 non-null  object        \n",
      " 11  Repaired           283215 non-null  object        \n",
      " 12  DateCreated        354369 non-null  datetime64[ns]\n",
      " 13  NumberOfPictures   354369 non-null  int64         \n",
      " 14  PostalCode         354369 non-null  int64         \n",
      " 15  LastSeen           354369 non-null  datetime64[ns]\n",
      "dtypes: datetime64[ns](3), int64(7), object(6)\n",
      "memory usage: 43.3+ MB\n"
     ]
    }
   ],
   "source": [
    "data.info()"
   ]
  },
  {
   "cell_type": "markdown",
   "metadata": {},
   "source": [
    "После первого взгляда на загруженные данные предлагаю все наименования полей привести к стандарту PEP8, а именно указать наименования со строчной буквы, разделить при помощи символа \"_\", а так же изменить DateCreated, DateCrawled и LastSeen к формату datatime (сделали это через parse при загрузке данных)"
   ]
  },
  {
   "cell_type": "code",
   "execution_count": 5,
   "metadata": {},
   "outputs": [],
   "source": [
    "data.columns = data.columns.str.lower()"
   ]
  },
  {
   "cell_type": "code",
   "execution_count": 6,
   "metadata": {},
   "outputs": [],
   "source": [
    "data.rename(columns = {'registrationyear': \"registration_year\",\n",
    "                       'registrationmonth': \"registration_month\",\n",
    "                      'datecreated': \"date_created\",\n",
    "                      \"numberofpictures\": 'number_of_pictures',\n",
    "                      \"postalcode\": 'postal_code',\n",
    "                      \"lastseen\": 'last_seen',\n",
    "                      \"fueltype\": 'fuel_type',\n",
    "                      \"datecrawled\": 'date_crawled',\n",
    "                      \"vehicletype\": 'vehicle_type'}, inplace = True)"
   ]
  },
  {
   "cell_type": "code",
   "execution_count": 7,
   "metadata": {},
   "outputs": [
    {
     "data": {
      "text/html": [
       "<div>\n",
       "<style scoped>\n",
       "    .dataframe tbody tr th:only-of-type {\n",
       "        vertical-align: middle;\n",
       "    }\n",
       "\n",
       "    .dataframe tbody tr th {\n",
       "        vertical-align: top;\n",
       "    }\n",
       "\n",
       "    .dataframe thead th {\n",
       "        text-align: right;\n",
       "    }\n",
       "</style>\n",
       "<table border=\"1\" class=\"dataframe\">\n",
       "  <thead>\n",
       "    <tr style=\"text-align: right;\">\n",
       "      <th></th>\n",
       "      <th>date_crawled</th>\n",
       "      <th>price</th>\n",
       "      <th>vehicle_type</th>\n",
       "      <th>registration_year</th>\n",
       "      <th>gearbox</th>\n",
       "      <th>power</th>\n",
       "      <th>model</th>\n",
       "      <th>kilometer</th>\n",
       "      <th>registration_month</th>\n",
       "      <th>fuel_type</th>\n",
       "      <th>brand</th>\n",
       "      <th>repaired</th>\n",
       "      <th>date_created</th>\n",
       "      <th>number_of_pictures</th>\n",
       "      <th>postal_code</th>\n",
       "      <th>last_seen</th>\n",
       "    </tr>\n",
       "  </thead>\n",
       "  <tbody>\n",
       "    <tr>\n",
       "      <th>0</th>\n",
       "      <td>2016-03-24 11:52:17</td>\n",
       "      <td>480</td>\n",
       "      <td>NaN</td>\n",
       "      <td>1993</td>\n",
       "      <td>manual</td>\n",
       "      <td>0</td>\n",
       "      <td>golf</td>\n",
       "      <td>150000</td>\n",
       "      <td>0</td>\n",
       "      <td>petrol</td>\n",
       "      <td>volkswagen</td>\n",
       "      <td>NaN</td>\n",
       "      <td>2016-03-24</td>\n",
       "      <td>0</td>\n",
       "      <td>70435</td>\n",
       "      <td>2016-04-07 03:16:57</td>\n",
       "    </tr>\n",
       "    <tr>\n",
       "      <th>1</th>\n",
       "      <td>2016-03-24 10:58:45</td>\n",
       "      <td>18300</td>\n",
       "      <td>coupe</td>\n",
       "      <td>2011</td>\n",
       "      <td>manual</td>\n",
       "      <td>190</td>\n",
       "      <td>NaN</td>\n",
       "      <td>125000</td>\n",
       "      <td>5</td>\n",
       "      <td>gasoline</td>\n",
       "      <td>audi</td>\n",
       "      <td>yes</td>\n",
       "      <td>2016-03-24</td>\n",
       "      <td>0</td>\n",
       "      <td>66954</td>\n",
       "      <td>2016-04-07 01:46:50</td>\n",
       "    </tr>\n",
       "    <tr>\n",
       "      <th>2</th>\n",
       "      <td>2016-03-14 12:52:21</td>\n",
       "      <td>9800</td>\n",
       "      <td>suv</td>\n",
       "      <td>2004</td>\n",
       "      <td>auto</td>\n",
       "      <td>163</td>\n",
       "      <td>grand</td>\n",
       "      <td>125000</td>\n",
       "      <td>8</td>\n",
       "      <td>gasoline</td>\n",
       "      <td>jeep</td>\n",
       "      <td>NaN</td>\n",
       "      <td>2016-03-14</td>\n",
       "      <td>0</td>\n",
       "      <td>90480</td>\n",
       "      <td>2016-04-05 12:47:46</td>\n",
       "    </tr>\n",
       "    <tr>\n",
       "      <th>3</th>\n",
       "      <td>2016-03-17 16:54:04</td>\n",
       "      <td>1500</td>\n",
       "      <td>small</td>\n",
       "      <td>2001</td>\n",
       "      <td>manual</td>\n",
       "      <td>75</td>\n",
       "      <td>golf</td>\n",
       "      <td>150000</td>\n",
       "      <td>6</td>\n",
       "      <td>petrol</td>\n",
       "      <td>volkswagen</td>\n",
       "      <td>no</td>\n",
       "      <td>2016-03-17</td>\n",
       "      <td>0</td>\n",
       "      <td>91074</td>\n",
       "      <td>2016-03-17 17:40:17</td>\n",
       "    </tr>\n",
       "    <tr>\n",
       "      <th>4</th>\n",
       "      <td>2016-03-31 17:25:20</td>\n",
       "      <td>3600</td>\n",
       "      <td>small</td>\n",
       "      <td>2008</td>\n",
       "      <td>manual</td>\n",
       "      <td>69</td>\n",
       "      <td>fabia</td>\n",
       "      <td>90000</td>\n",
       "      <td>7</td>\n",
       "      <td>gasoline</td>\n",
       "      <td>skoda</td>\n",
       "      <td>no</td>\n",
       "      <td>2016-03-31</td>\n",
       "      <td>0</td>\n",
       "      <td>60437</td>\n",
       "      <td>2016-04-06 10:17:21</td>\n",
       "    </tr>\n",
       "  </tbody>\n",
       "</table>\n",
       "</div>"
      ],
      "text/plain": [
       "         date_crawled  price vehicle_type  registration_year gearbox  power  \\\n",
       "0 2016-03-24 11:52:17    480          NaN               1993  manual      0   \n",
       "1 2016-03-24 10:58:45  18300        coupe               2011  manual    190   \n",
       "2 2016-03-14 12:52:21   9800          suv               2004    auto    163   \n",
       "3 2016-03-17 16:54:04   1500        small               2001  manual     75   \n",
       "4 2016-03-31 17:25:20   3600        small               2008  manual     69   \n",
       "\n",
       "   model  kilometer  registration_month fuel_type       brand repaired  \\\n",
       "0   golf     150000                   0    petrol  volkswagen      NaN   \n",
       "1    NaN     125000                   5  gasoline        audi      yes   \n",
       "2  grand     125000                   8  gasoline        jeep      NaN   \n",
       "3   golf     150000                   6    petrol  volkswagen       no   \n",
       "4  fabia      90000                   7  gasoline       skoda       no   \n",
       "\n",
       "  date_created  number_of_pictures  postal_code           last_seen  \n",
       "0   2016-03-24                   0        70435 2016-04-07 03:16:57  \n",
       "1   2016-03-24                   0        66954 2016-04-07 01:46:50  \n",
       "2   2016-03-14                   0        90480 2016-04-05 12:47:46  \n",
       "3   2016-03-17                   0        91074 2016-03-17 17:40:17  \n",
       "4   2016-03-31                   0        60437 2016-04-06 10:17:21  "
      ]
     },
     "execution_count": 7,
     "metadata": {},
     "output_type": "execute_result"
    }
   ],
   "source": [
    "data.head(5)"
   ]
  },
  {
   "cell_type": "markdown",
   "metadata": {},
   "source": [
    "Теперь данные приведены к стандарту PEP8. \\\n",
    "После загрузки видны пропуски в нескольких столбцах, в остальном всё впорядке, проведем предообработку данных."
   ]
  },
  {
   "cell_type": "markdown",
   "metadata": {},
   "source": [
    "### Предобработка данных"
   ]
  },
  {
   "cell_type": "code",
   "execution_count": 8,
   "metadata": {},
   "outputs": [
    {
     "data": {
      "text/plain": [
       "'Дубликаты data: 4'"
      ]
     },
     "metadata": {},
     "output_type": "display_data"
    }
   ],
   "source": [
    "display(f'Дубликаты data: {data.duplicated().sum()}')"
   ]
  },
  {
   "cell_type": "code",
   "execution_count": 9,
   "metadata": {},
   "outputs": [
    {
     "data": {
      "text/html": [
       "<div>\n",
       "<style scoped>\n",
       "    .dataframe tbody tr th:only-of-type {\n",
       "        vertical-align: middle;\n",
       "    }\n",
       "\n",
       "    .dataframe tbody tr th {\n",
       "        vertical-align: top;\n",
       "    }\n",
       "\n",
       "    .dataframe thead th {\n",
       "        text-align: right;\n",
       "    }\n",
       "</style>\n",
       "<table border=\"1\" class=\"dataframe\">\n",
       "  <thead>\n",
       "    <tr style=\"text-align: right;\">\n",
       "      <th></th>\n",
       "      <th>date_crawled</th>\n",
       "      <th>price</th>\n",
       "      <th>vehicle_type</th>\n",
       "      <th>registration_year</th>\n",
       "      <th>gearbox</th>\n",
       "      <th>power</th>\n",
       "      <th>model</th>\n",
       "      <th>kilometer</th>\n",
       "      <th>registration_month</th>\n",
       "      <th>fuel_type</th>\n",
       "      <th>brand</th>\n",
       "      <th>repaired</th>\n",
       "      <th>date_created</th>\n",
       "      <th>number_of_pictures</th>\n",
       "      <th>postal_code</th>\n",
       "      <th>last_seen</th>\n",
       "    </tr>\n",
       "  </thead>\n",
       "  <tbody>\n",
       "    <tr>\n",
       "      <th>171088</th>\n",
       "      <td>2016-03-08 18:42:48</td>\n",
       "      <td>1799</td>\n",
       "      <td>coupe</td>\n",
       "      <td>1999</td>\n",
       "      <td>auto</td>\n",
       "      <td>193</td>\n",
       "      <td>clk</td>\n",
       "      <td>20000</td>\n",
       "      <td>7</td>\n",
       "      <td>petrol</td>\n",
       "      <td>mercedes_benz</td>\n",
       "      <td>no</td>\n",
       "      <td>2016-03-08</td>\n",
       "      <td>0</td>\n",
       "      <td>89518</td>\n",
       "      <td>2016-03-09 09:46:57</td>\n",
       "    </tr>\n",
       "    <tr>\n",
       "      <th>231258</th>\n",
       "      <td>2016-03-28 00:56:10</td>\n",
       "      <td>1000</td>\n",
       "      <td>small</td>\n",
       "      <td>2002</td>\n",
       "      <td>manual</td>\n",
       "      <td>83</td>\n",
       "      <td>other</td>\n",
       "      <td>150000</td>\n",
       "      <td>1</td>\n",
       "      <td>petrol</td>\n",
       "      <td>suzuki</td>\n",
       "      <td>no</td>\n",
       "      <td>2016-03-28</td>\n",
       "      <td>0</td>\n",
       "      <td>66589</td>\n",
       "      <td>2016-03-28 08:46:21</td>\n",
       "    </tr>\n",
       "    <tr>\n",
       "      <th>258109</th>\n",
       "      <td>2016-04-03 09:01:15</td>\n",
       "      <td>4699</td>\n",
       "      <td>coupe</td>\n",
       "      <td>2003</td>\n",
       "      <td>auto</td>\n",
       "      <td>218</td>\n",
       "      <td>clk</td>\n",
       "      <td>125000</td>\n",
       "      <td>6</td>\n",
       "      <td>petrol</td>\n",
       "      <td>mercedes_benz</td>\n",
       "      <td>yes</td>\n",
       "      <td>2016-04-03</td>\n",
       "      <td>0</td>\n",
       "      <td>75196</td>\n",
       "      <td>2016-04-07 09:44:54</td>\n",
       "    </tr>\n",
       "    <tr>\n",
       "      <th>325651</th>\n",
       "      <td>2016-03-18 18:46:15</td>\n",
       "      <td>1999</td>\n",
       "      <td>wagon</td>\n",
       "      <td>2001</td>\n",
       "      <td>manual</td>\n",
       "      <td>131</td>\n",
       "      <td>passat</td>\n",
       "      <td>150000</td>\n",
       "      <td>7</td>\n",
       "      <td>gasoline</td>\n",
       "      <td>volkswagen</td>\n",
       "      <td>no</td>\n",
       "      <td>2016-03-18</td>\n",
       "      <td>0</td>\n",
       "      <td>36391</td>\n",
       "      <td>2016-03-18 18:46:15</td>\n",
       "    </tr>\n",
       "  </tbody>\n",
       "</table>\n",
       "</div>"
      ],
      "text/plain": [
       "              date_crawled  price vehicle_type  registration_year gearbox  \\\n",
       "171088 2016-03-08 18:42:48   1799        coupe               1999    auto   \n",
       "231258 2016-03-28 00:56:10   1000        small               2002  manual   \n",
       "258109 2016-04-03 09:01:15   4699        coupe               2003    auto   \n",
       "325651 2016-03-18 18:46:15   1999        wagon               2001  manual   \n",
       "\n",
       "        power   model  kilometer  registration_month fuel_type          brand  \\\n",
       "171088    193     clk      20000                   7    petrol  mercedes_benz   \n",
       "231258     83   other     150000                   1    petrol         suzuki   \n",
       "258109    218     clk     125000                   6    petrol  mercedes_benz   \n",
       "325651    131  passat     150000                   7  gasoline     volkswagen   \n",
       "\n",
       "       repaired date_created  number_of_pictures  postal_code  \\\n",
       "171088       no   2016-03-08                   0        89518   \n",
       "231258       no   2016-03-28                   0        66589   \n",
       "258109      yes   2016-04-03                   0        75196   \n",
       "325651       no   2016-03-18                   0        36391   \n",
       "\n",
       "                 last_seen  \n",
       "171088 2016-03-09 09:46:57  \n",
       "231258 2016-03-28 08:46:21  \n",
       "258109 2016-04-07 09:44:54  \n",
       "325651 2016-03-18 18:46:15  "
      ]
     },
     "execution_count": 9,
     "metadata": {},
     "output_type": "execute_result"
    }
   ],
   "source": [
    "data[data.duplicated()]"
   ]
  },
  {
   "cell_type": "markdown",
   "metadata": {},
   "source": [
    "обнаружили 4 дубликата, предлагаю их удалить"
   ]
  },
  {
   "cell_type": "code",
   "execution_count": 10,
   "metadata": {},
   "outputs": [],
   "source": [
    "data = data.drop_duplicates()"
   ]
  },
  {
   "cell_type": "code",
   "execution_count": 11,
   "metadata": {},
   "outputs": [
    {
     "data": {
      "text/plain": [
       "'Дубликаты data: 0'"
      ]
     },
     "metadata": {},
     "output_type": "display_data"
    }
   ],
   "source": [
    "display(f'Дубликаты data: {data.duplicated().sum()}')"
   ]
  },
  {
   "cell_type": "markdown",
   "metadata": {},
   "source": [
    "Предлагаю избавиться от столбцов, которые нам не нужны. При выборе нужных столбцов ориентировался на логику."
   ]
  },
  {
   "cell_type": "code",
   "execution_count": 12,
   "metadata": {},
   "outputs": [],
   "source": [
    "data = data.drop(['number_of_pictures', \n",
    "                  'postal_code', 'date_created',\n",
    "                  'last_seen', 'registration_month',\n",
    "                  'date_crawled'], axis=1)"
   ]
  },
  {
   "cell_type": "code",
   "execution_count": 13,
   "metadata": {},
   "outputs": [
    {
     "data": {
      "text/html": [
       "<div>\n",
       "<style scoped>\n",
       "    .dataframe tbody tr th:only-of-type {\n",
       "        vertical-align: middle;\n",
       "    }\n",
       "\n",
       "    .dataframe tbody tr th {\n",
       "        vertical-align: top;\n",
       "    }\n",
       "\n",
       "    .dataframe thead th {\n",
       "        text-align: right;\n",
       "    }\n",
       "</style>\n",
       "<table border=\"1\" class=\"dataframe\">\n",
       "  <thead>\n",
       "    <tr style=\"text-align: right;\">\n",
       "      <th></th>\n",
       "      <th>price</th>\n",
       "      <th>vehicle_type</th>\n",
       "      <th>registration_year</th>\n",
       "      <th>gearbox</th>\n",
       "      <th>power</th>\n",
       "      <th>model</th>\n",
       "      <th>kilometer</th>\n",
       "      <th>fuel_type</th>\n",
       "      <th>brand</th>\n",
       "      <th>repaired</th>\n",
       "    </tr>\n",
       "  </thead>\n",
       "  <tbody>\n",
       "    <tr>\n",
       "      <th>0</th>\n",
       "      <td>480</td>\n",
       "      <td>NaN</td>\n",
       "      <td>1993</td>\n",
       "      <td>manual</td>\n",
       "      <td>0</td>\n",
       "      <td>golf</td>\n",
       "      <td>150000</td>\n",
       "      <td>petrol</td>\n",
       "      <td>volkswagen</td>\n",
       "      <td>NaN</td>\n",
       "    </tr>\n",
       "    <tr>\n",
       "      <th>1</th>\n",
       "      <td>18300</td>\n",
       "      <td>coupe</td>\n",
       "      <td>2011</td>\n",
       "      <td>manual</td>\n",
       "      <td>190</td>\n",
       "      <td>NaN</td>\n",
       "      <td>125000</td>\n",
       "      <td>gasoline</td>\n",
       "      <td>audi</td>\n",
       "      <td>yes</td>\n",
       "    </tr>\n",
       "    <tr>\n",
       "      <th>2</th>\n",
       "      <td>9800</td>\n",
       "      <td>suv</td>\n",
       "      <td>2004</td>\n",
       "      <td>auto</td>\n",
       "      <td>163</td>\n",
       "      <td>grand</td>\n",
       "      <td>125000</td>\n",
       "      <td>gasoline</td>\n",
       "      <td>jeep</td>\n",
       "      <td>NaN</td>\n",
       "    </tr>\n",
       "  </tbody>\n",
       "</table>\n",
       "</div>"
      ],
      "text/plain": [
       "   price vehicle_type  registration_year gearbox  power  model  kilometer  \\\n",
       "0    480          NaN               1993  manual      0   golf     150000   \n",
       "1  18300        coupe               2011  manual    190    NaN     125000   \n",
       "2   9800          suv               2004    auto    163  grand     125000   \n",
       "\n",
       "  fuel_type       brand repaired  \n",
       "0    petrol  volkswagen      NaN  \n",
       "1  gasoline        audi      yes  \n",
       "2  gasoline        jeep      NaN  "
      ]
     },
     "execution_count": 13,
     "metadata": {},
     "output_type": "execute_result"
    }
   ],
   "source": [
    "data.head(3)"
   ]
  },
  {
   "cell_type": "markdown",
   "metadata": {},
   "source": [
    "### Пропуски"
   ]
  },
  {
   "cell_type": "code",
   "execution_count": 14,
   "metadata": {},
   "outputs": [],
   "source": [
    "#repaired заменим на unknown\n",
    "data.repaired.fillna('unknown', inplace=True)"
   ]
  },
  {
   "cell_type": "code",
   "execution_count": 15,
   "metadata": {},
   "outputs": [
    {
     "data": {
      "text/plain": [
       "array(['unknown', 'yes', 'no'], dtype=object)"
      ]
     },
     "execution_count": 15,
     "metadata": {},
     "output_type": "execute_result"
    }
   ],
   "source": [
    "data.repaired.unique()"
   ]
  },
  {
   "cell_type": "code",
   "execution_count": 16,
   "metadata": {},
   "outputs": [],
   "source": [
    "#data.fuel заменим на other\n",
    "data['fuel_type'] = data['fuel_type'].fillna('other')"
   ]
  },
  {
   "cell_type": "code",
   "execution_count": 17,
   "metadata": {},
   "outputs": [
    {
     "data": {
      "text/html": [
       "<div>\n",
       "<style scoped>\n",
       "    .dataframe tbody tr th:only-of-type {\n",
       "        vertical-align: middle;\n",
       "    }\n",
       "\n",
       "    .dataframe tbody tr th {\n",
       "        vertical-align: top;\n",
       "    }\n",
       "\n",
       "    .dataframe thead th {\n",
       "        text-align: right;\n",
       "    }\n",
       "</style>\n",
       "<table border=\"1\" class=\"dataframe\">\n",
       "  <thead>\n",
       "    <tr style=\"text-align: right;\">\n",
       "      <th></th>\n",
       "      <th>price</th>\n",
       "      <th>vehicle_type</th>\n",
       "      <th>registration_year</th>\n",
       "      <th>gearbox</th>\n",
       "      <th>power</th>\n",
       "      <th>model</th>\n",
       "      <th>kilometer</th>\n",
       "      <th>fuel_type</th>\n",
       "      <th>brand</th>\n",
       "      <th>repaired</th>\n",
       "    </tr>\n",
       "  </thead>\n",
       "  <tbody>\n",
       "    <tr>\n",
       "      <th>0</th>\n",
       "      <td>480</td>\n",
       "      <td>NaN</td>\n",
       "      <td>1993</td>\n",
       "      <td>manual</td>\n",
       "      <td>0</td>\n",
       "      <td>golf</td>\n",
       "      <td>150000</td>\n",
       "      <td>petrol</td>\n",
       "      <td>volkswagen</td>\n",
       "      <td>unknown</td>\n",
       "    </tr>\n",
       "    <tr>\n",
       "      <th>1</th>\n",
       "      <td>18300</td>\n",
       "      <td>coupe</td>\n",
       "      <td>2011</td>\n",
       "      <td>manual</td>\n",
       "      <td>190</td>\n",
       "      <td>NaN</td>\n",
       "      <td>125000</td>\n",
       "      <td>gasoline</td>\n",
       "      <td>audi</td>\n",
       "      <td>yes</td>\n",
       "    </tr>\n",
       "    <tr>\n",
       "      <th>2</th>\n",
       "      <td>9800</td>\n",
       "      <td>suv</td>\n",
       "      <td>2004</td>\n",
       "      <td>auto</td>\n",
       "      <td>163</td>\n",
       "      <td>grand</td>\n",
       "      <td>125000</td>\n",
       "      <td>gasoline</td>\n",
       "      <td>jeep</td>\n",
       "      <td>unknown</td>\n",
       "    </tr>\n",
       "  </tbody>\n",
       "</table>\n",
       "</div>"
      ],
      "text/plain": [
       "   price vehicle_type  registration_year gearbox  power  model  kilometer  \\\n",
       "0    480          NaN               1993  manual      0   golf     150000   \n",
       "1  18300        coupe               2011  manual    190    NaN     125000   \n",
       "2   9800          suv               2004    auto    163  grand     125000   \n",
       "\n",
       "  fuel_type       brand repaired  \n",
       "0    petrol  volkswagen  unknown  \n",
       "1  gasoline        audi      yes  \n",
       "2  gasoline        jeep  unknown  "
      ]
     },
     "execution_count": 17,
     "metadata": {},
     "output_type": "execute_result"
    }
   ],
   "source": [
    "data.head(3)"
   ]
  },
  {
   "cell_type": "code",
   "execution_count": 18,
   "metadata": {},
   "outputs": [
    {
     "data": {
      "text/plain": [
       "array(['petrol', 'gasoline', 'other', 'lpg', 'hybrid', 'cng', 'electric'],\n",
       "      dtype=object)"
      ]
     },
     "execution_count": 18,
     "metadata": {},
     "output_type": "execute_result"
    }
   ],
   "source": [
    "data.fuel_type.unique()"
   ]
  },
  {
   "cell_type": "code",
   "execution_count": 19,
   "metadata": {},
   "outputs": [],
   "source": [
    "# vehicle_type заменим на other\n",
    "data['vehicle_type'] = data['vehicle_type'].fillna('other')"
   ]
  },
  {
   "cell_type": "code",
   "execution_count": 20,
   "metadata": {},
   "outputs": [
    {
     "data": {
      "text/plain": [
       "array(['other', 'coupe', 'suv', 'small', 'sedan', 'convertible', 'bus',\n",
       "       'wagon'], dtype=object)"
      ]
     },
     "execution_count": 20,
     "metadata": {},
     "output_type": "execute_result"
    }
   ],
   "source": [
    "data.vehicle_type.unique()"
   ]
  },
  {
   "cell_type": "code",
   "execution_count": 21,
   "metadata": {},
   "outputs": [],
   "source": [
    "# gearbox заменим на other\n",
    "data['gearbox'] = data['gearbox'].fillna('other')"
   ]
  },
  {
   "cell_type": "code",
   "execution_count": 22,
   "metadata": {},
   "outputs": [
    {
     "data": {
      "text/plain": [
       "array(['manual', 'auto', 'other'], dtype=object)"
      ]
     },
     "execution_count": 22,
     "metadata": {},
     "output_type": "execute_result"
    }
   ],
   "source": [
    "data.gearbox.unique()"
   ]
  },
  {
   "cell_type": "code",
   "execution_count": 23,
   "metadata": {},
   "outputs": [],
   "source": [
    "# model заменим на моду\n",
    "data['model'] = data['model'].fillna(data['model'].mode().values[0])"
   ]
  },
  {
   "cell_type": "code",
   "execution_count": 24,
   "metadata": {},
   "outputs": [
    {
     "data": {
      "text/plain": [
       "array(['golf', 'grand', 'fabia', '3er', '2_reihe', 'other', 'c_max',\n",
       "       '3_reihe', 'passat', 'navara', 'ka', 'polo', 'twingo', 'a_klasse',\n",
       "       'scirocco', '5er', 'meriva', 'arosa', 'c4', 'civic', 'transporter',\n",
       "       'punto', 'e_klasse', 'clio', 'kadett', 'kangoo', 'corsa', 'one',\n",
       "       'fortwo', '1er', 'b_klasse', 'signum', 'astra', 'a8', 'jetta',\n",
       "       'fiesta', 'c_klasse', 'micra', 'vito', 'sprinter', '156', 'escort',\n",
       "       'forester', 'xc_reihe', 'scenic', 'a4', 'a1', 'insignia', 'combo',\n",
       "       'focus', 'tt', 'a6', 'jazz', 'omega', 'slk', '7er', '80', '147',\n",
       "       '100', 'z_reihe', 'sportage', 'sorento', 'v40', 'ibiza', 'mustang',\n",
       "       'eos', 'touran', 'getz', 'a3', 'almera', 'megane', 'lupo', 'r19',\n",
       "       'zafira', 'caddy', 'mondeo', 'cordoba', 'colt', 'impreza',\n",
       "       'vectra', 'berlingo', 'tiguan', 'i_reihe', 'espace', 'sharan',\n",
       "       '6_reihe', 'panda', 'up', 'seicento', 'ceed', '5_reihe', 'yeti',\n",
       "       'octavia', 'mii', 'rx_reihe', '6er', 'modus', 'fox', 'matiz',\n",
       "       'beetle', 'c1', 'rio', 'touareg', 'logan', 'spider', 'cuore',\n",
       "       's_max', 'a2', 'galaxy', 'c3', 'viano', 's_klasse', '1_reihe',\n",
       "       'avensis', 'roomster', 'sl', 'kaefer', 'santa', 'cooper', 'leon',\n",
       "       '4_reihe', 'a5', '500', 'laguna', 'ptcruiser', 'clk', 'primera',\n",
       "       'x_reihe', 'exeo', '159', 'transit', 'juke', 'qashqai', 'carisma',\n",
       "       'accord', 'corolla', 'lanos', 'phaeton', 'verso', 'swift', 'rav',\n",
       "       'picanto', 'boxster', 'kalos', 'superb', 'stilo', 'alhambra',\n",
       "       'mx_reihe', 'roadster', 'ypsilon', 'cayenne', 'galant', 'justy',\n",
       "       '90', 'sirion', 'crossfire', 'agila', 'duster', 'cr_reihe', 'v50',\n",
       "       'c_reihe', 'v_klasse', 'm_klasse', 'yaris', 'c5', 'aygo', 'cc',\n",
       "       'carnival', 'fusion', '911', 'bora', 'forfour', 'm_reihe', 'cl',\n",
       "       'tigra', '300c', 'spark', 'v70', 'kuga', 'x_type', 'ducato',\n",
       "       's_type', 'x_trail', 'toledo', 'altea', 'voyager', 'calibra',\n",
       "       'bravo', 'antara', 'tucson', 'citigo', 'jimny', 'wrangler',\n",
       "       'lybra', 'q7', 'lancer', 'captiva', 'c2', 'discovery',\n",
       "       'freelander', 'sandero', 'note', '900', 'cherokee', 'clubman',\n",
       "       'samara', 'defender', '601', 'cx_reihe', 'legacy', 'pajero',\n",
       "       'auris', 'niva', 's60', 'nubira', 'vivaro', 'g_klasse', 'lodgy',\n",
       "       '850', 'range_rover', 'q3', 'serie_2', 'glk', 'charade', 'croma',\n",
       "       'outlander', 'doblo', 'musa', 'move', '9000', 'v60', '145', 'aveo',\n",
       "       '200', 'b_max', 'range_rover_sport', 'terios', 'rangerover', 'q5',\n",
       "       'range_rover_evoque', 'materia', 'delta', 'gl', 'kalina', 'amarok',\n",
       "       'elefantino', 'i3', 'kappa', 'serie_3', 'serie_1'], dtype=object)"
      ]
     },
     "execution_count": 24,
     "metadata": {},
     "output_type": "execute_result"
    }
   ],
   "source": [
    "data.model.unique()"
   ]
  },
  {
   "cell_type": "code",
   "execution_count": 25,
   "metadata": {},
   "outputs": [
    {
     "data": {
      "text/plain": [
       "array(['volkswagen', 'audi', 'jeep', 'skoda', 'bmw', 'peugeot', 'ford',\n",
       "       'mazda', 'nissan', 'renault', 'mercedes_benz', 'opel', 'seat',\n",
       "       'citroen', 'honda', 'fiat', 'mini', 'smart', 'hyundai',\n",
       "       'sonstige_autos', 'alfa_romeo', 'subaru', 'volvo', 'mitsubishi',\n",
       "       'kia', 'suzuki', 'lancia', 'toyota', 'chevrolet', 'dacia',\n",
       "       'daihatsu', 'trabant', 'saab', 'chrysler', 'jaguar', 'daewoo',\n",
       "       'porsche', 'rover', 'land_rover', 'lada'], dtype=object)"
      ]
     },
     "execution_count": 25,
     "metadata": {},
     "output_type": "execute_result"
    }
   ],
   "source": [
    "# brand\n",
    "data.brand.unique()"
   ]
  },
  {
   "cell_type": "markdown",
   "metadata": {},
   "source": [
    "тут всё норм"
   ]
  },
  {
   "cell_type": "code",
   "execution_count": 26,
   "metadata": {},
   "outputs": [
    {
     "data": {
      "text/plain": [
       "price                3731\n",
       "vehicle_type            8\n",
       "registration_year     151\n",
       "gearbox                 3\n",
       "power                 712\n",
       "model                 250\n",
       "kilometer              13\n",
       "fuel_type               7\n",
       "brand                  40\n",
       "repaired                3\n",
       "dtype: int64"
      ]
     },
     "execution_count": 26,
     "metadata": {},
     "output_type": "execute_result"
    }
   ],
   "source": [
    "data.nunique()"
   ]
  },
  {
   "cell_type": "markdown",
   "metadata": {},
   "source": [
    "Смущают следующие значения, предлагаю рассмотреть их подробнее \\\n",
    "#vehicle_type               8 \\\n",
    "#registration_year        151 \\\n",
    "#fuel_type                  7 \\\n",
    "#brand                     40 "
   ]
  },
  {
   "cell_type": "code",
   "execution_count": 27,
   "metadata": {},
   "outputs": [
    {
     "data": {
      "text/plain": [
       "array(['other', 'coupe', 'suv', 'small', 'sedan', 'convertible', 'bus',\n",
       "       'wagon'], dtype=object)"
      ]
     },
     "execution_count": 27,
     "metadata": {},
     "output_type": "execute_result"
    }
   ],
   "source": [
    "data.vehicle_type.unique()"
   ]
  },
  {
   "cell_type": "markdown",
   "metadata": {},
   "source": [
    "всё норм"
   ]
  },
  {
   "cell_type": "code",
   "execution_count": 28,
   "metadata": {},
   "outputs": [
    {
     "data": {
      "text/plain": [
       "array([1000, 1001, 1039, 1111, 1200, 1234, 1253, 1255, 1300, 1400, 1500,\n",
       "       1600, 1602, 1688, 1800, 1910, 1915, 1919, 1920, 1923, 1925, 1927,\n",
       "       1928, 1929, 1930, 1931, 1932, 1933, 1934, 1935, 1936, 1937, 1938,\n",
       "       1940, 1941, 1942, 1943, 1944, 1945, 1946, 1947, 1948, 1949, 1950,\n",
       "       1951, 1952, 1953, 1954, 1955, 1956, 1957, 1958, 1959, 1960, 1961,\n",
       "       1962, 1963, 1964, 1965, 1966, 1967, 1968, 1969, 1970, 1971, 1972,\n",
       "       1973, 1974, 1975, 1976, 1977, 1978, 1979, 1980, 1981, 1982, 1983,\n",
       "       1984, 1985, 1986, 1987, 1988, 1989, 1990, 1991, 1992, 1993, 1994,\n",
       "       1995, 1996, 1997, 1998, 1999, 2000, 2001, 2002, 2003, 2004, 2005,\n",
       "       2006, 2007, 2008, 2009, 2010, 2011, 2012, 2013, 2014, 2015, 2016,\n",
       "       2017, 2018, 2019, 2066, 2200, 2222, 2290, 2500, 2800, 2900, 3000,\n",
       "       3200, 3500, 3700, 3800, 4000, 4100, 4500, 4800, 5000, 5300, 5555,\n",
       "       5600, 5900, 5911, 6000, 6500, 7000, 7100, 7500, 7800, 8000, 8200,\n",
       "       8455, 8500, 8888, 9000, 9229, 9450, 9996, 9999])"
      ]
     },
     "execution_count": 28,
     "metadata": {},
     "output_type": "execute_result"
    }
   ],
   "source": [
    "sort_registration_year = data.registration_year.unique()\n",
    "sort_registration_year.sort()\n",
    "sort_registration_year"
   ]
  },
  {
   "cell_type": "markdown",
   "metadata": {},
   "source": [
    "совсем бардак..."
   ]
  },
  {
   "cell_type": "code",
   "execution_count": 29,
   "metadata": {},
   "outputs": [
    {
     "data": {
      "text/html": [
       "<div>\n",
       "<style scoped>\n",
       "    .dataframe tbody tr th:only-of-type {\n",
       "        vertical-align: middle;\n",
       "    }\n",
       "\n",
       "    .dataframe tbody tr th {\n",
       "        vertical-align: top;\n",
       "    }\n",
       "\n",
       "    .dataframe thead th {\n",
       "        text-align: right;\n",
       "    }\n",
       "</style>\n",
       "<table border=\"1\" class=\"dataframe\">\n",
       "  <thead>\n",
       "    <tr style=\"text-align: right;\">\n",
       "      <th></th>\n",
       "      <th>price</th>\n",
       "      <th>vehicle_type</th>\n",
       "      <th>registration_year</th>\n",
       "      <th>gearbox</th>\n",
       "      <th>power</th>\n",
       "      <th>model</th>\n",
       "      <th>kilometer</th>\n",
       "      <th>fuel_type</th>\n",
       "      <th>brand</th>\n",
       "      <th>repaired</th>\n",
       "    </tr>\n",
       "  </thead>\n",
       "  <tbody>\n",
       "    <tr>\n",
       "      <th>622</th>\n",
       "      <td>0</td>\n",
       "      <td>other</td>\n",
       "      <td>1111</td>\n",
       "      <td>other</td>\n",
       "      <td>0</td>\n",
       "      <td>golf</td>\n",
       "      <td>5000</td>\n",
       "      <td>other</td>\n",
       "      <td>opel</td>\n",
       "      <td>unknown</td>\n",
       "    </tr>\n",
       "    <tr>\n",
       "      <th>16062</th>\n",
       "      <td>190</td>\n",
       "      <td>other</td>\n",
       "      <td>1000</td>\n",
       "      <td>other</td>\n",
       "      <td>0</td>\n",
       "      <td>mondeo</td>\n",
       "      <td>5000</td>\n",
       "      <td>other</td>\n",
       "      <td>ford</td>\n",
       "      <td>unknown</td>\n",
       "    </tr>\n",
       "    <tr>\n",
       "      <th>18224</th>\n",
       "      <td>7999</td>\n",
       "      <td>other</td>\n",
       "      <td>1500</td>\n",
       "      <td>manual</td>\n",
       "      <td>224</td>\n",
       "      <td>impreza</td>\n",
       "      <td>5000</td>\n",
       "      <td>other</td>\n",
       "      <td>subaru</td>\n",
       "      <td>unknown</td>\n",
       "    </tr>\n",
       "    <tr>\n",
       "      <th>34332</th>\n",
       "      <td>450</td>\n",
       "      <td>other</td>\n",
       "      <td>1800</td>\n",
       "      <td>other</td>\n",
       "      <td>1800</td>\n",
       "      <td>golf</td>\n",
       "      <td>5000</td>\n",
       "      <td>other</td>\n",
       "      <td>mitsubishi</td>\n",
       "      <td>no</td>\n",
       "    </tr>\n",
       "    <tr>\n",
       "      <th>38875</th>\n",
       "      <td>1234</td>\n",
       "      <td>other</td>\n",
       "      <td>1234</td>\n",
       "      <td>other</td>\n",
       "      <td>26</td>\n",
       "      <td>golf</td>\n",
       "      <td>5000</td>\n",
       "      <td>other</td>\n",
       "      <td>trabant</td>\n",
       "      <td>unknown</td>\n",
       "    </tr>\n",
       "    <tr>\n",
       "      <th>...</th>\n",
       "      <td>...</td>\n",
       "      <td>...</td>\n",
       "      <td>...</td>\n",
       "      <td>...</td>\n",
       "      <td>...</td>\n",
       "      <td>...</td>\n",
       "      <td>...</td>\n",
       "      <td>...</td>\n",
       "      <td>...</td>\n",
       "      <td>...</td>\n",
       "    </tr>\n",
       "    <tr>\n",
       "      <th>323443</th>\n",
       "      <td>30</td>\n",
       "      <td>other</td>\n",
       "      <td>1000</td>\n",
       "      <td>other</td>\n",
       "      <td>0</td>\n",
       "      <td>golf</td>\n",
       "      <td>5000</td>\n",
       "      <td>other</td>\n",
       "      <td>audi</td>\n",
       "      <td>unknown</td>\n",
       "    </tr>\n",
       "    <tr>\n",
       "      <th>325739</th>\n",
       "      <td>400</td>\n",
       "      <td>other</td>\n",
       "      <td>1000</td>\n",
       "      <td>other</td>\n",
       "      <td>0</td>\n",
       "      <td>golf</td>\n",
       "      <td>5000</td>\n",
       "      <td>other</td>\n",
       "      <td>mercedes_benz</td>\n",
       "      <td>unknown</td>\n",
       "    </tr>\n",
       "    <tr>\n",
       "      <th>340759</th>\n",
       "      <td>700</td>\n",
       "      <td>other</td>\n",
       "      <td>1600</td>\n",
       "      <td>manual</td>\n",
       "      <td>1600</td>\n",
       "      <td>a3</td>\n",
       "      <td>150000</td>\n",
       "      <td>petrol</td>\n",
       "      <td>audi</td>\n",
       "      <td>no</td>\n",
       "    </tr>\n",
       "    <tr>\n",
       "      <th>348830</th>\n",
       "      <td>1</td>\n",
       "      <td>other</td>\n",
       "      <td>1000</td>\n",
       "      <td>other</td>\n",
       "      <td>1000</td>\n",
       "      <td>golf</td>\n",
       "      <td>150000</td>\n",
       "      <td>other</td>\n",
       "      <td>sonstige_autos</td>\n",
       "      <td>unknown</td>\n",
       "    </tr>\n",
       "    <tr>\n",
       "      <th>351682</th>\n",
       "      <td>11500</td>\n",
       "      <td>other</td>\n",
       "      <td>1800</td>\n",
       "      <td>other</td>\n",
       "      <td>16</td>\n",
       "      <td>other</td>\n",
       "      <td>5000</td>\n",
       "      <td>petrol</td>\n",
       "      <td>fiat</td>\n",
       "      <td>unknown</td>\n",
       "    </tr>\n",
       "  </tbody>\n",
       "</table>\n",
       "<p>66 rows × 10 columns</p>\n",
       "</div>"
      ],
      "text/plain": [
       "        price vehicle_type  registration_year gearbox  power    model  \\\n",
       "622         0        other               1111   other      0     golf   \n",
       "16062     190        other               1000   other      0   mondeo   \n",
       "18224    7999        other               1500  manual    224  impreza   \n",
       "34332     450        other               1800   other   1800     golf   \n",
       "38875    1234        other               1234   other     26     golf   \n",
       "...       ...          ...                ...     ...    ...      ...   \n",
       "323443     30        other               1000   other      0     golf   \n",
       "325739    400        other               1000   other      0     golf   \n",
       "340759    700        other               1600  manual   1600       a3   \n",
       "348830      1        other               1000   other   1000     golf   \n",
       "351682  11500        other               1800   other     16    other   \n",
       "\n",
       "        kilometer fuel_type           brand repaired  \n",
       "622          5000     other            opel  unknown  \n",
       "16062        5000     other            ford  unknown  \n",
       "18224        5000     other          subaru  unknown  \n",
       "34332        5000     other      mitsubishi       no  \n",
       "38875        5000     other         trabant  unknown  \n",
       "...           ...       ...             ...      ...  \n",
       "323443       5000     other            audi  unknown  \n",
       "325739       5000     other   mercedes_benz  unknown  \n",
       "340759     150000    petrol            audi       no  \n",
       "348830     150000     other  sonstige_autos  unknown  \n",
       "351682       5000    petrol            fiat  unknown  \n",
       "\n",
       "[66 rows x 10 columns]"
      ]
     },
     "metadata": {},
     "output_type": "display_data"
    }
   ],
   "source": [
    "display(data[data.registration_year < 1910])\n",
    "data_drop_1910 = data[data.registration_year < 1910].index.to_list()"
   ]
  },
  {
   "cell_type": "code",
   "execution_count": 30,
   "metadata": {},
   "outputs": [
    {
     "data": {
      "text/html": [
       "<div>\n",
       "<style scoped>\n",
       "    .dataframe tbody tr th:only-of-type {\n",
       "        vertical-align: middle;\n",
       "    }\n",
       "\n",
       "    .dataframe tbody tr th {\n",
       "        vertical-align: top;\n",
       "    }\n",
       "\n",
       "    .dataframe thead th {\n",
       "        text-align: right;\n",
       "    }\n",
       "</style>\n",
       "<table border=\"1\" class=\"dataframe\">\n",
       "  <thead>\n",
       "    <tr style=\"text-align: right;\">\n",
       "      <th></th>\n",
       "      <th>price</th>\n",
       "      <th>vehicle_type</th>\n",
       "      <th>registration_year</th>\n",
       "      <th>gearbox</th>\n",
       "      <th>power</th>\n",
       "      <th>model</th>\n",
       "      <th>kilometer</th>\n",
       "      <th>fuel_type</th>\n",
       "      <th>brand</th>\n",
       "      <th>repaired</th>\n",
       "    </tr>\n",
       "  </thead>\n",
       "  <tbody>\n",
       "    <tr>\n",
       "      <th>22</th>\n",
       "      <td>2900</td>\n",
       "      <td>other</td>\n",
       "      <td>2018</td>\n",
       "      <td>manual</td>\n",
       "      <td>90</td>\n",
       "      <td>meriva</td>\n",
       "      <td>150000</td>\n",
       "      <td>petrol</td>\n",
       "      <td>opel</td>\n",
       "      <td>no</td>\n",
       "    </tr>\n",
       "    <tr>\n",
       "      <th>26</th>\n",
       "      <td>5555</td>\n",
       "      <td>other</td>\n",
       "      <td>2017</td>\n",
       "      <td>manual</td>\n",
       "      <td>125</td>\n",
       "      <td>c4</td>\n",
       "      <td>125000</td>\n",
       "      <td>other</td>\n",
       "      <td>citroen</td>\n",
       "      <td>no</td>\n",
       "    </tr>\n",
       "    <tr>\n",
       "      <th>48</th>\n",
       "      <td>7750</td>\n",
       "      <td>other</td>\n",
       "      <td>2017</td>\n",
       "      <td>manual</td>\n",
       "      <td>80</td>\n",
       "      <td>golf</td>\n",
       "      <td>100000</td>\n",
       "      <td>petrol</td>\n",
       "      <td>volkswagen</td>\n",
       "      <td>unknown</td>\n",
       "    </tr>\n",
       "    <tr>\n",
       "      <th>51</th>\n",
       "      <td>2000</td>\n",
       "      <td>other</td>\n",
       "      <td>2017</td>\n",
       "      <td>manual</td>\n",
       "      <td>90</td>\n",
       "      <td>punto</td>\n",
       "      <td>150000</td>\n",
       "      <td>gasoline</td>\n",
       "      <td>fiat</td>\n",
       "      <td>yes</td>\n",
       "    </tr>\n",
       "    <tr>\n",
       "      <th>57</th>\n",
       "      <td>2399</td>\n",
       "      <td>other</td>\n",
       "      <td>2018</td>\n",
       "      <td>manual</td>\n",
       "      <td>64</td>\n",
       "      <td>other</td>\n",
       "      <td>125000</td>\n",
       "      <td>other</td>\n",
       "      <td>seat</td>\n",
       "      <td>no</td>\n",
       "    </tr>\n",
       "    <tr>\n",
       "      <th>...</th>\n",
       "      <td>...</td>\n",
       "      <td>...</td>\n",
       "      <td>...</td>\n",
       "      <td>...</td>\n",
       "      <td>...</td>\n",
       "      <td>...</td>\n",
       "      <td>...</td>\n",
       "      <td>...</td>\n",
       "      <td>...</td>\n",
       "      <td>...</td>\n",
       "    </tr>\n",
       "    <tr>\n",
       "      <th>354112</th>\n",
       "      <td>3600</td>\n",
       "      <td>other</td>\n",
       "      <td>2017</td>\n",
       "      <td>manual</td>\n",
       "      <td>86</td>\n",
       "      <td>transit</td>\n",
       "      <td>150000</td>\n",
       "      <td>gasoline</td>\n",
       "      <td>ford</td>\n",
       "      <td>unknown</td>\n",
       "    </tr>\n",
       "    <tr>\n",
       "      <th>354140</th>\n",
       "      <td>1000</td>\n",
       "      <td>other</td>\n",
       "      <td>2017</td>\n",
       "      <td>manual</td>\n",
       "      <td>101</td>\n",
       "      <td>a4</td>\n",
       "      <td>150000</td>\n",
       "      <td>other</td>\n",
       "      <td>audi</td>\n",
       "      <td>unknown</td>\n",
       "    </tr>\n",
       "    <tr>\n",
       "      <th>354203</th>\n",
       "      <td>2140</td>\n",
       "      <td>other</td>\n",
       "      <td>2018</td>\n",
       "      <td>manual</td>\n",
       "      <td>80</td>\n",
       "      <td>fiesta</td>\n",
       "      <td>150000</td>\n",
       "      <td>other</td>\n",
       "      <td>ford</td>\n",
       "      <td>no</td>\n",
       "    </tr>\n",
       "    <tr>\n",
       "      <th>354253</th>\n",
       "      <td>1250</td>\n",
       "      <td>other</td>\n",
       "      <td>2018</td>\n",
       "      <td>other</td>\n",
       "      <td>0</td>\n",
       "      <td>corsa</td>\n",
       "      <td>150000</td>\n",
       "      <td>petrol</td>\n",
       "      <td>opel</td>\n",
       "      <td>unknown</td>\n",
       "    </tr>\n",
       "    <tr>\n",
       "      <th>354289</th>\n",
       "      <td>5000</td>\n",
       "      <td>other</td>\n",
       "      <td>2017</td>\n",
       "      <td>manual</td>\n",
       "      <td>120</td>\n",
       "      <td>other</td>\n",
       "      <td>150000</td>\n",
       "      <td>other</td>\n",
       "      <td>citroen</td>\n",
       "      <td>yes</td>\n",
       "    </tr>\n",
       "  </tbody>\n",
       "</table>\n",
       "<p>14530 rows × 10 columns</p>\n",
       "</div>"
      ],
      "text/plain": [
       "        price vehicle_type  registration_year gearbox  power    model  \\\n",
       "22       2900        other               2018  manual     90   meriva   \n",
       "26       5555        other               2017  manual    125       c4   \n",
       "48       7750        other               2017  manual     80     golf   \n",
       "51       2000        other               2017  manual     90    punto   \n",
       "57       2399        other               2018  manual     64    other   \n",
       "...       ...          ...                ...     ...    ...      ...   \n",
       "354112   3600        other               2017  manual     86  transit   \n",
       "354140   1000        other               2017  manual    101       a4   \n",
       "354203   2140        other               2018  manual     80   fiesta   \n",
       "354253   1250        other               2018   other      0    corsa   \n",
       "354289   5000        other               2017  manual    120    other   \n",
       "\n",
       "        kilometer fuel_type       brand repaired  \n",
       "22         150000    petrol        opel       no  \n",
       "26         125000     other     citroen       no  \n",
       "48         100000    petrol  volkswagen  unknown  \n",
       "51         150000  gasoline        fiat      yes  \n",
       "57         125000     other        seat       no  \n",
       "...           ...       ...         ...      ...  \n",
       "354112     150000  gasoline        ford  unknown  \n",
       "354140     150000     other        audi  unknown  \n",
       "354203     150000     other        ford       no  \n",
       "354253     150000    petrol        opel  unknown  \n",
       "354289     150000     other     citroen      yes  \n",
       "\n",
       "[14530 rows x 10 columns]"
      ]
     },
     "metadata": {},
     "output_type": "display_data"
    }
   ],
   "source": [
    "display(data[data.registration_year > 2016])\n",
    "data_drop_2016 = data[data.registration_year > 2016].index.to_list()"
   ]
  },
  {
   "cell_type": "markdown",
   "metadata": {},
   "source": [
    "некорректных данных не так много, предлагаю их удалить."
   ]
  },
  {
   "cell_type": "code",
   "execution_count": 31,
   "metadata": {},
   "outputs": [],
   "source": [
    "data.drop(data_drop_1910, inplace = True)\n",
    "data.drop(data_drop_2016, inplace = True)"
   ]
  },
  {
   "cell_type": "markdown",
   "metadata": {},
   "source": [
    "проверяем"
   ]
  },
  {
   "cell_type": "code",
   "execution_count": 32,
   "metadata": {},
   "outputs": [
    {
     "data": {
      "text/plain": [
       "array([1910, 1915, 1919, 1920, 1923, 1925, 1927, 1928, 1929, 1930, 1931,\n",
       "       1932, 1933, 1934, 1935, 1936, 1937, 1938, 1940, 1941, 1942, 1943,\n",
       "       1944, 1945, 1946, 1947, 1948, 1949, 1950, 1951, 1952, 1953, 1954,\n",
       "       1955, 1956, 1957, 1958, 1959, 1960, 1961, 1962, 1963, 1964, 1965,\n",
       "       1966, 1967, 1968, 1969, 1970, 1971, 1972, 1973, 1974, 1975, 1976,\n",
       "       1977, 1978, 1979, 1980, 1981, 1982, 1983, 1984, 1985, 1986, 1987,\n",
       "       1988, 1989, 1990, 1991, 1992, 1993, 1994, 1995, 1996, 1997, 1998,\n",
       "       1999, 2000, 2001, 2002, 2003, 2004, 2005, 2006, 2007, 2008, 2009,\n",
       "       2010, 2011, 2012, 2013, 2014, 2015, 2016])"
      ]
     },
     "execution_count": 32,
     "metadata": {},
     "output_type": "execute_result"
    }
   ],
   "source": [
    "sort_registration_year = data.registration_year.unique()\n",
    "sort_registration_year.sort()\n",
    "sort_registration_year"
   ]
  },
  {
   "cell_type": "markdown",
   "metadata": {},
   "source": [
    "Проверим power"
   ]
  },
  {
   "cell_type": "code",
   "execution_count": 33,
   "metadata": {},
   "outputs": [
    {
     "data": {
      "text/plain": [
       "array([    0,     1,     2,     3,     4,     5,     6,     7,     8,\n",
       "           9,    10,    11,    12,    13,    14,    15,    16,    17,\n",
       "          18,    19,    20,    21,    22,    23,    24,    25,    26,\n",
       "          27,    28,    29,    30,    31,    32,    33,    34,    35,\n",
       "          36,    37,    38,    39,    40,    41,    42,    43,    44,\n",
       "          45,    46,    47,    48,    49,    50,    51,    52,    53,\n",
       "          54,    55,    56,    57,    58,    59,    60,    61,    62,\n",
       "          63,    64,    65,    66,    67,    68,    69,    70,    71,\n",
       "          72,    73,    74,    75,    76,    77,    78,    79,    80,\n",
       "          81,    82,    83,    84,    85,    86,    87,    88,    89,\n",
       "          90,    91,    92,    93,    94,    95,    96,    97,    98,\n",
       "          99,   100,   101,   102,   103,   104,   105,   106,   107,\n",
       "         108,   109,   110,   111,   112,   113,   114,   115,   116,\n",
       "         117,   118,   119,   120,   121,   122,   123,   124,   125,\n",
       "         126,   127,   128,   129,   130,   131,   132,   133,   134,\n",
       "         135,   136,   137,   138,   139,   140,   141,   142,   143,\n",
       "         144,   145,   146,   147,   148,   149,   150,   151,   152,\n",
       "         153,   154,   155,   156,   157,   158,   159,   160,   161,\n",
       "         162,   163,   164,   165,   166,   167,   168,   169,   170,\n",
       "         171,   172,   173,   174,   175,   176,   177,   178,   179,\n",
       "         180,   181,   182,   183,   184,   185,   186,   187,   188,\n",
       "         189,   190,   191,   192,   193,   194,   195,   196,   197,\n",
       "         198,   199,   200,   201,   202,   203,   204,   205,   206,\n",
       "         207,   208,   209,   210,   211,   212,   213,   214,   215,\n",
       "         216,   217,   218,   219,   220,   221,   222,   223,   224,\n",
       "         225,   226,   227,   228,   229,   230,   231,   232,   233,\n",
       "         234,   235,   236,   237,   238,   239,   240,   241,   242,\n",
       "         243,   244,   245,   246,   247,   248,   249,   250,   251,\n",
       "         252,   253,   254,   255,   256,   257,   258,   259,   260,\n",
       "         261,   262,   264,   265,   266,   267,   268,   269,   270,\n",
       "         271,   272,   273,   274,   275,   276,   277,   278,   279,\n",
       "         280,   281,   282,   283,   284,   285,   286,   287,   288,\n",
       "         289,   290,   292,   293,   294,   295,   296,   297,   298,\n",
       "         299,   300,   301,   303,   304,   305,   306,   307,   308,\n",
       "         309,   310,   311,   313,   314,   315,   316,   317,   318,\n",
       "         320,   321,   322,   323,   324,   325,   326,   327,   328,\n",
       "         329,   330,   331,   332,   333,   334,   335,   336,   337,\n",
       "         338,   339,   340,   341,   343,   344,   345,   346,   347,\n",
       "         348,   349,   350,   351,   352,   353,   354,   355,   356,\n",
       "         357,   358,   360,   361,   362,   363,   364,   365,   367,\n",
       "         368,   370,   371,   374,   375,   376,   377,   379,   380,\n",
       "         381,   382,   385,   386,   387,   388,   390,   392,   394,\n",
       "         396,   398,   399,   400,   401,   405,   408,   409,   411,\n",
       "         416,   420,   421,   425,   426,   428,   430,   431,   435,\n",
       "         440,   442,   445,   449,   450,   454,   457,   459,   460,\n",
       "         475,   476,   485,   487,   489,   490,   500,   504,   505,\n",
       "         507,   508,   510,   514,   515,   517,   519,   520,   521,\n",
       "         525,   530,   540,   541,   544,   550,   551,   553,   560,\n",
       "         572,   574,   579,   580,   584,   585,   599,   600,   601,\n",
       "         602,   603,   604,   606,   610,   612,   620,   640,   645,\n",
       "         650,   651,   671,   678,   682,   685,   696,   700,   702,\n",
       "         703,   732,   743,   750,   751,   754,   771,   776,   800,\n",
       "         805,   850,   851,   871,   900,   902,   903,   907,   909,\n",
       "         923,   950,   952,   953,   960,   998,   999,  1000,  1001,\n",
       "        1002,  1003,  1004,  1005,  1011,  1012,  1016,  1017,  1021,\n",
       "        1024,  1054,  1055,  1056,  1062,  1079,  1082,  1090,  1100,\n",
       "        1102,  1103,  1105,  1111,  1115,  1120,  1149,  1151,  1158,\n",
       "        1160,  1162,  1164,  1199,  1200,  1202,  1221,  1223,  1230,\n",
       "        1239,  1240,  1241,  1250,  1256,  1275,  1288,  1299,  1300,\n",
       "        1312,  1317,  1324,  1339,  1360,  1362,  1363,  1367,  1390,\n",
       "        1398,  1399,  1400,  1401,  1403,  1405,  1416,  1432,  1433,\n",
       "        1436,  1500,  1501,  1502,  1503,  1506,  1521,  1548,  1595,\n",
       "        1596,  1597,  1598,  1600,  1625,  1631,  1653,  1659,  1689,\n",
       "        1700,  1701,  1703,  1704,  1707,  1753,  1771,  1779,  1780,\n",
       "        1781,  1783,  1793,  1796,  1799,  1800,  1801,  1870,  1895,\n",
       "        1896,  1900,  1910,  1920,  1922,  1933,  1937,  1968,  1988,\n",
       "        1992,  1993,  1995,  1998,  1999,  2000,  2004,  2005,  2007,\n",
       "        2009,  2016,  2017,  2018,  2172,  2200,  2201,  2331,  2340,\n",
       "        2389,  2402,  2461,  2598,  2729,  2789,  2792,  2799,  3199,\n",
       "        3454,  3500,  3750,  4400,  4507,  4700,  5000,  5411,  5420,\n",
       "        5575,  5809,  5815,  5867,  6006,  6010,  6011,  6012,  6018,\n",
       "        6045,  6062,  6226,  6512,  6920,  7508,  7511,  7512,  7515,\n",
       "        7518,  7529,  7544,  8011,  8259,  8404,  8500,  9007,  9012,\n",
       "        9013,  9710, 10000, 10110, 10218, 10311, 10317, 10520, 10522,\n",
       "       10710, 10910, 10912, 11011, 11025, 11111, 11509, 11530, 11635,\n",
       "       12012, 12510, 12512, 12684, 13616, 13636, 14009, 15001, 15016,\n",
       "       15017, 15020, 15033, 16051, 16311, 16312, 17011, 17019, 17410,\n",
       "       17700, 17932, 19208, 19211, 19312, 20000])"
      ]
     },
     "execution_count": 33,
     "metadata": {},
     "output_type": "execute_result"
    }
   ],
   "source": [
    "data_power = data.power.unique()\n",
    "data_power.sort()\n",
    "data_power"
   ]
  },
  {
   "cell_type": "code",
   "execution_count": 34,
   "metadata": {},
   "outputs": [
    {
     "data": {
      "text/html": [
       "<div>\n",
       "<style scoped>\n",
       "    .dataframe tbody tr th:only-of-type {\n",
       "        vertical-align: middle;\n",
       "    }\n",
       "\n",
       "    .dataframe tbody tr th {\n",
       "        vertical-align: top;\n",
       "    }\n",
       "\n",
       "    .dataframe thead th {\n",
       "        text-align: right;\n",
       "    }\n",
       "</style>\n",
       "<table border=\"1\" class=\"dataframe\">\n",
       "  <thead>\n",
       "    <tr style=\"text-align: right;\">\n",
       "      <th></th>\n",
       "      <th>price</th>\n",
       "      <th>vehicle_type</th>\n",
       "      <th>registration_year</th>\n",
       "      <th>gearbox</th>\n",
       "      <th>power</th>\n",
       "      <th>model</th>\n",
       "      <th>kilometer</th>\n",
       "      <th>fuel_type</th>\n",
       "      <th>brand</th>\n",
       "      <th>repaired</th>\n",
       "    </tr>\n",
       "  </thead>\n",
       "  <tbody>\n",
       "    <tr>\n",
       "      <th>431</th>\n",
       "      <td>3950</td>\n",
       "      <td>small</td>\n",
       "      <td>2004</td>\n",
       "      <td>auto</td>\n",
       "      <td>5</td>\n",
       "      <td>golf</td>\n",
       "      <td>70000</td>\n",
       "      <td>gasoline</td>\n",
       "      <td>sonstige_autos</td>\n",
       "      <td>no</td>\n",
       "    </tr>\n",
       "    <tr>\n",
       "      <th>1235</th>\n",
       "      <td>4450</td>\n",
       "      <td>small</td>\n",
       "      <td>1971</td>\n",
       "      <td>manual</td>\n",
       "      <td>23</td>\n",
       "      <td>500</td>\n",
       "      <td>70000</td>\n",
       "      <td>petrol</td>\n",
       "      <td>fiat</td>\n",
       "      <td>no</td>\n",
       "    </tr>\n",
       "    <tr>\n",
       "      <th>1331</th>\n",
       "      <td>650</td>\n",
       "      <td>other</td>\n",
       "      <td>1970</td>\n",
       "      <td>other</td>\n",
       "      <td>26</td>\n",
       "      <td>golf</td>\n",
       "      <td>100000</td>\n",
       "      <td>other</td>\n",
       "      <td>trabant</td>\n",
       "      <td>unknown</td>\n",
       "    </tr>\n",
       "    <tr>\n",
       "      <th>1816</th>\n",
       "      <td>3200</td>\n",
       "      <td>small</td>\n",
       "      <td>2004</td>\n",
       "      <td>manual</td>\n",
       "      <td>1398</td>\n",
       "      <td>corolla</td>\n",
       "      <td>5000</td>\n",
       "      <td>petrol</td>\n",
       "      <td>toyota</td>\n",
       "      <td>no</td>\n",
       "    </tr>\n",
       "    <tr>\n",
       "      <th>2102</th>\n",
       "      <td>0</td>\n",
       "      <td>sedan</td>\n",
       "      <td>1999</td>\n",
       "      <td>other</td>\n",
       "      <td>1799</td>\n",
       "      <td>vectra</td>\n",
       "      <td>150000</td>\n",
       "      <td>petrol</td>\n",
       "      <td>opel</td>\n",
       "      <td>yes</td>\n",
       "    </tr>\n",
       "    <tr>\n",
       "      <th>...</th>\n",
       "      <td>...</td>\n",
       "      <td>...</td>\n",
       "      <td>...</td>\n",
       "      <td>...</td>\n",
       "      <td>...</td>\n",
       "      <td>...</td>\n",
       "      <td>...</td>\n",
       "      <td>...</td>\n",
       "      <td>...</td>\n",
       "      <td>...</td>\n",
       "    </tr>\n",
       "    <tr>\n",
       "      <th>353447</th>\n",
       "      <td>2900</td>\n",
       "      <td>small</td>\n",
       "      <td>1969</td>\n",
       "      <td>manual</td>\n",
       "      <td>18</td>\n",
       "      <td>500</td>\n",
       "      <td>5000</td>\n",
       "      <td>petrol</td>\n",
       "      <td>fiat</td>\n",
       "      <td>no</td>\n",
       "    </tr>\n",
       "    <tr>\n",
       "      <th>353501</th>\n",
       "      <td>11300</td>\n",
       "      <td>sedan</td>\n",
       "      <td>1988</td>\n",
       "      <td>manual</td>\n",
       "      <td>29</td>\n",
       "      <td>other</td>\n",
       "      <td>150000</td>\n",
       "      <td>petrol</td>\n",
       "      <td>citroen</td>\n",
       "      <td>no</td>\n",
       "    </tr>\n",
       "    <tr>\n",
       "      <th>353633</th>\n",
       "      <td>2400</td>\n",
       "      <td>sedan</td>\n",
       "      <td>2007</td>\n",
       "      <td>manual</td>\n",
       "      <td>650</td>\n",
       "      <td>c2</td>\n",
       "      <td>150000</td>\n",
       "      <td>petrol</td>\n",
       "      <td>citroen</td>\n",
       "      <td>unknown</td>\n",
       "    </tr>\n",
       "    <tr>\n",
       "      <th>354260</th>\n",
       "      <td>399</td>\n",
       "      <td>other</td>\n",
       "      <td>1994</td>\n",
       "      <td>other</td>\n",
       "      <td>1103</td>\n",
       "      <td>3er</td>\n",
       "      <td>150000</td>\n",
       "      <td>other</td>\n",
       "      <td>bmw</td>\n",
       "      <td>unknown</td>\n",
       "    </tr>\n",
       "    <tr>\n",
       "      <th>354360</th>\n",
       "      <td>3999</td>\n",
       "      <td>wagon</td>\n",
       "      <td>2005</td>\n",
       "      <td>manual</td>\n",
       "      <td>3</td>\n",
       "      <td>3er</td>\n",
       "      <td>150000</td>\n",
       "      <td>gasoline</td>\n",
       "      <td>bmw</td>\n",
       "      <td>no</td>\n",
       "    </tr>\n",
       "  </tbody>\n",
       "</table>\n",
       "<p>1302 rows × 10 columns</p>\n",
       "</div>"
      ],
      "text/plain": [
       "        price vehicle_type  registration_year gearbox  power    model  \\\n",
       "431      3950        small               2004    auto      5     golf   \n",
       "1235     4450        small               1971  manual     23      500   \n",
       "1331      650        other               1970   other     26     golf   \n",
       "1816     3200        small               2004  manual   1398  corolla   \n",
       "2102        0        sedan               1999   other   1799   vectra   \n",
       "...       ...          ...                ...     ...    ...      ...   \n",
       "353447   2900        small               1969  manual     18      500   \n",
       "353501  11300        sedan               1988  manual     29    other   \n",
       "353633   2400        sedan               2007  manual    650       c2   \n",
       "354260    399        other               1994   other   1103      3er   \n",
       "354360   3999        wagon               2005  manual      3      3er   \n",
       "\n",
       "        kilometer fuel_type           brand repaired  \n",
       "431         70000  gasoline  sonstige_autos       no  \n",
       "1235        70000    petrol            fiat       no  \n",
       "1331       100000     other         trabant  unknown  \n",
       "1816         5000    petrol          toyota       no  \n",
       "2102       150000    petrol            opel      yes  \n",
       "...           ...       ...             ...      ...  \n",
       "353447       5000    petrol            fiat       no  \n",
       "353501     150000    petrol         citroen       no  \n",
       "353633     150000    petrol         citroen  unknown  \n",
       "354260     150000     other             bmw  unknown  \n",
       "354360     150000  gasoline             bmw       no  \n",
       "\n",
       "[1302 rows x 10 columns]"
      ]
     },
     "execution_count": 34,
     "metadata": {},
     "output_type": "execute_result"
    }
   ],
   "source": [
    "data.loc[(data['power'] > 0) & (data['power'] < 30) | (data['power'] > 500)]"
   ]
  },
  {
   "cell_type": "markdown",
   "metadata": {},
   "source": [
    "Данных не так много, предлагаю удалить."
   ]
  },
  {
   "cell_type": "code",
   "execution_count": 35,
   "metadata": {},
   "outputs": [],
   "source": [
    "data_drop_power = data.loc[(data['power'] >= 0) & (data['power'] < 30) | (data['power'] > 500)].index.to_list()"
   ]
  },
  {
   "cell_type": "code",
   "execution_count": 36,
   "metadata": {},
   "outputs": [],
   "source": [
    "data.drop(data_drop_power, inplace = True)"
   ]
  },
  {
   "cell_type": "markdown",
   "metadata": {},
   "source": [
    "проверим price"
   ]
  },
  {
   "cell_type": "code",
   "execution_count": 37,
   "metadata": {},
   "outputs": [
    {
     "data": {
      "text/plain": [
       "array([    0,     1,     2, ..., 19998, 19999, 20000])"
      ]
     },
     "execution_count": 37,
     "metadata": {},
     "output_type": "execute_result"
    }
   ],
   "source": [
    "data_price = data.price.unique()\n",
    "data_price.sort()\n",
    "data_price"
   ]
  },
  {
   "cell_type": "code",
   "execution_count": 38,
   "metadata": {},
   "outputs": [
    {
     "data": {
      "text/html": [
       "<div>\n",
       "<style scoped>\n",
       "    .dataframe tbody tr th:only-of-type {\n",
       "        vertical-align: middle;\n",
       "    }\n",
       "\n",
       "    .dataframe tbody tr th {\n",
       "        vertical-align: top;\n",
       "    }\n",
       "\n",
       "    .dataframe thead th {\n",
       "        text-align: right;\n",
       "    }\n",
       "</style>\n",
       "<table border=\"1\" class=\"dataframe\">\n",
       "  <thead>\n",
       "    <tr style=\"text-align: right;\">\n",
       "      <th></th>\n",
       "      <th>price</th>\n",
       "      <th>vehicle_type</th>\n",
       "      <th>registration_year</th>\n",
       "      <th>gearbox</th>\n",
       "      <th>power</th>\n",
       "      <th>model</th>\n",
       "      <th>kilometer</th>\n",
       "      <th>fuel_type</th>\n",
       "      <th>brand</th>\n",
       "      <th>repaired</th>\n",
       "    </tr>\n",
       "  </thead>\n",
       "  <tbody>\n",
       "    <tr>\n",
       "      <th>7</th>\n",
       "      <td>0</td>\n",
       "      <td>sedan</td>\n",
       "      <td>1980</td>\n",
       "      <td>manual</td>\n",
       "      <td>50</td>\n",
       "      <td>other</td>\n",
       "      <td>40000</td>\n",
       "      <td>petrol</td>\n",
       "      <td>volkswagen</td>\n",
       "      <td>no</td>\n",
       "    </tr>\n",
       "    <tr>\n",
       "      <th>59</th>\n",
       "      <td>1</td>\n",
       "      <td>suv</td>\n",
       "      <td>1994</td>\n",
       "      <td>manual</td>\n",
       "      <td>286</td>\n",
       "      <td>golf</td>\n",
       "      <td>150000</td>\n",
       "      <td>other</td>\n",
       "      <td>sonstige_autos</td>\n",
       "      <td>unknown</td>\n",
       "    </tr>\n",
       "    <tr>\n",
       "      <th>89</th>\n",
       "      <td>1</td>\n",
       "      <td>sedan</td>\n",
       "      <td>1995</td>\n",
       "      <td>manual</td>\n",
       "      <td>113</td>\n",
       "      <td>e_klasse</td>\n",
       "      <td>150000</td>\n",
       "      <td>gasoline</td>\n",
       "      <td>mercedes_benz</td>\n",
       "      <td>no</td>\n",
       "    </tr>\n",
       "    <tr>\n",
       "      <th>152</th>\n",
       "      <td>0</td>\n",
       "      <td>bus</td>\n",
       "      <td>2004</td>\n",
       "      <td>manual</td>\n",
       "      <td>101</td>\n",
       "      <td>meriva</td>\n",
       "      <td>150000</td>\n",
       "      <td>lpg</td>\n",
       "      <td>opel</td>\n",
       "      <td>yes</td>\n",
       "    </tr>\n",
       "    <tr>\n",
       "      <th>231</th>\n",
       "      <td>0</td>\n",
       "      <td>wagon</td>\n",
       "      <td>2001</td>\n",
       "      <td>manual</td>\n",
       "      <td>115</td>\n",
       "      <td>mondeo</td>\n",
       "      <td>150000</td>\n",
       "      <td>other</td>\n",
       "      <td>ford</td>\n",
       "      <td>unknown</td>\n",
       "    </tr>\n",
       "    <tr>\n",
       "      <th>...</th>\n",
       "      <td>...</td>\n",
       "      <td>...</td>\n",
       "      <td>...</td>\n",
       "      <td>...</td>\n",
       "      <td>...</td>\n",
       "      <td>...</td>\n",
       "      <td>...</td>\n",
       "      <td>...</td>\n",
       "      <td>...</td>\n",
       "      <td>...</td>\n",
       "    </tr>\n",
       "    <tr>\n",
       "      <th>354175</th>\n",
       "      <td>0</td>\n",
       "      <td>other</td>\n",
       "      <td>1995</td>\n",
       "      <td>manual</td>\n",
       "      <td>45</td>\n",
       "      <td>polo</td>\n",
       "      <td>150000</td>\n",
       "      <td>petrol</td>\n",
       "      <td>volkswagen</td>\n",
       "      <td>unknown</td>\n",
       "    </tr>\n",
       "    <tr>\n",
       "      <th>354205</th>\n",
       "      <td>0</td>\n",
       "      <td>other</td>\n",
       "      <td>2000</td>\n",
       "      <td>manual</td>\n",
       "      <td>65</td>\n",
       "      <td>corsa</td>\n",
       "      <td>150000</td>\n",
       "      <td>other</td>\n",
       "      <td>opel</td>\n",
       "      <td>yes</td>\n",
       "    </tr>\n",
       "    <tr>\n",
       "      <th>354238</th>\n",
       "      <td>0</td>\n",
       "      <td>small</td>\n",
       "      <td>2002</td>\n",
       "      <td>manual</td>\n",
       "      <td>60</td>\n",
       "      <td>fiesta</td>\n",
       "      <td>150000</td>\n",
       "      <td>petrol</td>\n",
       "      <td>ford</td>\n",
       "      <td>unknown</td>\n",
       "    </tr>\n",
       "    <tr>\n",
       "      <th>354248</th>\n",
       "      <td>0</td>\n",
       "      <td>small</td>\n",
       "      <td>1999</td>\n",
       "      <td>manual</td>\n",
       "      <td>53</td>\n",
       "      <td>swift</td>\n",
       "      <td>150000</td>\n",
       "      <td>petrol</td>\n",
       "      <td>suzuki</td>\n",
       "      <td>unknown</td>\n",
       "    </tr>\n",
       "    <tr>\n",
       "      <th>354277</th>\n",
       "      <td>0</td>\n",
       "      <td>small</td>\n",
       "      <td>1999</td>\n",
       "      <td>manual</td>\n",
       "      <td>37</td>\n",
       "      <td>arosa</td>\n",
       "      <td>150000</td>\n",
       "      <td>petrol</td>\n",
       "      <td>seat</td>\n",
       "      <td>yes</td>\n",
       "    </tr>\n",
       "  </tbody>\n",
       "</table>\n",
       "<p>7104 rows × 10 columns</p>\n",
       "</div>"
      ],
      "text/plain": [
       "        price vehicle_type  registration_year gearbox  power     model  \\\n",
       "7           0        sedan               1980  manual     50     other   \n",
       "59          1          suv               1994  manual    286      golf   \n",
       "89          1        sedan               1995  manual    113  e_klasse   \n",
       "152         0          bus               2004  manual    101    meriva   \n",
       "231         0        wagon               2001  manual    115    mondeo   \n",
       "...       ...          ...                ...     ...    ...       ...   \n",
       "354175      0        other               1995  manual     45      polo   \n",
       "354205      0        other               2000  manual     65     corsa   \n",
       "354238      0        small               2002  manual     60    fiesta   \n",
       "354248      0        small               1999  manual     53     swift   \n",
       "354277      0        small               1999  manual     37     arosa   \n",
       "\n",
       "        kilometer fuel_type           brand repaired  \n",
       "7           40000    petrol      volkswagen       no  \n",
       "59         150000     other  sonstige_autos  unknown  \n",
       "89         150000  gasoline   mercedes_benz       no  \n",
       "152        150000       lpg            opel      yes  \n",
       "231        150000     other            ford  unknown  \n",
       "...           ...       ...             ...      ...  \n",
       "354175     150000    petrol      volkswagen  unknown  \n",
       "354205     150000     other            opel      yes  \n",
       "354238     150000    petrol            ford  unknown  \n",
       "354248     150000    petrol          suzuki  unknown  \n",
       "354277     150000    petrol            seat      yes  \n",
       "\n",
       "[7104 rows x 10 columns]"
      ]
     },
     "execution_count": 38,
     "metadata": {},
     "output_type": "execute_result"
    }
   ],
   "source": [
    "data.query('price < 50')"
   ]
  },
  {
   "cell_type": "markdown",
   "metadata": {},
   "source": [
    "я думаю price ниже 50 евро явно ошибка, предлагаю удалить."
   ]
  },
  {
   "cell_type": "code",
   "execution_count": 39,
   "metadata": {},
   "outputs": [],
   "source": [
    "data_drop_price = data[data.price < 50].index.to_list()"
   ]
  },
  {
   "cell_type": "code",
   "execution_count": 40,
   "metadata": {},
   "outputs": [],
   "source": [
    "data.drop(data_drop_price, inplace = True)"
   ]
  },
  {
   "cell_type": "code",
   "execution_count": 41,
   "metadata": {},
   "outputs": [
    {
     "data": {
      "text/html": [
       "<div>\n",
       "<style scoped>\n",
       "    .dataframe tbody tr th:only-of-type {\n",
       "        vertical-align: middle;\n",
       "    }\n",
       "\n",
       "    .dataframe tbody tr th {\n",
       "        vertical-align: top;\n",
       "    }\n",
       "\n",
       "    .dataframe thead th {\n",
       "        text-align: right;\n",
       "    }\n",
       "</style>\n",
       "<table border=\"1\" class=\"dataframe\">\n",
       "  <thead>\n",
       "    <tr style=\"text-align: right;\">\n",
       "      <th></th>\n",
       "      <th>price</th>\n",
       "      <th>vehicle_type</th>\n",
       "      <th>registration_year</th>\n",
       "      <th>gearbox</th>\n",
       "      <th>power</th>\n",
       "      <th>model</th>\n",
       "      <th>kilometer</th>\n",
       "      <th>fuel_type</th>\n",
       "      <th>brand</th>\n",
       "      <th>repaired</th>\n",
       "    </tr>\n",
       "  </thead>\n",
       "  <tbody>\n",
       "    <tr>\n",
       "      <th>1</th>\n",
       "      <td>18300</td>\n",
       "      <td>coupe</td>\n",
       "      <td>2011</td>\n",
       "      <td>manual</td>\n",
       "      <td>190</td>\n",
       "      <td>golf</td>\n",
       "      <td>125000</td>\n",
       "      <td>gasoline</td>\n",
       "      <td>audi</td>\n",
       "      <td>yes</td>\n",
       "    </tr>\n",
       "    <tr>\n",
       "      <th>2</th>\n",
       "      <td>9800</td>\n",
       "      <td>suv</td>\n",
       "      <td>2004</td>\n",
       "      <td>auto</td>\n",
       "      <td>163</td>\n",
       "      <td>grand</td>\n",
       "      <td>125000</td>\n",
       "      <td>gasoline</td>\n",
       "      <td>jeep</td>\n",
       "      <td>unknown</td>\n",
       "    </tr>\n",
       "    <tr>\n",
       "      <th>3</th>\n",
       "      <td>1500</td>\n",
       "      <td>small</td>\n",
       "      <td>2001</td>\n",
       "      <td>manual</td>\n",
       "      <td>75</td>\n",
       "      <td>golf</td>\n",
       "      <td>150000</td>\n",
       "      <td>petrol</td>\n",
       "      <td>volkswagen</td>\n",
       "      <td>no</td>\n",
       "    </tr>\n",
       "  </tbody>\n",
       "</table>\n",
       "</div>"
      ],
      "text/plain": [
       "   price vehicle_type  registration_year gearbox  power  model  kilometer  \\\n",
       "1  18300        coupe               2011  manual    190   golf     125000   \n",
       "2   9800          suv               2004    auto    163  grand     125000   \n",
       "3   1500        small               2001  manual     75   golf     150000   \n",
       "\n",
       "  fuel_type       brand repaired  \n",
       "1  gasoline        audi      yes  \n",
       "2  gasoline        jeep  unknown  \n",
       "3    petrol  volkswagen       no  "
      ]
     },
     "execution_count": 41,
     "metadata": {},
     "output_type": "execute_result"
    }
   ],
   "source": [
    "data.head(3)"
   ]
  },
  {
   "cell_type": "markdown",
   "metadata": {},
   "source": [
    "### Диаграммы"
   ]
  },
  {
   "cell_type": "code",
   "execution_count": 42,
   "metadata": {},
   "outputs": [
    {
     "data": {
      "image/png": "[encoded data removed]",
      "text/plain": [
       "<Figure size 1080x720 with 1 Axes>"
      ]
     },
     "metadata": {
      "needs_background": "light"
     },
     "output_type": "display_data"
    }
   ],
   "source": [
    "ax = sns.boxplot(data=data)\n",
    "ax.set_xticklabels(ax.get_xticklabels(), rotation=90)\n",
    "plt.title('Гистограмма выбросов data', size=15)\n",
    "plt.show()"
   ]
  },
  {
   "cell_type": "code",
   "execution_count": 43,
   "metadata": {},
   "outputs": [
    {
     "data": {
      "image/png": "[encoded data removed]",
      "text/plain": [
       "<Figure size 1080x720 with 4 Axes>"
      ]
     },
     "metadata": {
      "needs_background": "light"
     },
     "output_type": "display_data"
    }
   ],
   "source": [
    "data.hist()\n",
    "plt.title('Диаграмма data', size=15)\n",
    "plt.show();"
   ]
  },
  {
   "cell_type": "code",
   "execution_count": 44,
   "metadata": {},
   "outputs": [
    {
     "data": {
      "image/png": "[encoded data removed]",
      "text/plain": [
       "<Figure size 1440x1440 with 3 Axes>"
      ]
     },
     "metadata": {},
     "output_type": "display_data"
    }
   ],
   "source": [
    "plt.figure(figsize=(20, 20))\n",
    "#plt.suptitle('Распределение категориальных признаков', fontsize=14, fontweight='bold')\n",
    "\n",
    "plt.subplot(1, 3, 1)\n",
    "data['repaired'].value_counts().plot(\n",
    "    kind='pie', \n",
    "    y = data['repaired'].value_counts(),\n",
    "    autopct = '%1.0f%%',\n",
    "    title = 'Распределение по repaired')\n",
    "\n",
    "plt.subplot(1, 3, 2)\n",
    "data['fuel_type'].value_counts().plot(\n",
    "    kind='pie', \n",
    "    y = data['fuel_type'].value_counts(),\n",
    "    autopct = '%1.0f%%', \n",
    "    title = 'Распределение по fuel_type')\n",
    "\n",
    "plt.subplot(1, 3, 3)\n",
    "data['gearbox'].value_counts().plot(\n",
    "    kind='pie', \n",
    "    y = data['gearbox'].value_counts(),\n",
    "    autopct = '%1.0f%%', \n",
    "    title = 'Распределение по gearbox');"
   ]
  },
  {
   "cell_type": "markdown",
   "metadata": {},
   "source": [
    "После всех наших манипуляций предлагаю снова проверить дубликаты"
   ]
  },
  {
   "cell_type": "code",
   "execution_count": 45,
   "metadata": {},
   "outputs": [
    {
     "data": {
      "text/plain": [
       "'Дубликаты data: 39183'"
      ]
     },
     "metadata": {},
     "output_type": "display_data"
    }
   ],
   "source": [
    "display(f'Дубликаты data: {data.duplicated().sum()}')"
   ]
  },
  {
   "cell_type": "markdown",
   "metadata": {},
   "source": [
    "После удаления не нужных столбцов образовалось много дубликатов, предлагаю их убрать."
   ]
  },
  {
   "cell_type": "code",
   "execution_count": 46,
   "metadata": {},
   "outputs": [],
   "source": [
    "data = data.drop_duplicates()"
   ]
  },
  {
   "cell_type": "code",
   "execution_count": 47,
   "metadata": {},
   "outputs": [
    {
     "data": {
      "text/plain": [
       "'Дубликаты data: 0'"
      ]
     },
     "metadata": {},
     "output_type": "display_data"
    }
   ],
   "source": [
    "display(f'Дубликаты data: {data.duplicated().sum()}')"
   ]
  },
  {
   "cell_type": "code",
   "execution_count": 48,
   "metadata": {},
   "outputs": [
    {
     "data": {
      "text/html": [
       "<div>\n",
       "<style scoped>\n",
       "    .dataframe tbody tr th:only-of-type {\n",
       "        vertical-align: middle;\n",
       "    }\n",
       "\n",
       "    .dataframe tbody tr th {\n",
       "        vertical-align: top;\n",
       "    }\n",
       "\n",
       "    .dataframe thead th {\n",
       "        text-align: right;\n",
       "    }\n",
       "</style>\n",
       "<table border=\"1\" class=\"dataframe\">\n",
       "  <thead>\n",
       "    <tr style=\"text-align: right;\">\n",
       "      <th></th>\n",
       "      <th>count</th>\n",
       "      <th>mean</th>\n",
       "      <th>std</th>\n",
       "      <th>min</th>\n",
       "      <th>5%</th>\n",
       "      <th>25%</th>\n",
       "      <th>50%</th>\n",
       "      <th>75%</th>\n",
       "      <th>95%</th>\n",
       "      <th>99%</th>\n",
       "      <th>max</th>\n",
       "    </tr>\n",
       "  </thead>\n",
       "  <tbody>\n",
       "    <tr>\n",
       "      <th>price</th>\n",
       "      <td>255727.0</td>\n",
       "      <td>4957.545406</td>\n",
       "      <td>4662.965074</td>\n",
       "      <td>50.0</td>\n",
       "      <td>450.0</td>\n",
       "      <td>1399.0</td>\n",
       "      <td>3300.0</td>\n",
       "      <td>7150.0</td>\n",
       "      <td>15216.3</td>\n",
       "      <td>18979.22</td>\n",
       "      <td>20000.0</td>\n",
       "    </tr>\n",
       "    <tr>\n",
       "      <th>registration_year</th>\n",
       "      <td>255727.0</td>\n",
       "      <td>2002.920904</td>\n",
       "      <td>6.593401</td>\n",
       "      <td>1910.0</td>\n",
       "      <td>1993.0</td>\n",
       "      <td>1999.0</td>\n",
       "      <td>2003.0</td>\n",
       "      <td>2007.0</td>\n",
       "      <td>2012.0</td>\n",
       "      <td>2016.00</td>\n",
       "      <td>2016.0</td>\n",
       "    </tr>\n",
       "    <tr>\n",
       "      <th>power</th>\n",
       "      <td>255727.0</td>\n",
       "      <td>121.701717</td>\n",
       "      <td>53.595456</td>\n",
       "      <td>30.0</td>\n",
       "      <td>55.0</td>\n",
       "      <td>80.0</td>\n",
       "      <td>114.0</td>\n",
       "      <td>150.0</td>\n",
       "      <td>224.0</td>\n",
       "      <td>305.00</td>\n",
       "      <td>500.0</td>\n",
       "    </tr>\n",
       "    <tr>\n",
       "      <th>kilometer</th>\n",
       "      <td>255727.0</td>\n",
       "      <td>127409.463999</td>\n",
       "      <td>37238.347691</td>\n",
       "      <td>5000.0</td>\n",
       "      <td>40000.0</td>\n",
       "      <td>125000.0</td>\n",
       "      <td>150000.0</td>\n",
       "      <td>150000.0</td>\n",
       "      <td>150000.0</td>\n",
       "      <td>150000.00</td>\n",
       "      <td>150000.0</td>\n",
       "    </tr>\n",
       "  </tbody>\n",
       "</table>\n",
       "</div>"
      ],
      "text/plain": [
       "                      count           mean           std     min       5%  \\\n",
       "price              255727.0    4957.545406   4662.965074    50.0    450.0   \n",
       "registration_year  255727.0    2002.920904      6.593401  1910.0   1993.0   \n",
       "power              255727.0     121.701717     53.595456    30.0     55.0   \n",
       "kilometer          255727.0  127409.463999  37238.347691  5000.0  40000.0   \n",
       "\n",
       "                        25%       50%       75%       95%        99%       max  \n",
       "price                1399.0    3300.0    7150.0   15216.3   18979.22   20000.0  \n",
       "registration_year    1999.0    2003.0    2007.0    2012.0    2016.00    2016.0  \n",
       "power                  80.0     114.0     150.0     224.0     305.00     500.0  \n",
       "kilometer          125000.0  150000.0  150000.0  150000.0  150000.00  150000.0  "
      ]
     },
     "execution_count": 48,
     "metadata": {},
     "output_type": "execute_result"
    }
   ],
   "source": [
    "data.describe(percentiles=[0.05, 1/4, 1/2, 3/4, 0.95, 0.99]).T"
   ]
  },
  {
   "cell_type": "code",
   "execution_count": 49,
   "metadata": {},
   "outputs": [
    {
     "data": {
      "text/html": [
       "<div>\n",
       "<style scoped>\n",
       "    .dataframe tbody tr th:only-of-type {\n",
       "        vertical-align: middle;\n",
       "    }\n",
       "\n",
       "    .dataframe tbody tr th {\n",
       "        vertical-align: top;\n",
       "    }\n",
       "\n",
       "    .dataframe thead th {\n",
       "        text-align: right;\n",
       "    }\n",
       "</style>\n",
       "<table border=\"1\" class=\"dataframe\">\n",
       "  <thead>\n",
       "    <tr style=\"text-align: right;\">\n",
       "      <th></th>\n",
       "      <th>price</th>\n",
       "      <th>registration_year</th>\n",
       "      <th>power</th>\n",
       "      <th>kilometer</th>\n",
       "    </tr>\n",
       "  </thead>\n",
       "  <tbody>\n",
       "    <tr>\n",
       "      <th>price</th>\n",
       "      <td>1.000000</td>\n",
       "      <td>0.474261</td>\n",
       "      <td>0.498853</td>\n",
       "      <td>-0.381371</td>\n",
       "    </tr>\n",
       "    <tr>\n",
       "      <th>registration_year</th>\n",
       "      <td>0.474261</td>\n",
       "      <td>1.000000</td>\n",
       "      <td>0.111348</td>\n",
       "      <td>-0.291163</td>\n",
       "    </tr>\n",
       "    <tr>\n",
       "      <th>power</th>\n",
       "      <td>0.498853</td>\n",
       "      <td>0.111348</td>\n",
       "      <td>1.000000</td>\n",
       "      <td>0.118248</td>\n",
       "    </tr>\n",
       "    <tr>\n",
       "      <th>kilometer</th>\n",
       "      <td>-0.381371</td>\n",
       "      <td>-0.291163</td>\n",
       "      <td>0.118248</td>\n",
       "      <td>1.000000</td>\n",
       "    </tr>\n",
       "  </tbody>\n",
       "</table>\n",
       "</div>"
      ],
      "text/plain": [
       "                      price  registration_year     power  kilometer\n",
       "price              1.000000           0.474261  0.498853  -0.381371\n",
       "registration_year  0.474261           1.000000  0.111348  -0.291163\n",
       "power              0.498853           0.111348  1.000000   0.118248\n",
       "kilometer         -0.381371          -0.291163  0.118248   1.000000"
      ]
     },
     "execution_count": 49,
     "metadata": {},
     "output_type": "execute_result"
    }
   ],
   "source": [
    "data.corr()"
   ]
  },
  {
   "cell_type": "code",
   "execution_count": 50,
   "metadata": {},
   "outputs": [
    {
     "data": {
      "image/png": "[encoded data removed]",
      "text/plain": [
       "<Figure size 720x1080 with 16 Axes>"
      ]
     },
     "metadata": {
      "needs_background": "light"
     },
     "output_type": "display_data"
    }
   ],
   "source": [
    "pd.plotting.scatter_matrix(data, figsize=(10, 15), grid=True)\n",
    "plt.suptitle('Матрица рассеяния')\n",
    "plt.show();"
   ]
  },
  {
   "cell_type": "markdown",
   "metadata": {},
   "source": [
    "Выводы: \\\n",
    "После первоначального изучения данных была проделана следующая работа:\n",
    "* Были обнаружены и удалены лишние входные данные;\n",
    "* Наименования столбцов приведены к общему виду, согласно PEP8;\n",
    "* Удалены дубликаты (более 45 тысяч позиций);\n",
    "* Заполнены пропуски во всех столбцах;\n",
    "* Удалены аномалии и выбросы;\n",
    "* Построены гистограммы по все столбцам;\n",
    "* Проведен корреляционный анализ данных, связь оказалось слабой."
   ]
  },
  {
   "cell_type": "markdown",
   "metadata": {},
   "source": [
    "## Обучение моделей"
   ]
  },
  {
   "cell_type": "markdown",
   "metadata": {},
   "source": [
    "Разобьем на обучающую и тестовую выборки"
   ]
  },
  {
   "cell_type": "code",
   "execution_count": 51,
   "metadata": {},
   "outputs": [],
   "source": [
    "#data_ohe = pd.get_dummies(data, drop_first=True)\n",
    "#data_ohe.head()"
   ]
  },
  {
   "cell_type": "code",
   "execution_count": 52,
   "metadata": {},
   "outputs": [],
   "source": [
    "target_ohe = data['price']\n",
    "features_ohe = data.drop('price', axis=1)\n",
    "\n",
    "RANDOM_STATE = 42\n",
    "\n",
    "features_train_ohe, features_test_ohe, target_train_ohe, target_test_ohe = (\n",
    "                        train_test_split(features_ohe,\n",
    "                                         target_ohe,\n",
    "                                         test_size=0.25,\n",
    "                                         random_state=RANDOM_STATE)\n",
    "                                                                            )"
   ]
  },
  {
   "cell_type": "markdown",
   "metadata": {},
   "source": [
    "Закодируем данные"
   ]
  },
  {
   "cell_type": "code",
   "execution_count": 53,
   "metadata": {},
   "outputs": [],
   "source": [
    "ohe_encoder = OneHotEncoder(drop='first', sparse=False)"
   ]
  },
  {
   "cell_type": "code",
   "execution_count": 54,
   "metadata": {},
   "outputs": [],
   "source": [
    "cat_features = ['vehicle_type', 'gearbox', 'model', 'fuel_type', 'brand', 'repaired']"
   ]
  },
  {
   "cell_type": "code",
   "execution_count": 55,
   "metadata": {},
   "outputs": [
    {
     "data": {
      "text/html": [
       "<div>\n",
       "<style scoped>\n",
       "    .dataframe tbody tr th:only-of-type {\n",
       "        vertical-align: middle;\n",
       "    }\n",
       "\n",
       "    .dataframe tbody tr th {\n",
       "        vertical-align: top;\n",
       "    }\n",
       "\n",
       "    .dataframe thead th {\n",
       "        text-align: right;\n",
       "    }\n",
       "</style>\n",
       "<table border=\"1\" class=\"dataframe\">\n",
       "  <thead>\n",
       "    <tr style=\"text-align: right;\">\n",
       "      <th></th>\n",
       "      <th>vehicle_type</th>\n",
       "      <th>registration_year</th>\n",
       "      <th>gearbox</th>\n",
       "      <th>power</th>\n",
       "      <th>model</th>\n",
       "      <th>kilometer</th>\n",
       "      <th>fuel_type</th>\n",
       "      <th>brand</th>\n",
       "      <th>repaired</th>\n",
       "    </tr>\n",
       "  </thead>\n",
       "  <tbody>\n",
       "    <tr>\n",
       "      <th>146845</th>\n",
       "      <td>suv</td>\n",
       "      <td>1999</td>\n",
       "      <td>manual</td>\n",
       "      <td>128</td>\n",
       "      <td>grand</td>\n",
       "      <td>150000</td>\n",
       "      <td>other</td>\n",
       "      <td>suzuki</td>\n",
       "      <td>no</td>\n",
       "    </tr>\n",
       "    <tr>\n",
       "      <th>98818</th>\n",
       "      <td>small</td>\n",
       "      <td>1999</td>\n",
       "      <td>manual</td>\n",
       "      <td>65</td>\n",
       "      <td>corsa</td>\n",
       "      <td>150000</td>\n",
       "      <td>petrol</td>\n",
       "      <td>opel</td>\n",
       "      <td>no</td>\n",
       "    </tr>\n",
       "    <tr>\n",
       "      <th>124643</th>\n",
       "      <td>wagon</td>\n",
       "      <td>2004</td>\n",
       "      <td>auto</td>\n",
       "      <td>150</td>\n",
       "      <td>passat</td>\n",
       "      <td>150000</td>\n",
       "      <td>petrol</td>\n",
       "      <td>volkswagen</td>\n",
       "      <td>no</td>\n",
       "    </tr>\n",
       "  </tbody>\n",
       "</table>\n",
       "</div>"
      ],
      "text/plain": [
       "       vehicle_type  registration_year gearbox  power   model  kilometer  \\\n",
       "146845          suv               1999  manual    128   grand     150000   \n",
       "98818         small               1999  manual     65   corsa     150000   \n",
       "124643        wagon               2004    auto    150  passat     150000   \n",
       "\n",
       "       fuel_type       brand repaired  \n",
       "146845     other      suzuki       no  \n",
       "98818     petrol        opel       no  \n",
       "124643    petrol  volkswagen       no  "
      ]
     },
     "execution_count": 55,
     "metadata": {},
     "output_type": "execute_result"
    }
   ],
   "source": [
    "features_test_ohe.head(3)"
   ]
  },
  {
   "cell_type": "code",
   "execution_count": 56,
   "metadata": {},
   "outputs": [
    {
     "name": "stderr",
     "output_type": "stream",
     "text": [
      "/tmp/ipykernel_163/43428153.py:2: SettingWithCopyWarning: \n",
      "A value is trying to be set on a copy of a slice from a DataFrame.\n",
      "Try using .loc[row_indexer,col_indexer] = value instead\n",
      "\n",
      "See the caveats in the documentation: https://pandas.pydata.org/pandas-docs/stable/user_guide/indexing.html#returning-a-view-versus-a-copy\n",
      "  features_train_ohe[ohe_encoder.get_feature_names()] = train_temp\n",
      "/opt/conda/lib/python3.9/site-packages/pandas/core/indexing.py:1738: SettingWithCopyWarning: \n",
      "A value is trying to be set on a copy of a slice from a DataFrame.\n",
      "Try using .loc[row_indexer,col_indexer] = value instead\n",
      "\n",
      "See the caveats in the documentation: https://pandas.pydata.org/pandas-docs/stable/user_guide/indexing.html#returning-a-view-versus-a-copy\n",
      "  self._setitem_single_column(loc, value[:, i].tolist(), pi)\n",
      "/opt/conda/lib/python3.9/site-packages/pandas/core/frame.py:4308: SettingWithCopyWarning: \n",
      "A value is trying to be set on a copy of a slice from a DataFrame\n",
      "\n",
      "See the caveats in the documentation: https://pandas.pydata.org/pandas-docs/stable/user_guide/indexing.html#returning-a-view-versus-a-copy\n",
      "  return super().drop(\n",
      "/tmp/ipykernel_163/43428153.py:6: SettingWithCopyWarning: \n",
      "A value is trying to be set on a copy of a slice from a DataFrame.\n",
      "Try using .loc[row_indexer,col_indexer] = value instead\n",
      "\n",
      "See the caveats in the documentation: https://pandas.pydata.org/pandas-docs/stable/user_guide/indexing.html#returning-a-view-versus-a-copy\n",
      "  features_test_ohe[ohe_encoder.get_feature_names()] = test_temp\n",
      "/opt/conda/lib/python3.9/site-packages/pandas/core/indexing.py:1738: SettingWithCopyWarning: \n",
      "A value is trying to be set on a copy of a slice from a DataFrame.\n",
      "Try using .loc[row_indexer,col_indexer] = value instead\n",
      "\n",
      "See the caveats in the documentation: https://pandas.pydata.org/pandas-docs/stable/user_guide/indexing.html#returning-a-view-versus-a-copy\n",
      "  self._setitem_single_column(loc, value[:, i].tolist(), pi)\n",
      "/opt/conda/lib/python3.9/site-packages/pandas/core/frame.py:4308: SettingWithCopyWarning: \n",
      "A value is trying to be set on a copy of a slice from a DataFrame\n",
      "\n",
      "See the caveats in the documentation: https://pandas.pydata.org/pandas-docs/stable/user_guide/indexing.html#returning-a-view-versus-a-copy\n",
      "  return super().drop(\n"
     ]
    }
   ],
   "source": [
    "train_temp = ohe_encoder.fit_transform(features_train_ohe[cat_features]) \n",
    "features_train_ohe[ohe_encoder.get_feature_names()] = train_temp \n",
    "features_train_ohe.drop(cat_features, axis=1, inplace=True) \n",
    "\n",
    "test_temp = ohe_encoder.transform(features_test_ohe[cat_features]) \n",
    "features_test_ohe[ohe_encoder.get_feature_names()] = test_temp \n",
    "features_test_ohe.drop(cat_features, axis=1, inplace=True) "
   ]
  },
  {
   "cell_type": "code",
   "execution_count": 57,
   "metadata": {},
   "outputs": [
    {
     "data": {
      "text/html": [
       "<div>\n",
       "<style scoped>\n",
       "    .dataframe tbody tr th:only-of-type {\n",
       "        vertical-align: middle;\n",
       "    }\n",
       "\n",
       "    .dataframe tbody tr th {\n",
       "        vertical-align: top;\n",
       "    }\n",
       "\n",
       "    .dataframe thead th {\n",
       "        text-align: right;\n",
       "    }\n",
       "</style>\n",
       "<table border=\"1\" class=\"dataframe\">\n",
       "  <thead>\n",
       "    <tr style=\"text-align: right;\">\n",
       "      <th></th>\n",
       "      <th>registration_year</th>\n",
       "      <th>power</th>\n",
       "      <th>kilometer</th>\n",
       "      <th>x0_convertible</th>\n",
       "      <th>x0_coupe</th>\n",
       "      <th>x0_other</th>\n",
       "      <th>x0_sedan</th>\n",
       "      <th>x0_small</th>\n",
       "      <th>x0_suv</th>\n",
       "      <th>x0_wagon</th>\n",
       "      <th>...</th>\n",
       "      <th>x4_smart</th>\n",
       "      <th>x4_sonstige_autos</th>\n",
       "      <th>x4_subaru</th>\n",
       "      <th>x4_suzuki</th>\n",
       "      <th>x4_toyota</th>\n",
       "      <th>x4_trabant</th>\n",
       "      <th>x4_volkswagen</th>\n",
       "      <th>x4_volvo</th>\n",
       "      <th>x5_unknown</th>\n",
       "      <th>x5_yes</th>\n",
       "    </tr>\n",
       "  </thead>\n",
       "  <tbody>\n",
       "    <tr>\n",
       "      <th>350902</th>\n",
       "      <td>2002</td>\n",
       "      <td>125</td>\n",
       "      <td>150000</td>\n",
       "      <td>0.0</td>\n",
       "      <td>0.0</td>\n",
       "      <td>0.0</td>\n",
       "      <td>0.0</td>\n",
       "      <td>0.0</td>\n",
       "      <td>0.0</td>\n",
       "      <td>1.0</td>\n",
       "      <td>...</td>\n",
       "      <td>0.0</td>\n",
       "      <td>0.0</td>\n",
       "      <td>0.0</td>\n",
       "      <td>0.0</td>\n",
       "      <td>0.0</td>\n",
       "      <td>0.0</td>\n",
       "      <td>0.0</td>\n",
       "      <td>0.0</td>\n",
       "      <td>0.0</td>\n",
       "      <td>0.0</td>\n",
       "    </tr>\n",
       "    <tr>\n",
       "      <th>298571</th>\n",
       "      <td>1998</td>\n",
       "      <td>119</td>\n",
       "      <td>150000</td>\n",
       "      <td>0.0</td>\n",
       "      <td>0.0</td>\n",
       "      <td>0.0</td>\n",
       "      <td>1.0</td>\n",
       "      <td>0.0</td>\n",
       "      <td>0.0</td>\n",
       "      <td>0.0</td>\n",
       "      <td>...</td>\n",
       "      <td>0.0</td>\n",
       "      <td>0.0</td>\n",
       "      <td>0.0</td>\n",
       "      <td>0.0</td>\n",
       "      <td>0.0</td>\n",
       "      <td>0.0</td>\n",
       "      <td>0.0</td>\n",
       "      <td>0.0</td>\n",
       "      <td>0.0</td>\n",
       "      <td>1.0</td>\n",
       "    </tr>\n",
       "    <tr>\n",
       "      <th>259756</th>\n",
       "      <td>2008</td>\n",
       "      <td>170</td>\n",
       "      <td>150000</td>\n",
       "      <td>0.0</td>\n",
       "      <td>0.0</td>\n",
       "      <td>0.0</td>\n",
       "      <td>0.0</td>\n",
       "      <td>0.0</td>\n",
       "      <td>0.0</td>\n",
       "      <td>1.0</td>\n",
       "      <td>...</td>\n",
       "      <td>0.0</td>\n",
       "      <td>0.0</td>\n",
       "      <td>0.0</td>\n",
       "      <td>0.0</td>\n",
       "      <td>0.0</td>\n",
       "      <td>0.0</td>\n",
       "      <td>0.0</td>\n",
       "      <td>0.0</td>\n",
       "      <td>0.0</td>\n",
       "      <td>0.0</td>\n",
       "    </tr>\n",
       "    <tr>\n",
       "      <th>282889</th>\n",
       "      <td>2012</td>\n",
       "      <td>105</td>\n",
       "      <td>90000</td>\n",
       "      <td>1.0</td>\n",
       "      <td>0.0</td>\n",
       "      <td>0.0</td>\n",
       "      <td>0.0</td>\n",
       "      <td>0.0</td>\n",
       "      <td>0.0</td>\n",
       "      <td>0.0</td>\n",
       "      <td>...</td>\n",
       "      <td>0.0</td>\n",
       "      <td>0.0</td>\n",
       "      <td>0.0</td>\n",
       "      <td>0.0</td>\n",
       "      <td>0.0</td>\n",
       "      <td>0.0</td>\n",
       "      <td>1.0</td>\n",
       "      <td>0.0</td>\n",
       "      <td>0.0</td>\n",
       "      <td>0.0</td>\n",
       "    </tr>\n",
       "    <tr>\n",
       "      <th>163979</th>\n",
       "      <td>2007</td>\n",
       "      <td>143</td>\n",
       "      <td>150000</td>\n",
       "      <td>0.0</td>\n",
       "      <td>0.0</td>\n",
       "      <td>0.0</td>\n",
       "      <td>1.0</td>\n",
       "      <td>0.0</td>\n",
       "      <td>0.0</td>\n",
       "      <td>0.0</td>\n",
       "      <td>...</td>\n",
       "      <td>0.0</td>\n",
       "      <td>0.0</td>\n",
       "      <td>0.0</td>\n",
       "      <td>0.0</td>\n",
       "      <td>0.0</td>\n",
       "      <td>0.0</td>\n",
       "      <td>0.0</td>\n",
       "      <td>0.0</td>\n",
       "      <td>0.0</td>\n",
       "      <td>0.0</td>\n",
       "    </tr>\n",
       "    <tr>\n",
       "      <th>...</th>\n",
       "      <td>...</td>\n",
       "      <td>...</td>\n",
       "      <td>...</td>\n",
       "      <td>...</td>\n",
       "      <td>...</td>\n",
       "      <td>...</td>\n",
       "      <td>...</td>\n",
       "      <td>...</td>\n",
       "      <td>...</td>\n",
       "      <td>...</td>\n",
       "      <td>...</td>\n",
       "      <td>...</td>\n",
       "      <td>...</td>\n",
       "      <td>...</td>\n",
       "      <td>...</td>\n",
       "      <td>...</td>\n",
       "      <td>...</td>\n",
       "      <td>...</td>\n",
       "      <td>...</td>\n",
       "      <td>...</td>\n",
       "      <td>...</td>\n",
       "    </tr>\n",
       "    <tr>\n",
       "      <th>155005</th>\n",
       "      <td>2001</td>\n",
       "      <td>80</td>\n",
       "      <td>150000</td>\n",
       "      <td>0.0</td>\n",
       "      <td>0.0</td>\n",
       "      <td>0.0</td>\n",
       "      <td>1.0</td>\n",
       "      <td>0.0</td>\n",
       "      <td>0.0</td>\n",
       "      <td>0.0</td>\n",
       "      <td>...</td>\n",
       "      <td>0.0</td>\n",
       "      <td>0.0</td>\n",
       "      <td>0.0</td>\n",
       "      <td>0.0</td>\n",
       "      <td>0.0</td>\n",
       "      <td>0.0</td>\n",
       "      <td>0.0</td>\n",
       "      <td>0.0</td>\n",
       "      <td>1.0</td>\n",
       "      <td>0.0</td>\n",
       "    </tr>\n",
       "    <tr>\n",
       "      <th>132914</th>\n",
       "      <td>2012</td>\n",
       "      <td>265</td>\n",
       "      <td>60000</td>\n",
       "      <td>0.0</td>\n",
       "      <td>1.0</td>\n",
       "      <td>0.0</td>\n",
       "      <td>0.0</td>\n",
       "      <td>0.0</td>\n",
       "      <td>0.0</td>\n",
       "      <td>0.0</td>\n",
       "      <td>...</td>\n",
       "      <td>0.0</td>\n",
       "      <td>0.0</td>\n",
       "      <td>0.0</td>\n",
       "      <td>0.0</td>\n",
       "      <td>0.0</td>\n",
       "      <td>0.0</td>\n",
       "      <td>0.0</td>\n",
       "      <td>0.0</td>\n",
       "      <td>0.0</td>\n",
       "      <td>0.0</td>\n",
       "    </tr>\n",
       "    <tr>\n",
       "      <th>171657</th>\n",
       "      <td>2008</td>\n",
       "      <td>239</td>\n",
       "      <td>150000</td>\n",
       "      <td>0.0</td>\n",
       "      <td>1.0</td>\n",
       "      <td>0.0</td>\n",
       "      <td>0.0</td>\n",
       "      <td>0.0</td>\n",
       "      <td>0.0</td>\n",
       "      <td>0.0</td>\n",
       "      <td>...</td>\n",
       "      <td>0.0</td>\n",
       "      <td>0.0</td>\n",
       "      <td>0.0</td>\n",
       "      <td>0.0</td>\n",
       "      <td>0.0</td>\n",
       "      <td>0.0</td>\n",
       "      <td>0.0</td>\n",
       "      <td>0.0</td>\n",
       "      <td>0.0</td>\n",
       "      <td>0.0</td>\n",
       "    </tr>\n",
       "    <tr>\n",
       "      <th>192557</th>\n",
       "      <td>2002</td>\n",
       "      <td>150</td>\n",
       "      <td>150000</td>\n",
       "      <td>0.0</td>\n",
       "      <td>0.0</td>\n",
       "      <td>0.0</td>\n",
       "      <td>1.0</td>\n",
       "      <td>0.0</td>\n",
       "      <td>0.0</td>\n",
       "      <td>0.0</td>\n",
       "      <td>...</td>\n",
       "      <td>0.0</td>\n",
       "      <td>0.0</td>\n",
       "      <td>0.0</td>\n",
       "      <td>0.0</td>\n",
       "      <td>0.0</td>\n",
       "      <td>0.0</td>\n",
       "      <td>0.0</td>\n",
       "      <td>0.0</td>\n",
       "      <td>0.0</td>\n",
       "      <td>0.0</td>\n",
       "    </tr>\n",
       "    <tr>\n",
       "      <th>157808</th>\n",
       "      <td>2009</td>\n",
       "      <td>136</td>\n",
       "      <td>100000</td>\n",
       "      <td>0.0</td>\n",
       "      <td>0.0</td>\n",
       "      <td>0.0</td>\n",
       "      <td>0.0</td>\n",
       "      <td>0.0</td>\n",
       "      <td>0.0</td>\n",
       "      <td>0.0</td>\n",
       "      <td>...</td>\n",
       "      <td>0.0</td>\n",
       "      <td>0.0</td>\n",
       "      <td>0.0</td>\n",
       "      <td>0.0</td>\n",
       "      <td>0.0</td>\n",
       "      <td>0.0</td>\n",
       "      <td>1.0</td>\n",
       "      <td>0.0</td>\n",
       "      <td>0.0</td>\n",
       "      <td>0.0</td>\n",
       "    </tr>\n",
       "  </tbody>\n",
       "</table>\n",
       "<p>191795 rows × 307 columns</p>\n",
       "</div>"
      ],
      "text/plain": [
       "        registration_year  power  kilometer  x0_convertible  x0_coupe  \\\n",
       "350902               2002    125     150000             0.0       0.0   \n",
       "298571               1998    119     150000             0.0       0.0   \n",
       "259756               2008    170     150000             0.0       0.0   \n",
       "282889               2012    105      90000             1.0       0.0   \n",
       "163979               2007    143     150000             0.0       0.0   \n",
       "...                   ...    ...        ...             ...       ...   \n",
       "155005               2001     80     150000             0.0       0.0   \n",
       "132914               2012    265      60000             0.0       1.0   \n",
       "171657               2008    239     150000             0.0       1.0   \n",
       "192557               2002    150     150000             0.0       0.0   \n",
       "157808               2009    136     100000             0.0       0.0   \n",
       "\n",
       "        x0_other  x0_sedan  x0_small  x0_suv  x0_wagon  ...  x4_smart  \\\n",
       "350902       0.0       0.0       0.0     0.0       1.0  ...       0.0   \n",
       "298571       0.0       1.0       0.0     0.0       0.0  ...       0.0   \n",
       "259756       0.0       0.0       0.0     0.0       1.0  ...       0.0   \n",
       "282889       0.0       0.0       0.0     0.0       0.0  ...       0.0   \n",
       "163979       0.0       1.0       0.0     0.0       0.0  ...       0.0   \n",
       "...          ...       ...       ...     ...       ...  ...       ...   \n",
       "155005       0.0       1.0       0.0     0.0       0.0  ...       0.0   \n",
       "132914       0.0       0.0       0.0     0.0       0.0  ...       0.0   \n",
       "171657       0.0       0.0       0.0     0.0       0.0  ...       0.0   \n",
       "192557       0.0       1.0       0.0     0.0       0.0  ...       0.0   \n",
       "157808       0.0       0.0       0.0     0.0       0.0  ...       0.0   \n",
       "\n",
       "        x4_sonstige_autos  x4_subaru  x4_suzuki  x4_toyota  x4_trabant  \\\n",
       "350902                0.0        0.0        0.0        0.0         0.0   \n",
       "298571                0.0        0.0        0.0        0.0         0.0   \n",
       "259756                0.0        0.0        0.0        0.0         0.0   \n",
       "282889                0.0        0.0        0.0        0.0         0.0   \n",
       "163979                0.0        0.0        0.0        0.0         0.0   \n",
       "...                   ...        ...        ...        ...         ...   \n",
       "155005                0.0        0.0        0.0        0.0         0.0   \n",
       "132914                0.0        0.0        0.0        0.0         0.0   \n",
       "171657                0.0        0.0        0.0        0.0         0.0   \n",
       "192557                0.0        0.0        0.0        0.0         0.0   \n",
       "157808                0.0        0.0        0.0        0.0         0.0   \n",
       "\n",
       "        x4_volkswagen  x4_volvo  x5_unknown  x5_yes  \n",
       "350902            0.0       0.0         0.0     0.0  \n",
       "298571            0.0       0.0         0.0     1.0  \n",
       "259756            0.0       0.0         0.0     0.0  \n",
       "282889            1.0       0.0         0.0     0.0  \n",
       "163979            0.0       0.0         0.0     0.0  \n",
       "...               ...       ...         ...     ...  \n",
       "155005            0.0       0.0         1.0     0.0  \n",
       "132914            0.0       0.0         0.0     0.0  \n",
       "171657            0.0       0.0         0.0     0.0  \n",
       "192557            0.0       0.0         0.0     0.0  \n",
       "157808            1.0       0.0         0.0     0.0  \n",
       "\n",
       "[191795 rows x 307 columns]"
      ]
     },
     "execution_count": 57,
     "metadata": {},
     "output_type": "execute_result"
    }
   ],
   "source": [
    "features_train_ohe"
   ]
  },
  {
   "cell_type": "code",
   "execution_count": 58,
   "metadata": {},
   "outputs": [
    {
     "data": {
      "text/html": [
       "<div>\n",
       "<style scoped>\n",
       "    .dataframe tbody tr th:only-of-type {\n",
       "        vertical-align: middle;\n",
       "    }\n",
       "\n",
       "    .dataframe tbody tr th {\n",
       "        vertical-align: top;\n",
       "    }\n",
       "\n",
       "    .dataframe thead th {\n",
       "        text-align: right;\n",
       "    }\n",
       "</style>\n",
       "<table border=\"1\" class=\"dataframe\">\n",
       "  <thead>\n",
       "    <tr style=\"text-align: right;\">\n",
       "      <th></th>\n",
       "      <th>registration_year</th>\n",
       "      <th>power</th>\n",
       "      <th>kilometer</th>\n",
       "      <th>x0_convertible</th>\n",
       "      <th>x0_coupe</th>\n",
       "      <th>x0_other</th>\n",
       "      <th>x0_sedan</th>\n",
       "      <th>x0_small</th>\n",
       "      <th>x0_suv</th>\n",
       "      <th>x0_wagon</th>\n",
       "      <th>...</th>\n",
       "      <th>x4_smart</th>\n",
       "      <th>x4_sonstige_autos</th>\n",
       "      <th>x4_subaru</th>\n",
       "      <th>x4_suzuki</th>\n",
       "      <th>x4_toyota</th>\n",
       "      <th>x4_trabant</th>\n",
       "      <th>x4_volkswagen</th>\n",
       "      <th>x4_volvo</th>\n",
       "      <th>x5_unknown</th>\n",
       "      <th>x5_yes</th>\n",
       "    </tr>\n",
       "  </thead>\n",
       "  <tbody>\n",
       "    <tr>\n",
       "      <th>146845</th>\n",
       "      <td>1999</td>\n",
       "      <td>128</td>\n",
       "      <td>150000</td>\n",
       "      <td>0.0</td>\n",
       "      <td>0.0</td>\n",
       "      <td>0.0</td>\n",
       "      <td>0.0</td>\n",
       "      <td>0.0</td>\n",
       "      <td>1.0</td>\n",
       "      <td>0.0</td>\n",
       "      <td>...</td>\n",
       "      <td>0.0</td>\n",
       "      <td>0.0</td>\n",
       "      <td>0.0</td>\n",
       "      <td>1.0</td>\n",
       "      <td>0.0</td>\n",
       "      <td>0.0</td>\n",
       "      <td>0.0</td>\n",
       "      <td>0.0</td>\n",
       "      <td>0.0</td>\n",
       "      <td>0.0</td>\n",
       "    </tr>\n",
       "    <tr>\n",
       "      <th>98818</th>\n",
       "      <td>1999</td>\n",
       "      <td>65</td>\n",
       "      <td>150000</td>\n",
       "      <td>0.0</td>\n",
       "      <td>0.0</td>\n",
       "      <td>0.0</td>\n",
       "      <td>0.0</td>\n",
       "      <td>1.0</td>\n",
       "      <td>0.0</td>\n",
       "      <td>0.0</td>\n",
       "      <td>...</td>\n",
       "      <td>0.0</td>\n",
       "      <td>0.0</td>\n",
       "      <td>0.0</td>\n",
       "      <td>0.0</td>\n",
       "      <td>0.0</td>\n",
       "      <td>0.0</td>\n",
       "      <td>0.0</td>\n",
       "      <td>0.0</td>\n",
       "      <td>0.0</td>\n",
       "      <td>0.0</td>\n",
       "    </tr>\n",
       "    <tr>\n",
       "      <th>124643</th>\n",
       "      <td>2004</td>\n",
       "      <td>150</td>\n",
       "      <td>150000</td>\n",
       "      <td>0.0</td>\n",
       "      <td>0.0</td>\n",
       "      <td>0.0</td>\n",
       "      <td>0.0</td>\n",
       "      <td>0.0</td>\n",
       "      <td>0.0</td>\n",
       "      <td>1.0</td>\n",
       "      <td>...</td>\n",
       "      <td>0.0</td>\n",
       "      <td>0.0</td>\n",
       "      <td>0.0</td>\n",
       "      <td>0.0</td>\n",
       "      <td>0.0</td>\n",
       "      <td>0.0</td>\n",
       "      <td>1.0</td>\n",
       "      <td>0.0</td>\n",
       "      <td>0.0</td>\n",
       "      <td>0.0</td>\n",
       "    </tr>\n",
       "    <tr>\n",
       "      <th>173507</th>\n",
       "      <td>2000</td>\n",
       "      <td>122</td>\n",
       "      <td>150000</td>\n",
       "      <td>0.0</td>\n",
       "      <td>0.0</td>\n",
       "      <td>0.0</td>\n",
       "      <td>0.0</td>\n",
       "      <td>0.0</td>\n",
       "      <td>0.0</td>\n",
       "      <td>1.0</td>\n",
       "      <td>...</td>\n",
       "      <td>0.0</td>\n",
       "      <td>0.0</td>\n",
       "      <td>0.0</td>\n",
       "      <td>0.0</td>\n",
       "      <td>0.0</td>\n",
       "      <td>0.0</td>\n",
       "      <td>0.0</td>\n",
       "      <td>0.0</td>\n",
       "      <td>0.0</td>\n",
       "      <td>0.0</td>\n",
       "    </tr>\n",
       "    <tr>\n",
       "      <th>322803</th>\n",
       "      <td>2008</td>\n",
       "      <td>156</td>\n",
       "      <td>125000</td>\n",
       "      <td>0.0</td>\n",
       "      <td>0.0</td>\n",
       "      <td>0.0</td>\n",
       "      <td>0.0</td>\n",
       "      <td>0.0</td>\n",
       "      <td>0.0</td>\n",
       "      <td>1.0</td>\n",
       "      <td>...</td>\n",
       "      <td>0.0</td>\n",
       "      <td>0.0</td>\n",
       "      <td>0.0</td>\n",
       "      <td>0.0</td>\n",
       "      <td>0.0</td>\n",
       "      <td>0.0</td>\n",
       "      <td>0.0</td>\n",
       "      <td>0.0</td>\n",
       "      <td>0.0</td>\n",
       "      <td>0.0</td>\n",
       "    </tr>\n",
       "    <tr>\n",
       "      <th>...</th>\n",
       "      <td>...</td>\n",
       "      <td>...</td>\n",
       "      <td>...</td>\n",
       "      <td>...</td>\n",
       "      <td>...</td>\n",
       "      <td>...</td>\n",
       "      <td>...</td>\n",
       "      <td>...</td>\n",
       "      <td>...</td>\n",
       "      <td>...</td>\n",
       "      <td>...</td>\n",
       "      <td>...</td>\n",
       "      <td>...</td>\n",
       "      <td>...</td>\n",
       "      <td>...</td>\n",
       "      <td>...</td>\n",
       "      <td>...</td>\n",
       "      <td>...</td>\n",
       "      <td>...</td>\n",
       "      <td>...</td>\n",
       "      <td>...</td>\n",
       "    </tr>\n",
       "    <tr>\n",
       "      <th>117689</th>\n",
       "      <td>2009</td>\n",
       "      <td>143</td>\n",
       "      <td>150000</td>\n",
       "      <td>0.0</td>\n",
       "      <td>0.0</td>\n",
       "      <td>0.0</td>\n",
       "      <td>0.0</td>\n",
       "      <td>0.0</td>\n",
       "      <td>1.0</td>\n",
       "      <td>0.0</td>\n",
       "      <td>...</td>\n",
       "      <td>0.0</td>\n",
       "      <td>0.0</td>\n",
       "      <td>0.0</td>\n",
       "      <td>0.0</td>\n",
       "      <td>0.0</td>\n",
       "      <td>0.0</td>\n",
       "      <td>0.0</td>\n",
       "      <td>0.0</td>\n",
       "      <td>0.0</td>\n",
       "      <td>0.0</td>\n",
       "    </tr>\n",
       "    <tr>\n",
       "      <th>214350</th>\n",
       "      <td>1997</td>\n",
       "      <td>279</td>\n",
       "      <td>150000</td>\n",
       "      <td>0.0</td>\n",
       "      <td>0.0</td>\n",
       "      <td>0.0</td>\n",
       "      <td>0.0</td>\n",
       "      <td>0.0</td>\n",
       "      <td>0.0</td>\n",
       "      <td>1.0</td>\n",
       "      <td>...</td>\n",
       "      <td>0.0</td>\n",
       "      <td>0.0</td>\n",
       "      <td>0.0</td>\n",
       "      <td>0.0</td>\n",
       "      <td>0.0</td>\n",
       "      <td>0.0</td>\n",
       "      <td>0.0</td>\n",
       "      <td>0.0</td>\n",
       "      <td>0.0</td>\n",
       "      <td>0.0</td>\n",
       "    </tr>\n",
       "    <tr>\n",
       "      <th>336091</th>\n",
       "      <td>2012</td>\n",
       "      <td>107</td>\n",
       "      <td>60000</td>\n",
       "      <td>0.0</td>\n",
       "      <td>0.0</td>\n",
       "      <td>0.0</td>\n",
       "      <td>0.0</td>\n",
       "      <td>0.0</td>\n",
       "      <td>1.0</td>\n",
       "      <td>0.0</td>\n",
       "      <td>...</td>\n",
       "      <td>0.0</td>\n",
       "      <td>0.0</td>\n",
       "      <td>0.0</td>\n",
       "      <td>0.0</td>\n",
       "      <td>0.0</td>\n",
       "      <td>0.0</td>\n",
       "      <td>0.0</td>\n",
       "      <td>0.0</td>\n",
       "      <td>1.0</td>\n",
       "      <td>0.0</td>\n",
       "    </tr>\n",
       "    <tr>\n",
       "      <th>53812</th>\n",
       "      <td>1997</td>\n",
       "      <td>204</td>\n",
       "      <td>150000</td>\n",
       "      <td>0.0</td>\n",
       "      <td>0.0</td>\n",
       "      <td>0.0</td>\n",
       "      <td>1.0</td>\n",
       "      <td>0.0</td>\n",
       "      <td>0.0</td>\n",
       "      <td>0.0</td>\n",
       "      <td>...</td>\n",
       "      <td>0.0</td>\n",
       "      <td>0.0</td>\n",
       "      <td>0.0</td>\n",
       "      <td>0.0</td>\n",
       "      <td>0.0</td>\n",
       "      <td>0.0</td>\n",
       "      <td>0.0</td>\n",
       "      <td>0.0</td>\n",
       "      <td>1.0</td>\n",
       "      <td>0.0</td>\n",
       "    </tr>\n",
       "    <tr>\n",
       "      <th>249404</th>\n",
       "      <td>2016</td>\n",
       "      <td>60</td>\n",
       "      <td>150000</td>\n",
       "      <td>0.0</td>\n",
       "      <td>0.0</td>\n",
       "      <td>1.0</td>\n",
       "      <td>0.0</td>\n",
       "      <td>0.0</td>\n",
       "      <td>0.0</td>\n",
       "      <td>0.0</td>\n",
       "      <td>...</td>\n",
       "      <td>0.0</td>\n",
       "      <td>0.0</td>\n",
       "      <td>0.0</td>\n",
       "      <td>0.0</td>\n",
       "      <td>0.0</td>\n",
       "      <td>0.0</td>\n",
       "      <td>1.0</td>\n",
       "      <td>0.0</td>\n",
       "      <td>0.0</td>\n",
       "      <td>1.0</td>\n",
       "    </tr>\n",
       "  </tbody>\n",
       "</table>\n",
       "<p>63932 rows × 307 columns</p>\n",
       "</div>"
      ],
      "text/plain": [
       "        registration_year  power  kilometer  x0_convertible  x0_coupe  \\\n",
       "146845               1999    128     150000             0.0       0.0   \n",
       "98818                1999     65     150000             0.0       0.0   \n",
       "124643               2004    150     150000             0.0       0.0   \n",
       "173507               2000    122     150000             0.0       0.0   \n",
       "322803               2008    156     125000             0.0       0.0   \n",
       "...                   ...    ...        ...             ...       ...   \n",
       "117689               2009    143     150000             0.0       0.0   \n",
       "214350               1997    279     150000             0.0       0.0   \n",
       "336091               2012    107      60000             0.0       0.0   \n",
       "53812                1997    204     150000             0.0       0.0   \n",
       "249404               2016     60     150000             0.0       0.0   \n",
       "\n",
       "        x0_other  x0_sedan  x0_small  x0_suv  x0_wagon  ...  x4_smart  \\\n",
       "146845       0.0       0.0       0.0     1.0       0.0  ...       0.0   \n",
       "98818        0.0       0.0       1.0     0.0       0.0  ...       0.0   \n",
       "124643       0.0       0.0       0.0     0.0       1.0  ...       0.0   \n",
       "173507       0.0       0.0       0.0     0.0       1.0  ...       0.0   \n",
       "322803       0.0       0.0       0.0     0.0       1.0  ...       0.0   \n",
       "...          ...       ...       ...     ...       ...  ...       ...   \n",
       "117689       0.0       0.0       0.0     1.0       0.0  ...       0.0   \n",
       "214350       0.0       0.0       0.0     0.0       1.0  ...       0.0   \n",
       "336091       0.0       0.0       0.0     1.0       0.0  ...       0.0   \n",
       "53812        0.0       1.0       0.0     0.0       0.0  ...       0.0   \n",
       "249404       1.0       0.0       0.0     0.0       0.0  ...       0.0   \n",
       "\n",
       "        x4_sonstige_autos  x4_subaru  x4_suzuki  x4_toyota  x4_trabant  \\\n",
       "146845                0.0        0.0        1.0        0.0         0.0   \n",
       "98818                 0.0        0.0        0.0        0.0         0.0   \n",
       "124643                0.0        0.0        0.0        0.0         0.0   \n",
       "173507                0.0        0.0        0.0        0.0         0.0   \n",
       "322803                0.0        0.0        0.0        0.0         0.0   \n",
       "...                   ...        ...        ...        ...         ...   \n",
       "117689                0.0        0.0        0.0        0.0         0.0   \n",
       "214350                0.0        0.0        0.0        0.0         0.0   \n",
       "336091                0.0        0.0        0.0        0.0         0.0   \n",
       "53812                 0.0        0.0        0.0        0.0         0.0   \n",
       "249404                0.0        0.0        0.0        0.0         0.0   \n",
       "\n",
       "        x4_volkswagen  x4_volvo  x5_unknown  x5_yes  \n",
       "146845            0.0       0.0         0.0     0.0  \n",
       "98818             0.0       0.0         0.0     0.0  \n",
       "124643            1.0       0.0         0.0     0.0  \n",
       "173507            0.0       0.0         0.0     0.0  \n",
       "322803            0.0       0.0         0.0     0.0  \n",
       "...               ...       ...         ...     ...  \n",
       "117689            0.0       0.0         0.0     0.0  \n",
       "214350            0.0       0.0         0.0     0.0  \n",
       "336091            0.0       0.0         1.0     0.0  \n",
       "53812             0.0       0.0         1.0     0.0  \n",
       "249404            1.0       0.0         0.0     1.0  \n",
       "\n",
       "[63932 rows x 307 columns]"
      ]
     },
     "execution_count": 58,
     "metadata": {},
     "output_type": "execute_result"
    }
   ],
   "source": [
    "features_test_ohe"
   ]
  },
  {
   "cell_type": "code",
   "execution_count": 59,
   "metadata": {},
   "outputs": [
    {
     "name": "stdout",
     "output_type": "stream",
     "text": [
      "(191795, 307)\n",
      "(191795,)\n",
      "(63932, 307)\n",
      "(63932,)\n"
     ]
    }
   ],
   "source": [
    "print(features_train_ohe.shape)\n",
    "print(target_train_ohe.shape)\n",
    "print(features_test_ohe.shape)\n",
    "print(target_test_ohe.shape)"
   ]
  },
  {
   "cell_type": "markdown",
   "metadata": {},
   "source": [
    "### Модель линейной регрессии"
   ]
  },
  {
   "cell_type": "code",
   "execution_count": 60,
   "metadata": {},
   "outputs": [
    {
     "data": {
      "text/plain": [
       "LinearRegression()"
      ]
     },
     "execution_count": 60,
     "metadata": {},
     "output_type": "execute_result"
    }
   ],
   "source": [
    "model = LinearRegression()\n",
    "model.fit(features_train_ohe, target_train_ohe)\n",
    "\n",
    "#predictions_test_ohe = model.predict(features_test_ohe)\n",
    "\n",
    "#rmse = mean_squared_error(target_test_ohe, predictions_test_ohe)**0.5\n",
    "#print(f'Корень из квадратичной средней ошибки (RMSE) для модели лин. рег. составляет {round(rmse, 2)}')"
   ]
  },
  {
   "cell_type": "markdown",
   "metadata": {},
   "source": [
    "#Модель линейной регрессии показывает не очень хорошие результаты."
   ]
  },
  {
   "cell_type": "code",
   "execution_count": 61,
   "metadata": {},
   "outputs": [],
   "source": [
    "param_grid = {\n",
    "    'n_jobs': [1, -1]\n",
    "}"
   ]
  },
  {
   "cell_type": "code",
   "execution_count": 62,
   "metadata": {},
   "outputs": [],
   "source": [
    "grid_cv = GridSearchCV(estimator=model, param_grid=param_grid, cv=5, scoring='neg_root_mean_squared_error')"
   ]
  },
  {
   "cell_type": "code",
   "execution_count": 63,
   "metadata": {},
   "outputs": [
    {
     "data": {
      "text/plain": [
       "GridSearchCV(cv=5, estimator=LinearRegression(), param_grid={'n_jobs': [1, -1]},\n",
       "             scoring='neg_root_mean_squared_error')"
      ]
     },
     "execution_count": 63,
     "metadata": {},
     "output_type": "execute_result"
    }
   ],
   "source": [
    "grid_cv.fit(features_train_ohe, target_train_ohe)"
   ]
  },
  {
   "cell_type": "code",
   "execution_count": 64,
   "metadata": {},
   "outputs": [],
   "source": [
    "best_score = grid_cv.best_score_*-1"
   ]
  },
  {
   "cell_type": "code",
   "execution_count": 65,
   "metadata": {},
   "outputs": [
    {
     "name": "stdout",
     "output_type": "stream",
     "text": [
      "Корень из квадратичной средней ошибки (RMSE) для модели лин. рег. составляет 2626.86\n"
     ]
    }
   ],
   "source": [
    "print(f'Корень из квадратичной средней ошибки (RMSE) для модели лин. рег. составляет {round(best_score, 2)}')"
   ]
  },
  {
   "cell_type": "markdown",
   "metadata": {},
   "source": [
    "### Модель LightGBM"
   ]
  },
  {
   "cell_type": "code",
   "execution_count": 66,
   "metadata": {},
   "outputs": [],
   "source": [
    "target = data['price']\n",
    "features = data.drop('price', axis=1)"
   ]
  },
  {
   "cell_type": "markdown",
   "metadata": {},
   "source": [
    "Для модели LightGBM необходимо перевести признаки в тип Category"
   ]
  },
  {
   "cell_type": "code",
   "execution_count": 67,
   "metadata": {},
   "outputs": [],
   "source": [
    "for c in features.columns:\n",
    "  col_type = features[c].dtype\n",
    "  if col_type == 'object':\n",
    "    features[c] = features[c].astype('category')"
   ]
  },
  {
   "cell_type": "markdown",
   "metadata": {},
   "source": [
    "Разобьем на обучающую и тестовую выборки"
   ]
  },
  {
   "cell_type": "code",
   "execution_count": 68,
   "metadata": {},
   "outputs": [],
   "source": [
    "features_train, features_test, target_train, target_test = (\n",
    "                            train_test_split(features,\n",
    "                                             target,\n",
    "                                             test_size=0.25,\n",
    "                                             random_state=RANDOM_STATE) \n",
    "                                                            )"
   ]
  },
  {
   "cell_type": "code",
   "execution_count": 69,
   "metadata": {},
   "outputs": [
    {
     "name": "stdout",
     "output_type": "stream",
     "text": [
      "(191795, 9)\n",
      "(63932, 9)\n"
     ]
    }
   ],
   "source": [
    "print(features_train.shape)\n",
    "print(features_test.shape)"
   ]
  },
  {
   "cell_type": "code",
   "execution_count": 70,
   "metadata": {},
   "outputs": [
    {
     "data": {
      "text/plain": [
       "LGBMRegressor(random_state=42)"
      ]
     },
     "execution_count": 70,
     "metadata": {},
     "output_type": "execute_result"
    }
   ],
   "source": [
    "model = lgb.LGBMRegressor(random_state=RANDOM_STATE)\n",
    "\n",
    "model.fit(features_train, target_train)\n",
    "\n",
    "#predictions_test = model.predict(features_test)\n",
    "\n",
    "#rmse = mean_squared_error(target_test, predictions_test)**0.5\n",
    "#print(f'Корень из квадратичной средней ошибки (RMSE) для модели LightGBM составляет {round(rmse, 2)}')"
   ]
  },
  {
   "cell_type": "markdown",
   "metadata": {},
   "source": [
    "Результат намного лучше чем было с моделью линейной регрессии"
   ]
  },
  {
   "cell_type": "markdown",
   "metadata": {},
   "source": [
    "Проверим лучшие гиперпараметры"
   ]
  },
  {
   "cell_type": "code",
   "execution_count": 71,
   "metadata": {},
   "outputs": [],
   "source": [
    "param_grid = {'n_estimators': [100, 500, 1000], 'num_leaves': [n for n in range(20, 300, 20)]}"
   ]
  },
  {
   "cell_type": "raw",
   "metadata": {},
   "source": [
    "model = lgb.LGBMRegressor(random_state=RANDOM_STATE)\n",
    "\n",
    "tuning_model=GridSearchCV(estimator=model,\n",
    "                          param_grid=param_grid,\n",
    "                          scoring='neg_root_mean_squared_error',\n",
    "                          cv=3,\n",
    "                          verbose=3)\n",
    "\n",
    "tuning_model.fit(features_train, target_train)\n",
    "display(tuning_model.best_params_)\n",
    "display(tuning_model.best_score_*-1)"
   ]
  },
  {
   "cell_type": "markdown",
   "metadata": {},
   "source": [
    "Результат: \\\n",
    "{'n_estimators': 500, 'num_leaves': 100} \\\n",
    "1595.60"
   ]
  },
  {
   "cell_type": "markdown",
   "metadata": {},
   "source": [
    "Вывод: Лучше всего справилась модель LightGBM с гиперпараметрами {'n_estimators': 500, 'num_leaves': 100}, метрика RMSE 1595, против 2628 с моделью линейной регрессии"
   ]
  },
  {
   "cell_type": "markdown",
   "metadata": {},
   "source": [
    "## Анализ моделей"
   ]
  },
  {
   "cell_type": "markdown",
   "metadata": {},
   "source": [
    "### Время обучения модели линейной регрессии"
   ]
  },
  {
   "cell_type": "code",
   "execution_count": 72,
   "metadata": {},
   "outputs": [
    {
     "name": "stdout",
     "output_type": "stream",
     "text": [
      "CPU times: user 12.9 s, sys: 4.22 s, total: 17.1 s\n",
      "Wall time: 17.2 s\n"
     ]
    },
    {
     "data": {
      "text/plain": [
       "LinearRegression()"
      ]
     },
     "execution_count": 72,
     "metadata": {},
     "output_type": "execute_result"
    }
   ],
   "source": [
    "%%time\n",
    "\n",
    "model = LinearRegression()\n",
    "model.fit(features_train_ohe, target_train_ohe)"
   ]
  },
  {
   "cell_type": "code",
   "execution_count": 73,
   "metadata": {},
   "outputs": [
    {
     "name": "stdout",
     "output_type": "stream",
     "text": [
      "CPU times: user 247 ms, sys: 128 ms, total: 375 ms\n",
      "Wall time: 311 ms\n"
     ]
    }
   ],
   "source": [
    "%%time\n",
    "\n",
    "predictions_train_ohe = model.predict(features_train_ohe)"
   ]
  },
  {
   "cell_type": "markdown",
   "metadata": {},
   "source": [
    "### Время обучения модели LightGBM"
   ]
  },
  {
   "cell_type": "code",
   "execution_count": 74,
   "metadata": {},
   "outputs": [
    {
     "name": "stdout",
     "output_type": "stream",
     "text": [
      "CPU times: user 51.9 s, sys: 0 ns, total: 51.9 s\n",
      "Wall time: 52.3 s\n"
     ]
    },
    {
     "data": {
      "text/plain": [
       "LGBMRegressor(n_estimators=500, num_leaves=100, random_state=42)"
      ]
     },
     "execution_count": 74,
     "metadata": {},
     "output_type": "execute_result"
    }
   ],
   "source": [
    "%%time\n",
    "\n",
    "model = lgb.LGBMRegressor(random_state=RANDOM_STATE,\n",
    "                          n_estimators=500,\n",
    "                          num_leaves=100)\n",
    "model.fit(features_train, target_train);"
   ]
  },
  {
   "cell_type": "code",
   "execution_count": 75,
   "metadata": {},
   "outputs": [
    {
     "name": "stdout",
     "output_type": "stream",
     "text": [
      "CPU times: user 12.7 s, sys: 0 ns, total: 12.7 s\n",
      "Wall time: 12.8 s\n"
     ]
    }
   ],
   "source": [
    "%%time\n",
    "\n",
    "predictions_train = model.predict(features_train)"
   ]
  },
  {
   "cell_type": "code",
   "execution_count": 76,
   "metadata": {},
   "outputs": [
    {
     "name": "stdout",
     "output_type": "stream",
     "text": [
      "Корень из квадратичной средней ошибки (RMSE) для модели LightGBM составляет 1545.61\n"
     ]
    }
   ],
   "source": [
    "pred = model.predict(features_test)\n",
    "rmse = mean_squared_error(target_test, pred)**0.5\n",
    "print(f'Корень из квадратичной средней ошибки (RMSE) для модели LightGBM составляет {round(rmse, 2)}')"
   ]
  },
  {
   "cell_type": "markdown",
   "metadata": {},
   "source": [
    "Вывод: Модель LightGBM учиться в два раза дольше, чем модель линейной регрессии, но зато показывается метрику RMSE намного лучше: 1564 против 2628 на тестовой выборке. \n",
    "\n",
    "Рекомендации к заказчику использоваться модель LightGBM, она хоть и дольше, но зато более точная."
   ]
  }
 ],
 "metadata": {
  "ExecuteTimeLog": [
   {
    "duration": 343,
    "start_time": "2023-12-13T14:19:45.070Z"
   },
   {
    "duration": 1036,
    "start_time": "2023-12-13T14:19:45.441Z"
   },
   {
    "duration": 24,
    "start_time": "2023-12-13T14:19:46.478Z"
   },
   {
    "duration": 145,
    "start_time": "2023-12-13T14:20:44.354Z"
   },
   {
    "duration": 11,
    "start_time": "2023-12-13T14:22:36.172Z"
   },
   {
    "duration": 3,
    "start_time": "2023-12-13T14:29:00.987Z"
   },
   {
    "duration": 2,
    "start_time": "2023-12-13T14:32:26.562Z"
   },
   {
    "duration": 3,
    "start_time": "2023-12-13T14:32:34.480Z"
   },
   {
    "duration": 20,
    "start_time": "2023-12-13T14:32:40.685Z"
   },
   {
    "duration": 62,
    "start_time": "2023-12-13T14:33:18.800Z"
   },
   {
    "duration": 3,
    "start_time": "2023-12-13T14:34:29.221Z"
   },
   {
    "duration": 4,
    "start_time": "2023-12-13T14:35:07.437Z"
   },
   {
    "duration": 20,
    "start_time": "2023-12-13T14:35:08.048Z"
   },
   {
    "duration": 4,
    "start_time": "2023-12-13T14:36:40.909Z"
   },
   {
    "duration": 20,
    "start_time": "2023-12-13T14:36:42.138Z"
   },
   {
    "duration": 3,
    "start_time": "2023-12-13T14:37:27.789Z"
   },
   {
    "duration": 18,
    "start_time": "2023-12-13T14:37:28.329Z"
   },
   {
    "duration": 12,
    "start_time": "2023-12-13T14:37:48.612Z"
   },
   {
    "duration": 12,
    "start_time": "2023-12-13T14:37:54.040Z"
   },
   {
    "duration": 7,
    "start_time": "2023-12-13T14:39:53.987Z"
   },
   {
    "duration": 11,
    "start_time": "2023-12-13T14:40:03.811Z"
   },
   {
    "duration": 95,
    "start_time": "2023-12-13T14:41:36.893Z"
   },
   {
    "duration": 159,
    "start_time": "2023-12-13T14:41:55.299Z"
   },
   {
    "duration": 22,
    "start_time": "2023-12-13T14:41:59.264Z"
   },
   {
    "duration": 115,
    "start_time": "2023-12-13T14:42:45.091Z"
   },
   {
    "duration": 22,
    "start_time": "2023-12-13T14:42:45.752Z"
   },
   {
    "duration": 102,
    "start_time": "2023-12-13T14:42:54.816Z"
   },
   {
    "duration": 14,
    "start_time": "2023-12-13T14:43:07.021Z"
   },
   {
    "duration": 45,
    "start_time": "2023-12-13T14:44:04.488Z"
   },
   {
    "duration": 851,
    "start_time": "2023-12-13T14:44:16.358Z"
   },
   {
    "duration": 12,
    "start_time": "2023-12-13T14:44:17.589Z"
   },
   {
    "duration": 832,
    "start_time": "2023-12-13T14:44:23.368Z"
   },
   {
    "duration": 12,
    "start_time": "2023-12-13T14:44:25.514Z"
   },
   {
    "duration": 120,
    "start_time": "2023-12-13T14:44:26.396Z"
   },
   {
    "duration": 926,
    "start_time": "2023-12-13T14:44:46.009Z"
   },
   {
    "duration": 12,
    "start_time": "2023-12-13T14:44:46.937Z"
   },
   {
    "duration": 781,
    "start_time": "2023-12-13T14:45:00.029Z"
   },
   {
    "duration": 12,
    "start_time": "2023-12-13T14:45:00.812Z"
   },
   {
    "duration": 944,
    "start_time": "2023-12-13T14:45:06.297Z"
   },
   {
    "duration": 12,
    "start_time": "2023-12-13T14:45:07.520Z"
   },
   {
    "duration": 104,
    "start_time": "2023-12-13T14:45:11.202Z"
   },
   {
    "duration": 1035,
    "start_time": "2023-12-13T14:46:58.097Z"
   },
   {
    "duration": 11,
    "start_time": "2023-12-13T14:46:59.134Z"
   },
   {
    "duration": 107,
    "start_time": "2023-12-13T14:47:02.120Z"
   },
   {
    "duration": 13,
    "start_time": "2023-12-13T14:47:21.198Z"
   },
   {
    "duration": 109,
    "start_time": "2023-12-13T14:47:22.581Z"
   },
   {
    "duration": 2,
    "start_time": "2023-12-13T14:51:54.592Z"
   },
   {
    "duration": 278,
    "start_time": "2023-12-13T14:52:03.946Z"
   },
   {
    "duration": 268,
    "start_time": "2023-12-13T14:52:32.280Z"
   },
   {
    "duration": 366,
    "start_time": "2023-12-13T14:52:45.647Z"
   },
   {
    "duration": 1014,
    "start_time": "2023-12-13T14:52:46.014Z"
   },
   {
    "duration": 19,
    "start_time": "2023-12-13T14:52:47.030Z"
   },
   {
    "duration": 128,
    "start_time": "2023-12-13T14:52:47.051Z"
   },
   {
    "duration": 2,
    "start_time": "2023-12-13T14:52:47.181Z"
   },
   {
    "duration": 8,
    "start_time": "2023-12-13T14:52:47.185Z"
   },
   {
    "duration": 22,
    "start_time": "2023-12-13T14:52:47.195Z"
   },
   {
    "duration": 322,
    "start_time": "2023-12-13T14:52:47.219Z"
   },
   {
    "duration": 321,
    "start_time": "2023-12-13T14:52:47.543Z"
   },
   {
    "duration": 4,
    "start_time": "2023-12-13T14:56:15.812Z"
   },
   {
    "duration": 298,
    "start_time": "2023-12-13T14:56:23.914Z"
   },
   {
    "duration": 315,
    "start_time": "2023-12-13T14:56:45.044Z"
   },
   {
    "duration": 318,
    "start_time": "2023-12-13T14:57:53.569Z"
   },
   {
    "duration": 59,
    "start_time": "2023-12-13T14:59:22.753Z"
   },
   {
    "duration": 334,
    "start_time": "2023-12-13T14:59:47.289Z"
   },
   {
    "duration": 309,
    "start_time": "2023-12-13T14:59:55.053Z"
   },
   {
    "duration": 305,
    "start_time": "2023-12-13T15:00:02.802Z"
   },
   {
    "duration": 21,
    "start_time": "2023-12-13T15:01:26.580Z"
   },
   {
    "duration": 22,
    "start_time": "2023-12-13T15:01:40.042Z"
   },
   {
    "duration": 366,
    "start_time": "2023-12-13T15:02:34.546Z"
   },
   {
    "duration": 974,
    "start_time": "2023-12-13T15:02:34.914Z"
   },
   {
    "duration": 28,
    "start_time": "2023-12-13T15:02:35.889Z"
   },
   {
    "duration": 133,
    "start_time": "2023-12-13T15:02:35.918Z"
   },
   {
    "duration": 3,
    "start_time": "2023-12-13T15:02:36.053Z"
   },
   {
    "duration": 13,
    "start_time": "2023-12-13T15:02:36.057Z"
   },
   {
    "duration": 32,
    "start_time": "2023-12-13T15:02:36.072Z"
   },
   {
    "duration": 301,
    "start_time": "2023-12-13T15:02:36.105Z"
   },
   {
    "duration": 295,
    "start_time": "2023-12-13T15:02:36.407Z"
   },
   {
    "duration": 333,
    "start_time": "2023-12-13T15:02:36.704Z"
   },
   {
    "duration": 309,
    "start_time": "2023-12-13T15:02:37.039Z"
   },
   {
    "duration": 280,
    "start_time": "2023-12-13T15:02:37.349Z"
   },
   {
    "duration": 20,
    "start_time": "2023-12-13T15:02:37.630Z"
   },
   {
    "duration": 5,
    "start_time": "2023-12-13T15:02:37.653Z"
   },
   {
    "duration": 5,
    "start_time": "2023-12-13T15:03:03.215Z"
   },
   {
    "duration": 32,
    "start_time": "2023-12-13T15:03:52.101Z"
   },
   {
    "duration": 26,
    "start_time": "2023-12-13T15:04:04.787Z"
   },
   {
    "duration": 32,
    "start_time": "2023-12-13T15:14:21.031Z"
   },
   {
    "duration": 33,
    "start_time": "2023-12-13T15:14:46.178Z"
   },
   {
    "duration": 30,
    "start_time": "2023-12-13T15:14:59.176Z"
   },
   {
    "duration": 31,
    "start_time": "2023-12-13T15:15:05.688Z"
   },
   {
    "duration": 2,
    "start_time": "2023-12-13T15:17:26.256Z"
   },
   {
    "duration": 81,
    "start_time": "2023-12-13T15:17:36.394Z"
   },
   {
    "duration": 7,
    "start_time": "2023-12-13T15:17:41.707Z"
   },
   {
    "duration": 6,
    "start_time": "2023-12-13T15:17:53.807Z"
   },
   {
    "duration": 7,
    "start_time": "2023-12-13T15:18:06.805Z"
   },
   {
    "duration": 6,
    "start_time": "2023-12-13T15:18:08.594Z"
   },
   {
    "duration": 61,
    "start_time": "2023-12-13T15:18:18.032Z"
   },
   {
    "duration": 8,
    "start_time": "2023-12-13T15:18:59.060Z"
   },
   {
    "duration": 8,
    "start_time": "2023-12-13T15:19:56.379Z"
   },
   {
    "duration": 8,
    "start_time": "2023-12-13T15:19:59.641Z"
   },
   {
    "duration": 6,
    "start_time": "2023-12-13T15:20:21.393Z"
   },
   {
    "duration": 6,
    "start_time": "2023-12-13T15:20:28.275Z"
   },
   {
    "duration": 27,
    "start_time": "2023-12-13T15:21:38.339Z"
   },
   {
    "duration": 49,
    "start_time": "2023-12-13T15:22:05.257Z"
   },
   {
    "duration": 121,
    "start_time": "2023-12-13T15:22:15.191Z"
   },
   {
    "duration": 6,
    "start_time": "2023-12-13T15:22:19.133Z"
   },
   {
    "duration": 15,
    "start_time": "2023-12-13T15:22:27.407Z"
   },
   {
    "duration": 24,
    "start_time": "2023-12-13T15:22:47.936Z"
   },
   {
    "duration": 11,
    "start_time": "2023-12-13T15:23:34.111Z"
   },
   {
    "duration": 12,
    "start_time": "2023-12-13T15:23:45.959Z"
   },
   {
    "duration": 7,
    "start_time": "2023-12-13T15:24:12.694Z"
   },
   {
    "duration": 6,
    "start_time": "2023-12-13T15:26:11.901Z"
   },
   {
    "duration": 1489,
    "start_time": "2023-12-13T15:26:30.568Z"
   },
   {
    "duration": 6,
    "start_time": "2023-12-13T15:26:55.012Z"
   },
   {
    "duration": 4853,
    "start_time": "2023-12-13T15:27:13.697Z"
   },
   {
    "duration": 22,
    "start_time": "2023-12-13T15:27:23.731Z"
   },
   {
    "duration": 10,
    "start_time": "2023-12-13T15:27:45.930Z"
   },
   {
    "duration": 151,
    "start_time": "2023-12-13T15:28:04.412Z"
   },
   {
    "duration": 85,
    "start_time": "2023-12-13T15:28:17.299Z"
   },
   {
    "duration": 7,
    "start_time": "2023-12-13T15:28:24.605Z"
   },
   {
    "duration": 195,
    "start_time": "2023-12-13T15:28:30.297Z"
   },
   {
    "duration": 20,
    "start_time": "2023-12-13T15:30:28.190Z"
   },
   {
    "duration": 9,
    "start_time": "2023-12-13T15:30:47.287Z"
   },
   {
    "duration": 9,
    "start_time": "2023-12-13T15:30:54.712Z"
   },
   {
    "duration": 103,
    "start_time": "2023-12-13T15:31:01.145Z"
   },
   {
    "duration": 7,
    "start_time": "2023-12-13T15:31:17.409Z"
   },
   {
    "duration": 11,
    "start_time": "2023-12-13T15:31:22.345Z"
   },
   {
    "duration": 1444,
    "start_time": "2023-12-13T15:31:28.884Z"
   },
   {
    "duration": 1121,
    "start_time": "2023-12-13T15:31:37.787Z"
   },
   {
    "duration": 22,
    "start_time": "2023-12-13T15:32:32.223Z"
   },
   {
    "duration": 8,
    "start_time": "2023-12-13T15:32:38.950Z"
   },
   {
    "duration": 21,
    "start_time": "2023-12-13T15:32:44.561Z"
   },
   {
    "duration": 7,
    "start_time": "2023-12-13T15:33:27.217Z"
   },
   {
    "duration": 8,
    "start_time": "2023-12-13T15:33:40.000Z"
   },
   {
    "duration": 11,
    "start_time": "2023-12-13T15:33:47.054Z"
   },
   {
    "duration": 20,
    "start_time": "2023-12-13T15:33:55.198Z"
   },
   {
    "duration": 22,
    "start_time": "2023-12-13T15:34:25.108Z"
   },
   {
    "duration": 8,
    "start_time": "2023-12-13T15:36:48.875Z"
   },
   {
    "duration": 4,
    "start_time": "2023-12-13T15:36:55.949Z"
   },
   {
    "duration": 7,
    "start_time": "2023-12-13T15:37:22.618Z"
   },
   {
    "duration": 24,
    "start_time": "2023-12-13T15:37:28.331Z"
   },
   {
    "duration": 21,
    "start_time": "2023-12-13T15:37:40.118Z"
   },
   {
    "duration": 24,
    "start_time": "2023-12-13T15:39:18.480Z"
   },
   {
    "duration": 23,
    "start_time": "2023-12-13T15:39:19.395Z"
   },
   {
    "duration": 48,
    "start_time": "2023-12-13T15:39:26.332Z"
   },
   {
    "duration": 22,
    "start_time": "2023-12-13T15:39:37.436Z"
   },
   {
    "duration": 409,
    "start_time": "2023-12-13T15:39:55.692Z"
   },
   {
    "duration": 978,
    "start_time": "2023-12-13T15:39:56.103Z"
   },
   {
    "duration": 17,
    "start_time": "2023-12-13T15:39:57.083Z"
   },
   {
    "duration": 115,
    "start_time": "2023-12-13T15:39:57.101Z"
   },
   {
    "duration": 2,
    "start_time": "2023-12-13T15:39:57.218Z"
   },
   {
    "duration": 5,
    "start_time": "2023-12-13T15:39:57.222Z"
   },
   {
    "duration": 15,
    "start_time": "2023-12-13T15:39:57.228Z"
   },
   {
    "duration": 309,
    "start_time": "2023-12-13T15:39:57.245Z"
   },
   {
    "duration": 301,
    "start_time": "2023-12-13T15:39:57.556Z"
   },
   {
    "duration": 322,
    "start_time": "2023-12-13T15:39:57.859Z"
   },
   {
    "duration": 299,
    "start_time": "2023-12-13T15:39:58.182Z"
   },
   {
    "duration": 292,
    "start_time": "2023-12-13T15:39:58.482Z"
   },
   {
    "duration": 21,
    "start_time": "2023-12-13T15:39:58.776Z"
   },
   {
    "duration": 8,
    "start_time": "2023-12-13T15:39:58.810Z"
   },
   {
    "duration": 23,
    "start_time": "2023-12-13T15:39:58.820Z"
   },
   {
    "duration": 22,
    "start_time": "2023-12-13T15:39:58.845Z"
   },
   {
    "duration": 151,
    "start_time": "2023-12-13T15:39:58.869Z"
   },
   {
    "duration": 5,
    "start_time": "2023-12-13T15:39:59.022Z"
   },
   {
    "duration": 5,
    "start_time": "2023-12-13T15:39:59.029Z"
   },
   {
    "duration": 30,
    "start_time": "2023-12-13T15:39:59.035Z"
   },
   {
    "duration": 6,
    "start_time": "2023-12-13T15:39:59.066Z"
   },
   {
    "duration": 57,
    "start_time": "2023-12-13T15:39:59.073Z"
   },
   {
    "duration": 47,
    "start_time": "2023-12-13T15:39:59.131Z"
   },
   {
    "duration": 22,
    "start_time": "2023-12-13T15:40:13.194Z"
   },
   {
    "duration": 12,
    "start_time": "2023-12-13T15:40:29.816Z"
   },
   {
    "duration": 74,
    "start_time": "2023-12-13T15:42:01.902Z"
   },
   {
    "duration": 870,
    "start_time": "2023-12-13T15:42:17.508Z"
   },
   {
    "duration": 673,
    "start_time": "2023-12-13T15:42:22.992Z"
   },
   {
    "duration": 2,
    "start_time": "2023-12-13T15:42:36.181Z"
   },
   {
    "duration": 622,
    "start_time": "2023-12-13T15:42:40.641Z"
   },
   {
    "duration": 193,
    "start_time": "2023-12-13T15:43:23.581Z"
   },
   {
    "duration": 600,
    "start_time": "2023-12-13T15:43:39.942Z"
   },
   {
    "duration": 179,
    "start_time": "2023-12-13T15:43:40.777Z"
   },
   {
    "duration": 31,
    "start_time": "2023-12-13T15:44:11.095Z"
   },
   {
    "duration": 133,
    "start_time": "2023-12-13T15:44:33.067Z"
   },
   {
    "duration": 15,
    "start_time": "2023-12-13T15:45:11.014Z"
   },
   {
    "duration": 12,
    "start_time": "2023-12-13T15:45:16.629Z"
   },
   {
    "duration": 13,
    "start_time": "2023-12-13T15:45:21.610Z"
   },
   {
    "duration": 604,
    "start_time": "2023-12-13T15:45:40.401Z"
   },
   {
    "duration": 678,
    "start_time": "2023-12-13T15:46:03.076Z"
   },
   {
    "duration": 608,
    "start_time": "2023-12-13T15:46:10.787Z"
   },
   {
    "duration": 614,
    "start_time": "2023-12-13T15:46:15.002Z"
   },
   {
    "duration": 528,
    "start_time": "2023-12-13T15:46:27.478Z"
   },
   {
    "duration": 12,
    "start_time": "2023-12-13T15:46:45.187Z"
   },
   {
    "duration": 1523,
    "start_time": "2023-12-13T15:46:49.492Z"
   },
   {
    "duration": 1397,
    "start_time": "2023-12-13T15:46:57.816Z"
   },
   {
    "duration": 1413,
    "start_time": "2023-12-13T15:47:07.035Z"
   },
   {
    "duration": 624,
    "start_time": "2023-12-13T15:47:14.664Z"
   },
   {
    "duration": 2,
    "start_time": "2023-12-13T15:48:21.166Z"
   },
   {
    "duration": 1071,
    "start_time": "2023-12-13T15:48:25.150Z"
   },
   {
    "duration": 968,
    "start_time": "2023-12-13T15:48:26.224Z"
   },
   {
    "duration": 28,
    "start_time": "2023-12-13T15:48:27.193Z"
   },
   {
    "duration": 100,
    "start_time": "2023-12-13T15:48:27.222Z"
   },
   {
    "duration": 2,
    "start_time": "2023-12-13T15:48:27.324Z"
   },
   {
    "duration": 8,
    "start_time": "2023-12-13T15:48:27.328Z"
   },
   {
    "duration": 16,
    "start_time": "2023-12-13T15:48:27.338Z"
   },
   {
    "duration": 306,
    "start_time": "2023-12-13T15:48:27.356Z"
   },
   {
    "duration": 310,
    "start_time": "2023-12-13T15:48:27.664Z"
   },
   {
    "duration": 349,
    "start_time": "2023-12-13T15:48:27.976Z"
   },
   {
    "duration": 320,
    "start_time": "2023-12-13T15:48:28.326Z"
   },
   {
    "duration": 274,
    "start_time": "2023-12-13T15:48:28.648Z"
   },
   {
    "duration": 22,
    "start_time": "2023-12-13T15:48:28.923Z"
   },
   {
    "duration": 9,
    "start_time": "2023-12-13T15:48:28.947Z"
   },
   {
    "duration": 25,
    "start_time": "2023-12-13T15:48:28.957Z"
   },
   {
    "duration": 47,
    "start_time": "2023-12-13T15:48:28.983Z"
   },
   {
    "duration": 120,
    "start_time": "2023-12-13T15:48:29.031Z"
   },
   {
    "duration": 6,
    "start_time": "2023-12-13T15:48:29.152Z"
   },
   {
    "duration": 12,
    "start_time": "2023-12-13T15:48:29.159Z"
   },
   {
    "duration": 6,
    "start_time": "2023-12-13T15:48:29.173Z"
   },
   {
    "duration": 51,
    "start_time": "2023-12-13T15:48:29.181Z"
   },
   {
    "duration": 6,
    "start_time": "2023-12-13T15:48:29.233Z"
   },
   {
    "duration": 20,
    "start_time": "2023-12-13T15:48:29.240Z"
   },
   {
    "duration": 50,
    "start_time": "2023-12-13T15:48:29.261Z"
   },
   {
    "duration": 664,
    "start_time": "2023-12-13T15:48:29.312Z"
   },
   {
    "duration": 225,
    "start_time": "2023-12-13T15:48:29.978Z"
   },
   {
    "duration": 181,
    "start_time": "2023-12-13T15:48:30.205Z"
   },
   {
    "duration": 712,
    "start_time": "2023-12-13T15:48:30.388Z"
   },
   {
    "duration": 186,
    "start_time": "2023-12-13T15:49:38.441Z"
   },
   {
    "duration": 158,
    "start_time": "2023-12-13T15:49:47.458Z"
   },
   {
    "duration": 156,
    "start_time": "2023-12-13T15:49:54.535Z"
   },
   {
    "duration": 49,
    "start_time": "2023-12-13T15:50:17.885Z"
   },
   {
    "duration": 29,
    "start_time": "2023-12-13T15:50:36.949Z"
   },
   {
    "duration": 92,
    "start_time": "2023-12-13T15:51:05.129Z"
   },
   {
    "duration": 8,
    "start_time": "2023-12-13T15:51:10.684Z"
   },
   {
    "duration": 9,
    "start_time": "2023-12-13T15:51:23.222Z"
   },
   {
    "duration": 31,
    "start_time": "2023-12-13T15:51:27.754Z"
   },
   {
    "duration": 14,
    "start_time": "2023-12-13T15:51:40.251Z"
   },
   {
    "duration": 9,
    "start_time": "2023-12-13T15:51:57.822Z"
   },
   {
    "duration": 21,
    "start_time": "2023-12-13T15:52:19.460Z"
   },
   {
    "duration": 21,
    "start_time": "2023-12-13T15:52:24.888Z"
   },
   {
    "duration": 33,
    "start_time": "2023-12-13T16:08:53.110Z"
   },
   {
    "duration": 55,
    "start_time": "2023-12-14T07:29:27.609Z"
   },
   {
    "duration": 1626,
    "start_time": "2023-12-14T07:29:32.250Z"
   },
   {
    "duration": 1779,
    "start_time": "2023-12-14T07:29:33.881Z"
   },
   {
    "duration": 32,
    "start_time": "2023-12-14T07:29:35.663Z"
   },
   {
    "duration": 181,
    "start_time": "2023-12-14T07:29:35.698Z"
   },
   {
    "duration": 4,
    "start_time": "2023-12-14T07:29:35.883Z"
   },
   {
    "duration": 30,
    "start_time": "2023-12-14T07:29:35.889Z"
   },
   {
    "duration": 44,
    "start_time": "2023-12-14T07:29:35.921Z"
   },
   {
    "duration": 475,
    "start_time": "2023-12-14T07:29:35.967Z"
   },
   {
    "duration": 326,
    "start_time": "2023-12-14T07:29:36.444Z"
   },
   {
    "duration": 338,
    "start_time": "2023-12-14T07:29:36.776Z"
   },
   {
    "duration": 319,
    "start_time": "2023-12-14T07:29:37.115Z"
   },
   {
    "duration": 288,
    "start_time": "2023-12-14T07:29:37.436Z"
   },
   {
    "duration": 24,
    "start_time": "2023-12-14T07:29:37.725Z"
   },
   {
    "duration": 19,
    "start_time": "2023-12-14T07:29:37.753Z"
   },
   {
    "duration": 26,
    "start_time": "2023-12-14T07:29:37.774Z"
   },
   {
    "duration": 28,
    "start_time": "2023-12-14T07:29:37.801Z"
   },
   {
    "duration": 140,
    "start_time": "2023-12-14T07:29:37.832Z"
   },
   {
    "duration": 7,
    "start_time": "2023-12-14T07:29:37.974Z"
   },
   {
    "duration": 27,
    "start_time": "2023-12-14T07:29:37.982Z"
   },
   {
    "duration": 8,
    "start_time": "2023-12-14T07:29:38.012Z"
   },
   {
    "duration": 62,
    "start_time": "2023-12-14T07:29:38.022Z"
   },
   {
    "duration": 9,
    "start_time": "2023-12-14T07:29:38.086Z"
   },
   {
    "duration": 59,
    "start_time": "2023-12-14T07:29:38.097Z"
   },
   {
    "duration": 42,
    "start_time": "2023-12-14T07:29:38.159Z"
   },
   {
    "duration": 974,
    "start_time": "2023-12-14T07:29:38.204Z"
   },
   {
    "duration": 79,
    "start_time": "2023-12-14T07:29:39.180Z"
   },
   {
    "duration": 0,
    "start_time": "2023-12-14T07:29:39.261Z"
   },
   {
    "duration": 0,
    "start_time": "2023-12-14T07:29:39.262Z"
   },
   {
    "duration": 0,
    "start_time": "2023-12-14T07:29:39.264Z"
   },
   {
    "duration": 0,
    "start_time": "2023-12-14T07:29:39.266Z"
   },
   {
    "duration": 0,
    "start_time": "2023-12-14T07:29:39.267Z"
   },
   {
    "duration": 237,
    "start_time": "2023-12-14T07:29:46.666Z"
   },
   {
    "duration": 172,
    "start_time": "2023-12-14T07:29:47.148Z"
   },
   {
    "duration": 171,
    "start_time": "2023-12-14T07:29:47.913Z"
   },
   {
    "duration": 22,
    "start_time": "2023-12-14T07:29:48.656Z"
   },
   {
    "duration": 7,
    "start_time": "2023-12-14T07:29:49.582Z"
   },
   {
    "duration": 92,
    "start_time": "2023-12-14T07:33:54.382Z"
   },
   {
    "duration": 9,
    "start_time": "2023-12-14T07:34:08.365Z"
   },
   {
    "duration": 10,
    "start_time": "2023-12-14T07:34:15.188Z"
   },
   {
    "duration": 7,
    "start_time": "2023-12-14T07:34:18.643Z"
   },
   {
    "duration": 30,
    "start_time": "2023-12-14T07:34:47.420Z"
   },
   {
    "duration": 11,
    "start_time": "2023-12-14T07:34:59.234Z"
   },
   {
    "duration": 10,
    "start_time": "2023-12-14T07:35:40.220Z"
   },
   {
    "duration": 30,
    "start_time": "2023-12-14T07:35:53.540Z"
   },
   {
    "duration": 30,
    "start_time": "2023-12-14T07:36:20.661Z"
   },
   {
    "duration": 62,
    "start_time": "2023-12-14T07:36:54.810Z"
   },
   {
    "duration": 9,
    "start_time": "2023-12-14T07:37:20.712Z"
   },
   {
    "duration": 23,
    "start_time": "2023-12-14T07:37:24.639Z"
   },
   {
    "duration": 24,
    "start_time": "2023-12-14T07:37:48.433Z"
   },
   {
    "duration": 24,
    "start_time": "2023-12-14T07:38:08.668Z"
   },
   {
    "duration": 7,
    "start_time": "2023-12-14T07:38:53.115Z"
   },
   {
    "duration": 46,
    "start_time": "2023-12-14T07:39:41.683Z"
   },
   {
    "duration": 9,
    "start_time": "2023-12-14T07:39:54.137Z"
   },
   {
    "duration": 7,
    "start_time": "2023-12-14T07:40:26.761Z"
   },
   {
    "duration": 8,
    "start_time": "2023-12-14T07:40:30.208Z"
   },
   {
    "duration": 8,
    "start_time": "2023-12-14T07:40:35.613Z"
   },
   {
    "duration": 2,
    "start_time": "2023-12-14T07:40:47.546Z"
   },
   {
    "duration": 1101,
    "start_time": "2023-12-14T07:41:07.099Z"
   },
   {
    "duration": 1034,
    "start_time": "2023-12-14T07:41:08.202Z"
   },
   {
    "duration": 17,
    "start_time": "2023-12-14T07:41:09.237Z"
   },
   {
    "duration": 102,
    "start_time": "2023-12-14T07:41:09.255Z"
   },
   {
    "duration": 3,
    "start_time": "2023-12-14T07:41:09.365Z"
   },
   {
    "duration": 7,
    "start_time": "2023-12-14T07:41:09.369Z"
   },
   {
    "duration": 14,
    "start_time": "2023-12-14T07:41:09.377Z"
   },
   {
    "duration": 298,
    "start_time": "2023-12-14T07:41:09.393Z"
   },
   {
    "duration": 301,
    "start_time": "2023-12-14T07:41:09.693Z"
   },
   {
    "duration": 322,
    "start_time": "2023-12-14T07:41:09.996Z"
   },
   {
    "duration": 301,
    "start_time": "2023-12-14T07:41:10.320Z"
   },
   {
    "duration": 273,
    "start_time": "2023-12-14T07:41:10.623Z"
   },
   {
    "duration": 20,
    "start_time": "2023-12-14T07:41:10.898Z"
   },
   {
    "duration": 10,
    "start_time": "2023-12-14T07:41:10.921Z"
   },
   {
    "duration": 35,
    "start_time": "2023-12-14T07:41:10.932Z"
   },
   {
    "duration": 22,
    "start_time": "2023-12-14T07:41:10.968Z"
   },
   {
    "duration": 118,
    "start_time": "2023-12-14T07:41:10.992Z"
   },
   {
    "duration": 5,
    "start_time": "2023-12-14T07:41:11.112Z"
   },
   {
    "duration": 12,
    "start_time": "2023-12-14T07:41:11.118Z"
   },
   {
    "duration": 8,
    "start_time": "2023-12-14T07:41:11.131Z"
   },
   {
    "duration": 48,
    "start_time": "2023-12-14T07:41:11.140Z"
   },
   {
    "duration": 4,
    "start_time": "2023-12-14T07:41:11.190Z"
   },
   {
    "duration": 21,
    "start_time": "2023-12-14T07:41:11.196Z"
   },
   {
    "duration": 32,
    "start_time": "2023-12-14T07:41:11.218Z"
   },
   {
    "duration": 680,
    "start_time": "2023-12-14T07:41:11.251Z"
   },
   {
    "duration": 238,
    "start_time": "2023-12-14T07:41:11.932Z"
   },
   {
    "duration": 176,
    "start_time": "2023-12-14T07:41:12.172Z"
   },
   {
    "duration": 197,
    "start_time": "2023-12-14T07:41:12.349Z"
   },
   {
    "duration": 30,
    "start_time": "2023-12-14T07:41:12.548Z"
   },
   {
    "duration": 7,
    "start_time": "2023-12-14T07:41:12.580Z"
   },
   {
    "duration": 32,
    "start_time": "2023-12-14T07:41:12.588Z"
   },
   {
    "duration": 5,
    "start_time": "2023-12-14T07:41:12.622Z"
   },
   {
    "duration": 52,
    "start_time": "2023-12-14T07:41:12.629Z"
   },
   {
    "duration": 21,
    "start_time": "2023-12-14T07:41:12.683Z"
   },
   {
    "duration": 6,
    "start_time": "2023-12-14T07:41:29.949Z"
   },
   {
    "duration": 7,
    "start_time": "2023-12-14T07:41:52.945Z"
   },
   {
    "duration": 1307,
    "start_time": "2023-12-15T14:23:19.320Z"
   },
   {
    "duration": 1239,
    "start_time": "2023-12-15T14:23:20.629Z"
   },
   {
    "duration": 16,
    "start_time": "2023-12-15T14:23:21.870Z"
   },
   {
    "duration": 119,
    "start_time": "2023-12-15T14:23:21.888Z"
   },
   {
    "duration": 3,
    "start_time": "2023-12-15T14:23:22.009Z"
   },
   {
    "duration": 52,
    "start_time": "2023-12-15T14:23:22.013Z"
   },
   {
    "duration": 50,
    "start_time": "2023-12-15T14:23:22.067Z"
   },
   {
    "duration": 321,
    "start_time": "2023-12-15T14:23:22.118Z"
   },
   {
    "duration": 303,
    "start_time": "2023-12-15T14:23:22.440Z"
   },
   {
    "duration": 332,
    "start_time": "2023-12-15T14:23:22.745Z"
   },
   {
    "duration": 308,
    "start_time": "2023-12-15T14:23:23.080Z"
   },
   {
    "duration": 279,
    "start_time": "2023-12-15T14:23:23.389Z"
   },
   {
    "duration": 20,
    "start_time": "2023-12-15T14:23:23.670Z"
   },
   {
    "duration": 7,
    "start_time": "2023-12-15T14:23:23.693Z"
   },
   {
    "duration": 37,
    "start_time": "2023-12-15T14:23:23.702Z"
   },
   {
    "duration": 21,
    "start_time": "2023-12-15T14:23:23.741Z"
   },
   {
    "duration": 123,
    "start_time": "2023-12-15T14:23:23.763Z"
   },
   {
    "duration": 6,
    "start_time": "2023-12-15T14:23:23.888Z"
   },
   {
    "duration": 18,
    "start_time": "2023-12-15T14:23:23.895Z"
   },
   {
    "duration": 11,
    "start_time": "2023-12-15T14:23:23.915Z"
   },
   {
    "duration": 38,
    "start_time": "2023-12-15T14:23:23.927Z"
   },
   {
    "duration": 5,
    "start_time": "2023-12-15T14:23:23.966Z"
   },
   {
    "duration": 22,
    "start_time": "2023-12-15T14:23:23.972Z"
   },
   {
    "duration": 40,
    "start_time": "2023-12-15T14:23:23.995Z"
   },
   {
    "duration": 691,
    "start_time": "2023-12-15T14:23:24.037Z"
   },
   {
    "duration": 267,
    "start_time": "2023-12-15T14:23:24.729Z"
   },
   {
    "duration": 182,
    "start_time": "2023-12-15T14:23:24.997Z"
   },
   {
    "duration": 166,
    "start_time": "2023-12-15T14:23:25.180Z"
   },
   {
    "duration": 21,
    "start_time": "2023-12-15T14:23:25.348Z"
   },
   {
    "duration": 6,
    "start_time": "2023-12-15T14:23:25.370Z"
   },
   {
    "duration": 24,
    "start_time": "2023-12-15T14:23:25.377Z"
   },
   {
    "duration": 26,
    "start_time": "2023-12-15T14:23:25.402Z"
   },
   {
    "duration": 54,
    "start_time": "2023-12-15T14:23:25.429Z"
   },
   {
    "duration": 7,
    "start_time": "2023-12-15T14:23:25.485Z"
   },
   {
    "duration": 95,
    "start_time": "2023-12-15T14:26:52.113Z"
   },
   {
    "duration": 5,
    "start_time": "2023-12-15T14:26:55.645Z"
   },
   {
    "duration": 11,
    "start_time": "2023-12-15T14:27:35.618Z"
   },
   {
    "duration": 12,
    "start_time": "2023-12-15T14:27:48.060Z"
   },
   {
    "duration": 5,
    "start_time": "2023-12-15T14:28:04.482Z"
   },
   {
    "duration": 7,
    "start_time": "2023-12-15T14:28:07.773Z"
   },
   {
    "duration": 10,
    "start_time": "2023-12-15T14:28:17.807Z"
   },
   {
    "duration": 193,
    "start_time": "2023-12-15T14:28:51.820Z"
   },
   {
    "duration": 9,
    "start_time": "2023-12-15T14:29:17.404Z"
   },
   {
    "duration": 54,
    "start_time": "2023-12-15T14:31:34.779Z"
   },
   {
    "duration": 47,
    "start_time": "2023-12-15T14:32:28.841Z"
   },
   {
    "duration": 1144,
    "start_time": "2023-12-15T14:32:40.630Z"
   },
   {
    "duration": 1019,
    "start_time": "2023-12-15T14:32:41.776Z"
   },
   {
    "duration": 16,
    "start_time": "2023-12-15T14:32:42.797Z"
   },
   {
    "duration": 106,
    "start_time": "2023-12-15T14:32:42.821Z"
   },
   {
    "duration": 3,
    "start_time": "2023-12-15T14:32:42.929Z"
   },
   {
    "duration": 6,
    "start_time": "2023-12-15T14:32:42.933Z"
   },
   {
    "duration": 21,
    "start_time": "2023-12-15T14:32:42.940Z"
   },
   {
    "duration": 64,
    "start_time": "2023-12-15T14:32:42.962Z"
   },
   {
    "duration": 0,
    "start_time": "2023-12-15T14:32:43.028Z"
   },
   {
    "duration": 0,
    "start_time": "2023-12-15T14:32:43.029Z"
   },
   {
    "duration": 0,
    "start_time": "2023-12-15T14:32:43.031Z"
   },
   {
    "duration": 0,
    "start_time": "2023-12-15T14:32:43.032Z"
   },
   {
    "duration": 0,
    "start_time": "2023-12-15T14:32:43.033Z"
   },
   {
    "duration": 0,
    "start_time": "2023-12-15T14:32:43.034Z"
   },
   {
    "duration": 0,
    "start_time": "2023-12-15T14:32:43.035Z"
   },
   {
    "duration": 0,
    "start_time": "2023-12-15T14:32:43.037Z"
   },
   {
    "duration": 0,
    "start_time": "2023-12-15T14:32:43.037Z"
   },
   {
    "duration": 0,
    "start_time": "2023-12-15T14:32:43.039Z"
   },
   {
    "duration": 0,
    "start_time": "2023-12-15T14:32:43.040Z"
   },
   {
    "duration": 0,
    "start_time": "2023-12-15T14:32:43.041Z"
   },
   {
    "duration": 0,
    "start_time": "2023-12-15T14:32:43.042Z"
   },
   {
    "duration": 0,
    "start_time": "2023-12-15T14:32:43.043Z"
   },
   {
    "duration": 0,
    "start_time": "2023-12-15T14:32:43.044Z"
   },
   {
    "duration": 1,
    "start_time": "2023-12-15T14:32:43.045Z"
   },
   {
    "duration": 0,
    "start_time": "2023-12-15T14:32:43.046Z"
   },
   {
    "duration": 0,
    "start_time": "2023-12-15T14:32:43.048Z"
   },
   {
    "duration": 0,
    "start_time": "2023-12-15T14:32:43.049Z"
   },
   {
    "duration": 0,
    "start_time": "2023-12-15T14:32:43.050Z"
   },
   {
    "duration": 0,
    "start_time": "2023-12-15T14:32:43.051Z"
   },
   {
    "duration": 0,
    "start_time": "2023-12-15T14:32:43.052Z"
   },
   {
    "duration": 0,
    "start_time": "2023-12-15T14:32:43.053Z"
   },
   {
    "duration": 0,
    "start_time": "2023-12-15T14:32:43.054Z"
   },
   {
    "duration": 0,
    "start_time": "2023-12-15T14:32:43.055Z"
   },
   {
    "duration": 123,
    "start_time": "2023-12-15T14:32:50.205Z"
   },
   {
    "duration": 26,
    "start_time": "2023-12-15T14:33:47.470Z"
   },
   {
    "duration": 10,
    "start_time": "2023-12-15T14:33:56.747Z"
   },
   {
    "duration": 198,
    "start_time": "2023-12-15T14:34:01.489Z"
   },
   {
    "duration": 216,
    "start_time": "2023-12-15T14:34:05.687Z"
   },
   {
    "duration": 1125,
    "start_time": "2023-12-15T14:35:20.840Z"
   },
   {
    "duration": 1099,
    "start_time": "2023-12-15T14:35:21.967Z"
   },
   {
    "duration": 17,
    "start_time": "2023-12-15T14:35:23.068Z"
   },
   {
    "duration": 110,
    "start_time": "2023-12-15T14:35:23.087Z"
   },
   {
    "duration": 3,
    "start_time": "2023-12-15T14:35:23.200Z"
   },
   {
    "duration": 19,
    "start_time": "2023-12-15T14:35:23.205Z"
   },
   {
    "duration": 33,
    "start_time": "2023-12-15T14:35:23.226Z"
   },
   {
    "duration": 308,
    "start_time": "2023-12-15T14:35:23.261Z"
   },
   {
    "duration": 328,
    "start_time": "2023-12-15T14:35:23.571Z"
   },
   {
    "duration": 335,
    "start_time": "2023-12-15T14:35:23.901Z"
   },
   {
    "duration": 311,
    "start_time": "2023-12-15T14:35:24.238Z"
   },
   {
    "duration": 63,
    "start_time": "2023-12-15T14:35:24.551Z"
   },
   {
    "duration": 0,
    "start_time": "2023-12-15T14:35:24.616Z"
   },
   {
    "duration": 0,
    "start_time": "2023-12-15T14:35:24.617Z"
   },
   {
    "duration": 0,
    "start_time": "2023-12-15T14:35:24.618Z"
   },
   {
    "duration": 0,
    "start_time": "2023-12-15T14:35:24.619Z"
   },
   {
    "duration": 0,
    "start_time": "2023-12-15T14:35:24.620Z"
   },
   {
    "duration": 0,
    "start_time": "2023-12-15T14:35:24.621Z"
   },
   {
    "duration": 0,
    "start_time": "2023-12-15T14:35:24.622Z"
   },
   {
    "duration": 0,
    "start_time": "2023-12-15T14:35:24.624Z"
   },
   {
    "duration": 0,
    "start_time": "2023-12-15T14:35:24.624Z"
   },
   {
    "duration": 0,
    "start_time": "2023-12-15T14:35:24.625Z"
   },
   {
    "duration": 0,
    "start_time": "2023-12-15T14:35:24.626Z"
   },
   {
    "duration": 0,
    "start_time": "2023-12-15T14:35:24.628Z"
   },
   {
    "duration": 0,
    "start_time": "2023-12-15T14:35:24.629Z"
   },
   {
    "duration": 0,
    "start_time": "2023-12-15T14:35:24.630Z"
   },
   {
    "duration": 0,
    "start_time": "2023-12-15T14:35:24.632Z"
   },
   {
    "duration": 0,
    "start_time": "2023-12-15T14:35:24.633Z"
   },
   {
    "duration": 0,
    "start_time": "2023-12-15T14:35:24.634Z"
   },
   {
    "duration": 0,
    "start_time": "2023-12-15T14:35:24.636Z"
   },
   {
    "duration": 0,
    "start_time": "2023-12-15T14:35:24.637Z"
   },
   {
    "duration": 0,
    "start_time": "2023-12-15T14:35:24.639Z"
   },
   {
    "duration": 0,
    "start_time": "2023-12-15T14:35:24.640Z"
   },
   {
    "duration": 0,
    "start_time": "2023-12-15T14:35:24.641Z"
   },
   {
    "duration": 29,
    "start_time": "2023-12-15T14:35:38.444Z"
   },
   {
    "duration": 10,
    "start_time": "2023-12-15T14:35:39.034Z"
   },
   {
    "duration": 225,
    "start_time": "2023-12-15T14:35:46.263Z"
   },
   {
    "duration": 21,
    "start_time": "2023-12-15T14:36:06.748Z"
   },
   {
    "duration": 6,
    "start_time": "2023-12-15T14:36:19.004Z"
   },
   {
    "duration": 18,
    "start_time": "2023-12-15T14:36:23.366Z"
   },
   {
    "duration": 18,
    "start_time": "2023-12-15T14:36:24.329Z"
   },
   {
    "duration": 94,
    "start_time": "2023-12-15T14:36:28.372Z"
   },
   {
    "duration": 6,
    "start_time": "2023-12-15T14:36:30.000Z"
   },
   {
    "duration": 10,
    "start_time": "2023-12-15T14:36:35.298Z"
   },
   {
    "duration": 21,
    "start_time": "2023-12-15T14:36:36.599Z"
   },
   {
    "duration": 21,
    "start_time": "2023-12-15T14:36:49.759Z"
   },
   {
    "duration": 24,
    "start_time": "2023-12-15T14:36:50.468Z"
   },
   {
    "duration": 24,
    "start_time": "2023-12-15T14:37:15.345Z"
   },
   {
    "duration": 592,
    "start_time": "2023-12-15T14:37:24.952Z"
   },
   {
    "duration": 234,
    "start_time": "2023-12-15T14:37:32.652Z"
   },
   {
    "duration": 171,
    "start_time": "2023-12-15T14:37:35.700Z"
   },
   {
    "duration": 160,
    "start_time": "2023-12-15T14:37:42.084Z"
   },
   {
    "duration": 16,
    "start_time": "2023-12-15T14:37:51.290Z"
   },
   {
    "duration": 7,
    "start_time": "2023-12-15T14:37:54.268Z"
   },
   {
    "duration": 19,
    "start_time": "2023-12-15T14:38:08.222Z"
   },
   {
    "duration": 7,
    "start_time": "2023-12-15T14:38:08.962Z"
   },
   {
    "duration": 35,
    "start_time": "2023-12-15T14:38:09.414Z"
   },
   {
    "duration": 7,
    "start_time": "2023-12-15T14:38:09.905Z"
   },
   {
    "duration": 158,
    "start_time": "2023-12-15T14:38:19.699Z"
   },
   {
    "duration": 96,
    "start_time": "2023-12-15T14:42:16.953Z"
   },
   {
    "duration": 24,
    "start_time": "2023-12-15T14:42:35.294Z"
   },
   {
    "duration": 9,
    "start_time": "2023-12-15T14:42:39.582Z"
   },
   {
    "duration": 18,
    "start_time": "2023-12-15T14:42:57.895Z"
   },
   {
    "duration": 10,
    "start_time": "2023-12-15T14:42:58.941Z"
   },
   {
    "duration": 1100,
    "start_time": "2023-12-15T14:43:03.163Z"
   },
   {
    "duration": 1009,
    "start_time": "2023-12-15T14:43:04.264Z"
   },
   {
    "duration": 15,
    "start_time": "2023-12-15T14:43:05.275Z"
   },
   {
    "duration": 108,
    "start_time": "2023-12-15T14:43:05.292Z"
   },
   {
    "duration": 2,
    "start_time": "2023-12-15T14:43:05.402Z"
   },
   {
    "duration": 31,
    "start_time": "2023-12-15T14:43:05.406Z"
   },
   {
    "duration": 33,
    "start_time": "2023-12-15T14:43:05.439Z"
   },
   {
    "duration": 357,
    "start_time": "2023-12-15T14:43:05.473Z"
   },
   {
    "duration": 317,
    "start_time": "2023-12-15T14:43:05.832Z"
   },
   {
    "duration": 336,
    "start_time": "2023-12-15T14:43:06.151Z"
   },
   {
    "duration": 292,
    "start_time": "2023-12-15T14:43:06.489Z"
   },
   {
    "duration": 29,
    "start_time": "2023-12-15T14:43:06.782Z"
   },
   {
    "duration": 14,
    "start_time": "2023-12-15T14:43:06.822Z"
   },
   {
    "duration": 42,
    "start_time": "2023-12-15T14:43:06.838Z"
   },
   {
    "duration": 13,
    "start_time": "2023-12-15T14:43:06.882Z"
   },
   {
    "duration": 239,
    "start_time": "2023-12-15T14:43:06.897Z"
   },
   {
    "duration": 22,
    "start_time": "2023-12-15T14:43:07.137Z"
   },
   {
    "duration": 28,
    "start_time": "2023-12-15T14:43:07.161Z"
   },
   {
    "duration": 33,
    "start_time": "2023-12-15T14:43:07.190Z"
   },
   {
    "duration": 19,
    "start_time": "2023-12-15T14:43:07.225Z"
   },
   {
    "duration": 100,
    "start_time": "2023-12-15T14:43:07.245Z"
   },
   {
    "duration": 6,
    "start_time": "2023-12-15T14:43:07.347Z"
   },
   {
    "duration": 23,
    "start_time": "2023-12-15T14:43:07.354Z"
   },
   {
    "duration": 30,
    "start_time": "2023-12-15T14:43:07.378Z"
   },
   {
    "duration": 54,
    "start_time": "2023-12-15T14:43:07.409Z"
   },
   {
    "duration": 639,
    "start_time": "2023-12-15T14:43:07.465Z"
   },
   {
    "duration": 236,
    "start_time": "2023-12-15T14:43:08.106Z"
   },
   {
    "duration": 183,
    "start_time": "2023-12-15T14:43:08.344Z"
   },
   {
    "duration": 173,
    "start_time": "2023-12-15T14:43:08.528Z"
   },
   {
    "duration": 8,
    "start_time": "2023-12-15T14:43:08.702Z"
   },
   {
    "duration": 38,
    "start_time": "2023-12-15T14:43:08.711Z"
   },
   {
    "duration": 26,
    "start_time": "2023-12-15T14:43:08.751Z"
   },
   {
    "duration": 40,
    "start_time": "2023-12-15T14:43:08.779Z"
   },
   {
    "duration": 7,
    "start_time": "2023-12-15T14:43:08.820Z"
   },
   {
    "duration": 159,
    "start_time": "2023-12-15T14:43:08.829Z"
   },
   {
    "duration": 18,
    "start_time": "2023-12-15T14:43:49.785Z"
   },
   {
    "duration": 10,
    "start_time": "2023-12-15T14:43:50.165Z"
   },
   {
    "duration": 1088,
    "start_time": "2023-12-15T14:43:53.282Z"
   },
   {
    "duration": 1029,
    "start_time": "2023-12-15T14:43:54.372Z"
   },
   {
    "duration": 23,
    "start_time": "2023-12-15T14:43:55.402Z"
   },
   {
    "duration": 105,
    "start_time": "2023-12-15T14:43:55.426Z"
   },
   {
    "duration": 3,
    "start_time": "2023-12-15T14:43:55.533Z"
   },
   {
    "duration": 12,
    "start_time": "2023-12-15T14:43:55.537Z"
   },
   {
    "duration": 18,
    "start_time": "2023-12-15T14:43:55.550Z"
   },
   {
    "duration": 318,
    "start_time": "2023-12-15T14:43:55.570Z"
   },
   {
    "duration": 321,
    "start_time": "2023-12-15T14:43:55.889Z"
   },
   {
    "duration": 339,
    "start_time": "2023-12-15T14:43:56.211Z"
   },
   {
    "duration": 310,
    "start_time": "2023-12-15T14:43:56.552Z"
   },
   {
    "duration": 28,
    "start_time": "2023-12-15T14:43:56.864Z"
   },
   {
    "duration": 24,
    "start_time": "2023-12-15T14:43:56.893Z"
   },
   {
    "duration": 37,
    "start_time": "2023-12-15T14:43:56.921Z"
   },
   {
    "duration": 20,
    "start_time": "2023-12-15T14:43:56.960Z"
   },
   {
    "duration": 195,
    "start_time": "2023-12-15T14:43:56.981Z"
   },
   {
    "duration": 21,
    "start_time": "2023-12-15T14:43:57.177Z"
   },
   {
    "duration": 11,
    "start_time": "2023-12-15T14:43:57.200Z"
   },
   {
    "duration": 18,
    "start_time": "2023-12-15T14:43:57.221Z"
   },
   {
    "duration": 16,
    "start_time": "2023-12-15T14:43:57.240Z"
   },
   {
    "duration": 100,
    "start_time": "2023-12-15T14:43:57.257Z"
   },
   {
    "duration": 9,
    "start_time": "2023-12-15T14:43:57.359Z"
   },
   {
    "duration": 30,
    "start_time": "2023-12-15T14:43:57.370Z"
   },
   {
    "duration": 39,
    "start_time": "2023-12-15T14:43:57.401Z"
   },
   {
    "duration": 30,
    "start_time": "2023-12-15T14:43:57.441Z"
   },
   {
    "duration": 599,
    "start_time": "2023-12-15T14:43:57.472Z"
   },
   {
    "duration": 234,
    "start_time": "2023-12-15T14:43:58.073Z"
   },
   {
    "duration": 179,
    "start_time": "2023-12-15T14:43:58.309Z"
   },
   {
    "duration": 173,
    "start_time": "2023-12-15T14:43:58.489Z"
   },
   {
    "duration": 7,
    "start_time": "2023-12-15T14:43:58.664Z"
   },
   {
    "duration": 28,
    "start_time": "2023-12-15T14:43:58.672Z"
   },
   {
    "duration": 6,
    "start_time": "2023-12-15T14:43:58.702Z"
   },
   {
    "duration": 43,
    "start_time": "2023-12-15T14:43:58.710Z"
   },
   {
    "duration": 7,
    "start_time": "2023-12-15T14:43:58.754Z"
   },
   {
    "duration": 168,
    "start_time": "2023-12-15T14:43:58.762Z"
   },
   {
    "duration": 1096,
    "start_time": "2023-12-15T14:44:26.281Z"
   },
   {
    "duration": 1053,
    "start_time": "2023-12-15T14:44:27.378Z"
   },
   {
    "duration": 15,
    "start_time": "2023-12-15T14:44:28.432Z"
   },
   {
    "duration": 107,
    "start_time": "2023-12-15T14:44:28.448Z"
   },
   {
    "duration": 3,
    "start_time": "2023-12-15T14:44:28.557Z"
   },
   {
    "duration": 23,
    "start_time": "2023-12-15T14:44:28.561Z"
   },
   {
    "duration": 22,
    "start_time": "2023-12-15T14:44:28.586Z"
   },
   {
    "duration": 303,
    "start_time": "2023-12-15T14:44:28.610Z"
   },
   {
    "duration": 298,
    "start_time": "2023-12-15T14:44:28.914Z"
   },
   {
    "duration": 335,
    "start_time": "2023-12-15T14:44:29.214Z"
   },
   {
    "duration": 303,
    "start_time": "2023-12-15T14:44:29.551Z"
   },
   {
    "duration": 29,
    "start_time": "2023-12-15T14:44:29.856Z"
   },
   {
    "duration": 28,
    "start_time": "2023-12-15T14:44:29.887Z"
   },
   {
    "duration": 45,
    "start_time": "2023-12-15T14:44:29.917Z"
   },
   {
    "duration": 55,
    "start_time": "2023-12-15T14:44:29.964Z"
   },
   {
    "duration": 288,
    "start_time": "2023-12-15T14:44:30.021Z"
   },
   {
    "duration": 24,
    "start_time": "2023-12-15T14:44:30.311Z"
   },
   {
    "duration": 30,
    "start_time": "2023-12-15T14:44:30.337Z"
   },
   {
    "duration": 61,
    "start_time": "2023-12-15T14:44:30.369Z"
   },
   {
    "duration": 60,
    "start_time": "2023-12-15T14:44:30.432Z"
   },
   {
    "duration": 89,
    "start_time": "2023-12-15T14:44:30.493Z"
   },
   {
    "duration": 7,
    "start_time": "2023-12-15T14:44:30.583Z"
   },
   {
    "duration": 33,
    "start_time": "2023-12-15T14:44:30.592Z"
   },
   {
    "duration": 63,
    "start_time": "2023-12-15T14:44:30.627Z"
   },
   {
    "duration": 82,
    "start_time": "2023-12-15T14:44:30.692Z"
   },
   {
    "duration": 603,
    "start_time": "2023-12-15T14:44:30.776Z"
   },
   {
    "duration": 244,
    "start_time": "2023-12-15T14:44:31.380Z"
   },
   {
    "duration": 180,
    "start_time": "2023-12-15T14:44:31.625Z"
   },
   {
    "duration": 159,
    "start_time": "2023-12-15T14:44:31.806Z"
   },
   {
    "duration": 7,
    "start_time": "2023-12-15T14:44:31.967Z"
   },
   {
    "duration": 19,
    "start_time": "2023-12-15T14:44:31.975Z"
   },
   {
    "duration": 7,
    "start_time": "2023-12-15T14:44:31.995Z"
   },
   {
    "duration": 53,
    "start_time": "2023-12-15T14:44:32.003Z"
   },
   {
    "duration": 8,
    "start_time": "2023-12-15T14:44:32.058Z"
   },
   {
    "duration": 170,
    "start_time": "2023-12-15T14:44:32.067Z"
   },
   {
    "duration": 96,
    "start_time": "2023-12-15T14:45:32.327Z"
   },
   {
    "duration": 44,
    "start_time": "2023-12-15T14:45:43.631Z"
   },
   {
    "duration": 10,
    "start_time": "2023-12-15T14:45:48.679Z"
   },
   {
    "duration": 21,
    "start_time": "2023-12-15T14:46:07.928Z"
   },
   {
    "duration": 23,
    "start_time": "2023-12-15T14:46:47.112Z"
   },
   {
    "duration": 44,
    "start_time": "2023-12-15T14:46:58.812Z"
   },
   {
    "duration": 10,
    "start_time": "2023-12-15T14:47:00.102Z"
   },
   {
    "duration": 21,
    "start_time": "2023-12-15T14:47:00.585Z"
   },
   {
    "duration": 52,
    "start_time": "2023-12-15T14:47:49.956Z"
   },
   {
    "duration": 49,
    "start_time": "2023-12-15T14:47:55.844Z"
   },
   {
    "duration": 52,
    "start_time": "2023-12-15T14:47:58.791Z"
   },
   {
    "duration": 47,
    "start_time": "2023-12-15T14:48:03.254Z"
   },
   {
    "duration": 10,
    "start_time": "2023-12-15T14:48:04.471Z"
   },
   {
    "duration": 21,
    "start_time": "2023-12-15T14:48:05.341Z"
   },
   {
    "duration": 22,
    "start_time": "2023-12-15T14:48:22.613Z"
   },
   {
    "duration": 1117,
    "start_time": "2023-12-15T14:48:31.136Z"
   },
   {
    "duration": 992,
    "start_time": "2023-12-15T14:48:32.255Z"
   },
   {
    "duration": 15,
    "start_time": "2023-12-15T14:48:33.249Z"
   },
   {
    "duration": 108,
    "start_time": "2023-12-15T14:48:33.266Z"
   },
   {
    "duration": 3,
    "start_time": "2023-12-15T14:48:33.376Z"
   },
   {
    "duration": 8,
    "start_time": "2023-12-15T14:48:33.381Z"
   },
   {
    "duration": 21,
    "start_time": "2023-12-15T14:48:33.390Z"
   },
   {
    "duration": 311,
    "start_time": "2023-12-15T14:48:33.413Z"
   },
   {
    "duration": 325,
    "start_time": "2023-12-15T14:48:33.726Z"
   },
   {
    "duration": 333,
    "start_time": "2023-12-15T14:48:34.052Z"
   },
   {
    "duration": 305,
    "start_time": "2023-12-15T14:48:34.387Z"
   },
   {
    "duration": 36,
    "start_time": "2023-12-15T14:48:34.694Z"
   },
   {
    "duration": 32,
    "start_time": "2023-12-15T14:48:34.731Z"
   },
   {
    "duration": 40,
    "start_time": "2023-12-15T14:48:34.766Z"
   },
   {
    "duration": 71,
    "start_time": "2023-12-15T14:48:34.808Z"
   },
   {
    "duration": 12,
    "start_time": "2023-12-15T14:48:34.881Z"
   },
   {
    "duration": 35,
    "start_time": "2023-12-15T14:48:34.894Z"
   },
   {
    "duration": 256,
    "start_time": "2023-12-15T14:48:34.931Z"
   },
   {
    "duration": 21,
    "start_time": "2023-12-15T14:48:35.188Z"
   },
   {
    "duration": 54,
    "start_time": "2023-12-15T14:48:35.210Z"
   },
   {
    "duration": 28,
    "start_time": "2023-12-15T14:48:35.266Z"
   },
   {
    "duration": 19,
    "start_time": "2023-12-15T14:48:35.295Z"
   },
   {
    "duration": 87,
    "start_time": "2023-12-15T14:48:35.316Z"
   },
   {
    "duration": 6,
    "start_time": "2023-12-15T14:48:35.405Z"
   },
   {
    "duration": 20,
    "start_time": "2023-12-15T14:48:35.412Z"
   },
   {
    "duration": 42,
    "start_time": "2023-12-15T14:48:35.433Z"
   },
   {
    "duration": 51,
    "start_time": "2023-12-15T14:48:35.476Z"
   },
   {
    "duration": 617,
    "start_time": "2023-12-15T14:48:35.528Z"
   },
   {
    "duration": 243,
    "start_time": "2023-12-15T14:48:36.147Z"
   },
   {
    "duration": 180,
    "start_time": "2023-12-15T14:48:36.392Z"
   },
   {
    "duration": 171,
    "start_time": "2023-12-15T14:48:36.573Z"
   },
   {
    "duration": 7,
    "start_time": "2023-12-15T14:48:36.746Z"
   },
   {
    "duration": 19,
    "start_time": "2023-12-15T14:48:36.754Z"
   },
   {
    "duration": 6,
    "start_time": "2023-12-15T14:48:36.774Z"
   },
   {
    "duration": 55,
    "start_time": "2023-12-15T14:48:36.781Z"
   },
   {
    "duration": 7,
    "start_time": "2023-12-15T14:48:36.838Z"
   },
   {
    "duration": 166,
    "start_time": "2023-12-15T14:48:36.846Z"
   },
   {
    "duration": 48,
    "start_time": "2023-12-15T14:50:12.428Z"
   },
   {
    "duration": 10,
    "start_time": "2023-12-15T14:50:12.934Z"
   },
   {
    "duration": 21,
    "start_time": "2023-12-15T14:50:13.876Z"
   },
   {
    "duration": 1227,
    "start_time": "2023-12-15T14:51:10.424Z"
   },
   {
    "duration": 1030,
    "start_time": "2023-12-15T14:51:11.653Z"
   },
   {
    "duration": 16,
    "start_time": "2023-12-15T14:51:12.685Z"
   },
   {
    "duration": 127,
    "start_time": "2023-12-15T14:51:12.703Z"
   },
   {
    "duration": 3,
    "start_time": "2023-12-15T14:51:12.832Z"
   },
   {
    "duration": 32,
    "start_time": "2023-12-15T14:51:12.836Z"
   },
   {
    "duration": 26,
    "start_time": "2023-12-15T14:51:12.869Z"
   },
   {
    "duration": 305,
    "start_time": "2023-12-15T14:51:12.897Z"
   },
   {
    "duration": 322,
    "start_time": "2023-12-15T14:51:13.203Z"
   },
   {
    "duration": 345,
    "start_time": "2023-12-15T14:51:13.526Z"
   },
   {
    "duration": 334,
    "start_time": "2023-12-15T14:51:13.872Z"
   },
   {
    "duration": 35,
    "start_time": "2023-12-15T14:51:14.208Z"
   },
   {
    "duration": 24,
    "start_time": "2023-12-15T14:51:14.245Z"
   },
   {
    "duration": 36,
    "start_time": "2023-12-15T14:51:14.272Z"
   },
   {
    "duration": 48,
    "start_time": "2023-12-15T14:51:14.310Z"
   },
   {
    "duration": 23,
    "start_time": "2023-12-15T14:51:14.360Z"
   },
   {
    "duration": 33,
    "start_time": "2023-12-15T14:51:14.385Z"
   },
   {
    "duration": 231,
    "start_time": "2023-12-15T14:51:14.420Z"
   },
   {
    "duration": 22,
    "start_time": "2023-12-15T14:51:14.652Z"
   },
   {
    "duration": 29,
    "start_time": "2023-12-15T14:51:14.675Z"
   },
   {
    "duration": 36,
    "start_time": "2023-12-15T14:51:14.705Z"
   },
   {
    "duration": 26,
    "start_time": "2023-12-15T14:51:14.742Z"
   },
   {
    "duration": 103,
    "start_time": "2023-12-15T14:51:14.770Z"
   },
   {
    "duration": 8,
    "start_time": "2023-12-15T14:51:14.875Z"
   },
   {
    "duration": 21,
    "start_time": "2023-12-15T14:51:14.885Z"
   },
   {
    "duration": 36,
    "start_time": "2023-12-15T14:51:14.908Z"
   },
   {
    "duration": 38,
    "start_time": "2023-12-15T14:51:14.946Z"
   },
   {
    "duration": 636,
    "start_time": "2023-12-15T14:51:14.986Z"
   },
   {
    "duration": 232,
    "start_time": "2023-12-15T14:51:15.623Z"
   },
   {
    "duration": 181,
    "start_time": "2023-12-15T14:51:15.857Z"
   },
   {
    "duration": 179,
    "start_time": "2023-12-15T14:51:16.039Z"
   },
   {
    "duration": 9,
    "start_time": "2023-12-15T14:51:16.221Z"
   },
   {
    "duration": 22,
    "start_time": "2023-12-15T14:51:16.231Z"
   },
   {
    "duration": 7,
    "start_time": "2023-12-15T14:51:16.255Z"
   },
   {
    "duration": 58,
    "start_time": "2023-12-15T14:51:16.264Z"
   },
   {
    "duration": 7,
    "start_time": "2023-12-15T14:51:16.324Z"
   },
   {
    "duration": 164,
    "start_time": "2023-12-15T14:51:16.332Z"
   },
   {
    "duration": 1084,
    "start_time": "2023-12-15T14:51:54.959Z"
   },
   {
    "duration": 1020,
    "start_time": "2023-12-15T14:51:56.044Z"
   },
   {
    "duration": 16,
    "start_time": "2023-12-15T14:51:57.065Z"
   },
   {
    "duration": 137,
    "start_time": "2023-12-15T14:51:57.082Z"
   },
   {
    "duration": 3,
    "start_time": "2023-12-15T14:51:57.223Z"
   },
   {
    "duration": 31,
    "start_time": "2023-12-15T14:51:57.228Z"
   },
   {
    "duration": 41,
    "start_time": "2023-12-15T14:51:57.261Z"
   },
   {
    "duration": 346,
    "start_time": "2023-12-15T14:51:57.303Z"
   },
   {
    "duration": 320,
    "start_time": "2023-12-15T14:51:57.651Z"
   },
   {
    "duration": 341,
    "start_time": "2023-12-15T14:51:57.972Z"
   },
   {
    "duration": 322,
    "start_time": "2023-12-15T14:51:58.315Z"
   },
   {
    "duration": 29,
    "start_time": "2023-12-15T14:51:58.639Z"
   },
   {
    "duration": 32,
    "start_time": "2023-12-15T14:51:58.669Z"
   },
   {
    "duration": 44,
    "start_time": "2023-12-15T14:51:58.703Z"
   },
   {
    "duration": 109,
    "start_time": "2023-12-15T14:51:58.748Z"
   },
   {
    "duration": 0,
    "start_time": "2023-12-15T14:51:58.858Z"
   },
   {
    "duration": 0,
    "start_time": "2023-12-15T14:51:58.860Z"
   },
   {
    "duration": 0,
    "start_time": "2023-12-15T14:51:58.860Z"
   },
   {
    "duration": 0,
    "start_time": "2023-12-15T14:51:58.861Z"
   },
   {
    "duration": 0,
    "start_time": "2023-12-15T14:51:58.863Z"
   },
   {
    "duration": 0,
    "start_time": "2023-12-15T14:51:58.864Z"
   },
   {
    "duration": 0,
    "start_time": "2023-12-15T14:51:58.865Z"
   },
   {
    "duration": 0,
    "start_time": "2023-12-15T14:51:58.866Z"
   },
   {
    "duration": 0,
    "start_time": "2023-12-15T14:51:58.867Z"
   },
   {
    "duration": 0,
    "start_time": "2023-12-15T14:51:58.868Z"
   },
   {
    "duration": 0,
    "start_time": "2023-12-15T14:51:58.869Z"
   },
   {
    "duration": 0,
    "start_time": "2023-12-15T14:51:58.870Z"
   },
   {
    "duration": 0,
    "start_time": "2023-12-15T14:51:58.871Z"
   },
   {
    "duration": 0,
    "start_time": "2023-12-15T14:51:58.872Z"
   },
   {
    "duration": 0,
    "start_time": "2023-12-15T14:51:58.873Z"
   },
   {
    "duration": 0,
    "start_time": "2023-12-15T14:51:58.874Z"
   },
   {
    "duration": 0,
    "start_time": "2023-12-15T14:51:58.875Z"
   },
   {
    "duration": 0,
    "start_time": "2023-12-15T14:51:58.876Z"
   },
   {
    "duration": 0,
    "start_time": "2023-12-15T14:51:58.876Z"
   },
   {
    "duration": 0,
    "start_time": "2023-12-15T14:51:58.877Z"
   },
   {
    "duration": 0,
    "start_time": "2023-12-15T14:51:58.878Z"
   },
   {
    "duration": 0,
    "start_time": "2023-12-15T14:51:58.879Z"
   },
   {
    "duration": 8,
    "start_time": "2023-12-15T14:52:22.014Z"
   },
   {
    "duration": 22,
    "start_time": "2023-12-15T14:52:26.004Z"
   },
   {
    "duration": 9,
    "start_time": "2023-12-15T14:52:26.834Z"
   },
   {
    "duration": 22,
    "start_time": "2023-12-15T14:52:28.046Z"
   },
   {
    "duration": 20,
    "start_time": "2023-12-15T14:55:01.270Z"
   },
   {
    "duration": 9,
    "start_time": "2023-12-15T14:55:01.694Z"
   },
   {
    "duration": 22,
    "start_time": "2023-12-15T14:55:06.772Z"
   },
   {
    "duration": 19,
    "start_time": "2023-12-15T14:55:18.509Z"
   },
   {
    "duration": 21,
    "start_time": "2023-12-15T14:55:42.914Z"
   },
   {
    "duration": 22,
    "start_time": "2023-12-15T14:56:10.860Z"
   },
   {
    "duration": 21,
    "start_time": "2023-12-15T14:56:11.436Z"
   },
   {
    "duration": 21,
    "start_time": "2023-12-15T14:56:47.750Z"
   },
   {
    "duration": 24,
    "start_time": "2023-12-15T14:57:18.155Z"
   },
   {
    "duration": 20,
    "start_time": "2023-12-15T14:57:18.657Z"
   },
   {
    "duration": 22,
    "start_time": "2023-12-15T14:57:42.423Z"
   },
   {
    "duration": 46,
    "start_time": "2023-12-15T14:58:44.590Z"
   },
   {
    "duration": 23,
    "start_time": "2023-12-15T14:58:45.330Z"
   },
   {
    "duration": 39,
    "start_time": "2023-12-15T14:58:57.199Z"
   },
   {
    "duration": 24,
    "start_time": "2023-12-15T14:58:57.887Z"
   },
   {
    "duration": 24,
    "start_time": "2023-12-15T14:59:42.284Z"
   },
   {
    "duration": 28,
    "start_time": "2023-12-15T15:00:00.664Z"
   },
   {
    "duration": 247,
    "start_time": "2023-12-15T15:00:02.184Z"
   },
   {
    "duration": 22,
    "start_time": "2023-12-15T15:00:23.018Z"
   },
   {
    "duration": 6,
    "start_time": "2023-12-15T15:00:28.072Z"
   },
   {
    "duration": 18,
    "start_time": "2023-12-15T15:00:30.515Z"
   },
   {
    "duration": 18,
    "start_time": "2023-12-15T15:00:32.901Z"
   },
   {
    "duration": 86,
    "start_time": "2023-12-15T15:00:35.386Z"
   },
   {
    "duration": 7,
    "start_time": "2023-12-15T15:00:36.470Z"
   },
   {
    "duration": 12,
    "start_time": "2023-12-15T15:00:37.529Z"
   },
   {
    "duration": 22,
    "start_time": "2023-12-15T15:00:39.535Z"
   },
   {
    "duration": 632,
    "start_time": "2023-12-15T15:00:54.080Z"
   },
   {
    "duration": 257,
    "start_time": "2023-12-15T15:00:58.907Z"
   },
   {
    "duration": 179,
    "start_time": "2023-12-15T15:01:01.760Z"
   },
   {
    "duration": 174,
    "start_time": "2023-12-15T15:01:04.222Z"
   },
   {
    "duration": 7,
    "start_time": "2023-12-15T15:01:43.454Z"
   },
   {
    "duration": 8,
    "start_time": "2023-12-15T15:02:39.315Z"
   },
   {
    "duration": 8,
    "start_time": "2023-12-15T15:02:56.352Z"
   },
   {
    "duration": 18,
    "start_time": "2023-12-15T15:02:56.887Z"
   },
   {
    "duration": 7,
    "start_time": "2023-12-15T15:02:57.852Z"
   },
   {
    "duration": 39,
    "start_time": "2023-12-15T15:02:59.046Z"
   },
   {
    "duration": 11,
    "start_time": "2023-12-15T15:02:59.488Z"
   },
   {
    "duration": 5,
    "start_time": "2023-12-15T15:03:24.250Z"
   },
   {
    "duration": 67,
    "start_time": "2023-12-15T15:03:24.659Z"
   },
   {
    "duration": 10,
    "start_time": "2023-12-15T15:03:25.062Z"
   },
   {
    "duration": 598,
    "start_time": "2023-12-15T15:03:33.028Z"
   },
   {
    "duration": 218,
    "start_time": "2023-12-15T15:03:39.915Z"
   },
   {
    "duration": 184,
    "start_time": "2023-12-15T15:03:43.637Z"
   },
   {
    "duration": 145,
    "start_time": "2023-12-15T15:03:45.541Z"
   },
   {
    "duration": 164,
    "start_time": "2023-12-15T15:04:32.112Z"
   },
   {
    "duration": 99,
    "start_time": "2023-12-15T15:04:43.323Z"
   },
   {
    "duration": 82,
    "start_time": "2023-12-15T15:05:44.495Z"
   },
   {
    "duration": 173,
    "start_time": "2023-12-15T15:05:47.869Z"
   },
   {
    "duration": 203,
    "start_time": "2023-12-15T15:06:03.833Z"
   },
   {
    "duration": 11,
    "start_time": "2023-12-15T15:06:12.848Z"
   },
   {
    "duration": 156,
    "start_time": "2023-12-15T15:06:48.225Z"
   },
   {
    "duration": 10,
    "start_time": "2023-12-15T15:06:48.984Z"
   },
   {
    "duration": 144,
    "start_time": "2023-12-15T15:07:13.479Z"
   },
   {
    "duration": 9,
    "start_time": "2023-12-15T15:07:14.388Z"
   },
   {
    "duration": 49,
    "start_time": "2023-12-15T15:07:19.179Z"
   },
   {
    "duration": 56,
    "start_time": "2023-12-15T15:09:02.732Z"
   },
   {
    "duration": 27,
    "start_time": "2023-12-15T15:09:52.028Z"
   },
   {
    "duration": 88,
    "start_time": "2023-12-15T15:10:38.784Z"
   },
   {
    "duration": 12518,
    "start_time": "2023-12-15T15:15:48.947Z"
   },
   {
    "duration": 12551,
    "start_time": "2023-12-15T15:16:35.268Z"
   },
   {
    "duration": 12288,
    "start_time": "2023-12-15T15:17:04.942Z"
   },
   {
    "duration": 12189,
    "start_time": "2023-12-15T15:17:38.864Z"
   },
   {
    "duration": 13033,
    "start_time": "2023-12-15T15:18:45.803Z"
   },
   {
    "duration": 401,
    "start_time": "2023-12-15T15:20:02.318Z"
   },
   {
    "duration": 514,
    "start_time": "2023-12-15T15:20:17.837Z"
   },
   {
    "duration": 410,
    "start_time": "2023-12-15T15:20:33.756Z"
   },
   {
    "duration": 462,
    "start_time": "2023-12-15T15:20:40.751Z"
   },
   {
    "duration": 336,
    "start_time": "2023-12-15T15:21:03.698Z"
   },
   {
    "duration": 6,
    "start_time": "2023-12-15T15:22:00.189Z"
   },
   {
    "duration": 41,
    "start_time": "2023-12-15T15:23:18.742Z"
   },
   {
    "duration": 22,
    "start_time": "2023-12-15T15:23:45.832Z"
   },
   {
    "duration": 20,
    "start_time": "2023-12-15T15:23:53.440Z"
   },
   {
    "duration": 20,
    "start_time": "2023-12-15T15:23:57.533Z"
   },
   {
    "duration": 19,
    "start_time": "2023-12-15T15:24:02.342Z"
   },
   {
    "duration": 8,
    "start_time": "2023-12-15T15:26:32.625Z"
   },
   {
    "duration": 39,
    "start_time": "2023-12-15T15:26:33.221Z"
   },
   {
    "duration": 11,
    "start_time": "2023-12-15T15:26:34.854Z"
   },
   {
    "duration": 558,
    "start_time": "2023-12-15T15:26:37.528Z"
   },
   {
    "duration": 345,
    "start_time": "2023-12-15T15:26:41.829Z"
   },
   {
    "duration": 406,
    "start_time": "2023-12-15T15:26:42.447Z"
   },
   {
    "duration": 176,
    "start_time": "2023-12-15T15:26:45.346Z"
   },
   {
    "duration": 332,
    "start_time": "2023-12-15T15:26:46.993Z"
   },
   {
    "duration": 150,
    "start_time": "2023-12-15T15:26:50.965Z"
   },
   {
    "duration": 141,
    "start_time": "2023-12-15T15:26:52.885Z"
   },
   {
    "duration": 140,
    "start_time": "2023-12-15T15:26:53.668Z"
   },
   {
    "duration": 135,
    "start_time": "2023-12-15T15:26:54.104Z"
   },
   {
    "duration": 63,
    "start_time": "2023-12-15T15:26:54.485Z"
   },
   {
    "duration": 36,
    "start_time": "2023-12-15T15:26:54.827Z"
   },
   {
    "duration": 11920,
    "start_time": "2023-12-15T15:26:55.049Z"
   },
   {
    "duration": 18,
    "start_time": "2023-12-15T15:27:24.070Z"
   },
   {
    "duration": 92,
    "start_time": "2023-12-15T15:28:04.115Z"
   },
   {
    "duration": 12,
    "start_time": "2023-12-15T15:28:12.181Z"
   },
   {
    "duration": 38,
    "start_time": "2023-12-15T15:28:13.064Z"
   },
   {
    "duration": 6,
    "start_time": "2023-12-15T15:28:13.540Z"
   },
   {
    "duration": 10,
    "start_time": "2023-12-15T15:28:13.709Z"
   },
   {
    "duration": 4,
    "start_time": "2023-12-15T15:28:14.028Z"
   },
   {
    "duration": 33,
    "start_time": "2023-12-15T15:28:14.190Z"
   },
   {
    "duration": 10,
    "start_time": "2023-12-15T15:28:14.354Z"
   },
   {
    "duration": 530,
    "start_time": "2023-12-15T15:28:14.657Z"
   },
   {
    "duration": 1196,
    "start_time": "2023-12-15T15:28:15.189Z"
   },
   {
    "duration": 0,
    "start_time": "2023-12-15T15:28:16.387Z"
   },
   {
    "duration": 0,
    "start_time": "2023-12-15T15:28:16.388Z"
   },
   {
    "duration": 0,
    "start_time": "2023-12-15T15:28:16.389Z"
   },
   {
    "duration": 1186,
    "start_time": "2023-12-15T15:28:16.712Z"
   },
   {
    "duration": 0,
    "start_time": "2023-12-15T15:28:17.900Z"
   },
   {
    "duration": 0,
    "start_time": "2023-12-15T15:28:17.901Z"
   },
   {
    "duration": 0,
    "start_time": "2023-12-15T15:28:17.902Z"
   },
   {
    "duration": 52,
    "start_time": "2023-12-15T15:28:18.022Z"
   },
   {
    "duration": 24,
    "start_time": "2023-12-15T15:28:18.168Z"
   },
   {
    "duration": 10584,
    "start_time": "2023-12-15T15:28:18.329Z"
   },
   {
    "duration": 18,
    "start_time": "2023-12-15T15:28:28.914Z"
   },
   {
    "duration": 1099,
    "start_time": "2023-12-15T15:34:41.562Z"
   },
   {
    "duration": 1019,
    "start_time": "2023-12-15T15:34:42.662Z"
   },
   {
    "duration": 16,
    "start_time": "2023-12-15T15:34:43.683Z"
   },
   {
    "duration": 118,
    "start_time": "2023-12-15T15:34:43.700Z"
   },
   {
    "duration": 3,
    "start_time": "2023-12-15T15:34:43.820Z"
   },
   {
    "duration": 27,
    "start_time": "2023-12-15T15:34:43.824Z"
   },
   {
    "duration": 33,
    "start_time": "2023-12-15T15:34:43.853Z"
   },
   {
    "duration": 314,
    "start_time": "2023-12-15T15:34:43.887Z"
   },
   {
    "duration": 315,
    "start_time": "2023-12-15T15:34:44.202Z"
   },
   {
    "duration": 334,
    "start_time": "2023-12-15T15:34:44.521Z"
   },
   {
    "duration": 313,
    "start_time": "2023-12-15T15:34:44.856Z"
   },
   {
    "duration": 27,
    "start_time": "2023-12-15T15:34:45.171Z"
   },
   {
    "duration": 22,
    "start_time": "2023-12-15T15:34:45.200Z"
   },
   {
    "duration": 39,
    "start_time": "2023-12-15T15:34:45.225Z"
   },
   {
    "duration": 40,
    "start_time": "2023-12-15T15:34:45.266Z"
   },
   {
    "duration": 33,
    "start_time": "2023-12-15T15:34:45.308Z"
   },
   {
    "duration": 22,
    "start_time": "2023-12-15T15:34:45.342Z"
   },
   {
    "duration": 27,
    "start_time": "2023-12-15T15:34:45.366Z"
   },
   {
    "duration": 31,
    "start_time": "2023-12-15T15:34:45.394Z"
   },
   {
    "duration": 34,
    "start_time": "2023-12-15T15:34:45.427Z"
   },
   {
    "duration": 32,
    "start_time": "2023-12-15T15:34:45.463Z"
   },
   {
    "duration": 51,
    "start_time": "2023-12-15T15:34:45.499Z"
   },
   {
    "duration": 55,
    "start_time": "2023-12-15T15:34:45.552Z"
   },
   {
    "duration": 35,
    "start_time": "2023-12-15T15:34:45.609Z"
   },
   {
    "duration": 25,
    "start_time": "2023-12-15T15:34:45.646Z"
   },
   {
    "duration": 223,
    "start_time": "2023-12-15T15:34:45.672Z"
   },
   {
    "duration": 26,
    "start_time": "2023-12-15T15:34:45.896Z"
   },
   {
    "duration": 16,
    "start_time": "2023-12-15T15:34:45.924Z"
   },
   {
    "duration": 29,
    "start_time": "2023-12-15T15:34:45.942Z"
   },
   {
    "duration": 16,
    "start_time": "2023-12-15T15:34:45.973Z"
   },
   {
    "duration": 110,
    "start_time": "2023-12-15T15:34:45.990Z"
   },
   {
    "duration": 6,
    "start_time": "2023-12-15T15:34:46.101Z"
   },
   {
    "duration": 34,
    "start_time": "2023-12-15T15:34:46.108Z"
   },
   {
    "duration": 41,
    "start_time": "2023-12-15T15:34:46.144Z"
   },
   {
    "duration": 19,
    "start_time": "2023-12-15T15:34:46.187Z"
   },
   {
    "duration": 46,
    "start_time": "2023-12-15T15:34:46.207Z"
   },
   {
    "duration": 6,
    "start_time": "2023-12-15T15:34:46.254Z"
   },
   {
    "duration": 31,
    "start_time": "2023-12-15T15:34:46.261Z"
   },
   {
    "duration": 16,
    "start_time": "2023-12-15T15:34:46.294Z"
   },
   {
    "duration": 46,
    "start_time": "2023-12-15T15:34:46.311Z"
   },
   {
    "duration": 9,
    "start_time": "2023-12-15T15:34:46.362Z"
   },
   {
    "duration": 560,
    "start_time": "2023-12-15T15:34:46.373Z"
   },
   {
    "duration": 1256,
    "start_time": "2023-12-15T15:34:46.935Z"
   },
   {
    "duration": 0,
    "start_time": "2023-12-15T15:34:48.192Z"
   },
   {
    "duration": 0,
    "start_time": "2023-12-15T15:34:48.193Z"
   },
   {
    "duration": 0,
    "start_time": "2023-12-15T15:34:48.194Z"
   },
   {
    "duration": 0,
    "start_time": "2023-12-15T15:34:48.195Z"
   },
   {
    "duration": 0,
    "start_time": "2023-12-15T15:34:48.195Z"
   },
   {
    "duration": 0,
    "start_time": "2023-12-15T15:34:48.196Z"
   },
   {
    "duration": 0,
    "start_time": "2023-12-15T15:34:48.197Z"
   },
   {
    "duration": 0,
    "start_time": "2023-12-15T15:34:48.198Z"
   },
   {
    "duration": 0,
    "start_time": "2023-12-15T15:34:48.199Z"
   },
   {
    "duration": 0,
    "start_time": "2023-12-15T15:34:48.200Z"
   },
   {
    "duration": 428,
    "start_time": "2023-12-15T15:36:17.140Z"
   },
   {
    "duration": 1234,
    "start_time": "2023-12-15T15:36:36.754Z"
   },
   {
    "duration": 1129,
    "start_time": "2023-12-15T15:37:01.538Z"
   },
   {
    "duration": 0,
    "start_time": "2023-12-15T15:37:02.668Z"
   },
   {
    "duration": 0,
    "start_time": "2023-12-15T15:37:02.669Z"
   },
   {
    "duration": 132,
    "start_time": "2023-12-15T15:37:06.243Z"
   },
   {
    "duration": 134,
    "start_time": "2023-12-15T15:37:09.500Z"
   },
   {
    "duration": 314,
    "start_time": "2023-12-15T15:37:13.078Z"
   },
   {
    "duration": 1172,
    "start_time": "2023-12-15T15:37:16.075Z"
   },
   {
    "duration": 127,
    "start_time": "2023-12-15T15:37:29.288Z"
   },
   {
    "duration": 125,
    "start_time": "2023-12-15T15:37:29.972Z"
   },
   {
    "duration": 129,
    "start_time": "2023-12-15T15:37:30.662Z"
   },
   {
    "duration": 54,
    "start_time": "2023-12-15T15:37:31.004Z"
   },
   {
    "duration": 25,
    "start_time": "2023-12-15T15:37:31.411Z"
   },
   {
    "duration": 1148,
    "start_time": "2023-12-15T15:37:34.341Z"
   },
   {
    "duration": 113,
    "start_time": "2023-12-15T15:37:40.504Z"
   },
   {
    "duration": 123,
    "start_time": "2023-12-15T15:37:40.824Z"
   },
   {
    "duration": 117,
    "start_time": "2023-12-15T15:37:40.980Z"
   },
   {
    "duration": 52,
    "start_time": "2023-12-15T15:37:41.147Z"
   },
   {
    "duration": 26,
    "start_time": "2023-12-15T15:37:41.311Z"
   },
   {
    "duration": 11008,
    "start_time": "2023-12-15T15:37:41.477Z"
   },
   {
    "duration": 532,
    "start_time": "2023-12-15T15:39:18.555Z"
   },
   {
    "duration": 1286,
    "start_time": "2023-12-16T06:18:54.356Z"
   },
   {
    "duration": 1204,
    "start_time": "2023-12-16T06:18:55.644Z"
   },
   {
    "duration": 16,
    "start_time": "2023-12-16T06:18:56.849Z"
   },
   {
    "duration": 94,
    "start_time": "2023-12-16T06:18:56.866Z"
   },
   {
    "duration": 3,
    "start_time": "2023-12-16T06:18:56.962Z"
   },
   {
    "duration": 5,
    "start_time": "2023-12-16T06:18:56.966Z"
   },
   {
    "duration": 12,
    "start_time": "2023-12-16T06:18:56.981Z"
   },
   {
    "duration": 282,
    "start_time": "2023-12-16T06:18:56.994Z"
   },
   {
    "duration": 281,
    "start_time": "2023-12-16T06:18:57.277Z"
   },
   {
    "duration": 311,
    "start_time": "2023-12-16T06:18:57.560Z"
   },
   {
    "duration": 280,
    "start_time": "2023-12-16T06:18:57.872Z"
   },
   {
    "duration": 32,
    "start_time": "2023-12-16T06:18:58.154Z"
   },
   {
    "duration": 9,
    "start_time": "2023-12-16T06:18:58.187Z"
   },
   {
    "duration": 17,
    "start_time": "2023-12-16T06:18:58.199Z"
   },
   {
    "duration": 22,
    "start_time": "2023-12-16T06:18:58.217Z"
   },
   {
    "duration": 27,
    "start_time": "2023-12-16T06:18:58.240Z"
   },
   {
    "duration": 20,
    "start_time": "2023-12-16T06:18:58.268Z"
   },
   {
    "duration": 20,
    "start_time": "2023-12-16T06:18:58.289Z"
   },
   {
    "duration": 19,
    "start_time": "2023-12-16T06:18:58.310Z"
   },
   {
    "duration": 19,
    "start_time": "2023-12-16T06:18:58.330Z"
   },
   {
    "duration": 38,
    "start_time": "2023-12-16T06:18:58.350Z"
   },
   {
    "duration": 18,
    "start_time": "2023-12-16T06:18:58.390Z"
   },
   {
    "duration": 35,
    "start_time": "2023-12-16T06:18:58.410Z"
   },
   {
    "duration": 39,
    "start_time": "2023-12-16T06:18:58.447Z"
   },
   {
    "duration": 22,
    "start_time": "2023-12-16T06:18:58.488Z"
   },
   {
    "duration": 217,
    "start_time": "2023-12-16T06:18:58.511Z"
   },
   {
    "duration": 19,
    "start_time": "2023-12-16T06:18:58.729Z"
   },
   {
    "duration": 5,
    "start_time": "2023-12-16T06:18:58.750Z"
   },
   {
    "duration": 30,
    "start_time": "2023-12-16T06:18:58.756Z"
   },
   {
    "duration": 15,
    "start_time": "2023-12-16T06:18:58.788Z"
   },
   {
    "duration": 88,
    "start_time": "2023-12-16T06:18:58.804Z"
   },
   {
    "duration": 6,
    "start_time": "2023-12-16T06:18:58.894Z"
   },
   {
    "duration": 15,
    "start_time": "2023-12-16T06:18:58.901Z"
   },
   {
    "duration": 24,
    "start_time": "2023-12-16T06:18:58.917Z"
   },
   {
    "duration": 10,
    "start_time": "2023-12-16T06:18:58.942Z"
   },
   {
    "duration": 46,
    "start_time": "2023-12-16T06:18:58.953Z"
   },
   {
    "duration": 7,
    "start_time": "2023-12-16T06:18:59.000Z"
   },
   {
    "duration": 39,
    "start_time": "2023-12-16T06:18:59.008Z"
   },
   {
    "duration": 6,
    "start_time": "2023-12-16T06:18:59.049Z"
   },
   {
    "duration": 30,
    "start_time": "2023-12-16T06:18:59.056Z"
   },
   {
    "duration": 10,
    "start_time": "2023-12-16T06:18:59.089Z"
   },
   {
    "duration": 510,
    "start_time": "2023-12-16T06:18:59.100Z"
   },
   {
    "duration": 1362,
    "start_time": "2023-12-16T06:18:59.611Z"
   },
   {
    "duration": 0,
    "start_time": "2023-12-16T06:19:00.975Z"
   },
   {
    "duration": 0,
    "start_time": "2023-12-16T06:19:00.976Z"
   },
   {
    "duration": 0,
    "start_time": "2023-12-16T06:19:00.977Z"
   },
   {
    "duration": 0,
    "start_time": "2023-12-16T06:19:00.978Z"
   },
   {
    "duration": 0,
    "start_time": "2023-12-16T06:19:00.979Z"
   },
   {
    "duration": 0,
    "start_time": "2023-12-16T06:19:00.980Z"
   },
   {
    "duration": 0,
    "start_time": "2023-12-16T06:19:00.981Z"
   },
   {
    "duration": 0,
    "start_time": "2023-12-16T06:19:00.982Z"
   },
   {
    "duration": 0,
    "start_time": "2023-12-16T06:19:00.983Z"
   },
   {
    "duration": 0,
    "start_time": "2023-12-16T06:19:00.984Z"
   },
   {
    "duration": 5,
    "start_time": "2023-12-16T06:19:49.055Z"
   },
   {
    "duration": 1430,
    "start_time": "2023-12-16T06:20:04.560Z"
   },
   {
    "duration": 1293,
    "start_time": "2023-12-16T06:20:14.774Z"
   },
   {
    "duration": 187,
    "start_time": "2023-12-16T06:20:29.659Z"
   },
   {
    "duration": 377,
    "start_time": "2023-12-16T06:20:43.874Z"
   },
   {
    "duration": 178,
    "start_time": "2023-12-16T06:20:57.824Z"
   },
   {
    "duration": 411,
    "start_time": "2023-12-16T06:21:05.792Z"
   },
   {
    "duration": 272,
    "start_time": "2023-12-16T06:21:15.727Z"
   },
   {
    "duration": 309,
    "start_time": "2023-12-16T06:21:23.612Z"
   },
   {
    "duration": 1288,
    "start_time": "2023-12-16T06:21:31.428Z"
   },
   {
    "duration": 556,
    "start_time": "2023-12-16T06:23:19.245Z"
   },
   {
    "duration": 488,
    "start_time": "2023-12-16T06:23:44.599Z"
   },
   {
    "duration": 473,
    "start_time": "2023-12-16T06:24:21.342Z"
   },
   {
    "duration": 24,
    "start_time": "2023-12-16T06:25:32.533Z"
   },
   {
    "duration": 1598,
    "start_time": "2023-12-16T06:26:31.763Z"
   },
   {
    "duration": 435,
    "start_time": "2023-12-16T06:26:49.229Z"
   },
   {
    "duration": 479,
    "start_time": "2023-12-16T06:27:08.996Z"
   },
   {
    "duration": 483,
    "start_time": "2023-12-16T06:27:24.490Z"
   },
   {
    "duration": 487,
    "start_time": "2023-12-16T06:27:44.955Z"
   },
   {
    "duration": 11,
    "start_time": "2023-12-16T06:28:29.330Z"
   },
   {
    "duration": 392,
    "start_time": "2023-12-16T06:28:36.102Z"
   },
   {
    "duration": 417,
    "start_time": "2023-12-16T06:28:43.465Z"
   },
   {
    "duration": 514,
    "start_time": "2023-12-16T06:31:01.507Z"
   },
   {
    "duration": 477,
    "start_time": "2023-12-16T06:31:18.111Z"
   },
   {
    "duration": 481,
    "start_time": "2023-12-16T06:31:45.614Z"
   },
   {
    "duration": 1173,
    "start_time": "2023-12-16T06:32:07.560Z"
   },
   {
    "duration": 1053,
    "start_time": "2023-12-16T06:32:08.735Z"
   },
   {
    "duration": 17,
    "start_time": "2023-12-16T06:32:09.790Z"
   },
   {
    "duration": 117,
    "start_time": "2023-12-16T06:32:09.808Z"
   },
   {
    "duration": 3,
    "start_time": "2023-12-16T06:32:09.927Z"
   },
   {
    "duration": 12,
    "start_time": "2023-12-16T06:32:09.931Z"
   },
   {
    "duration": 33,
    "start_time": "2023-12-16T06:32:09.944Z"
   },
   {
    "duration": 269,
    "start_time": "2023-12-16T06:32:09.979Z"
   },
   {
    "duration": 280,
    "start_time": "2023-12-16T06:32:10.250Z"
   },
   {
    "duration": 306,
    "start_time": "2023-12-16T06:32:10.532Z"
   },
   {
    "duration": 302,
    "start_time": "2023-12-16T06:32:10.840Z"
   },
   {
    "duration": 27,
    "start_time": "2023-12-16T06:32:11.144Z"
   },
   {
    "duration": 24,
    "start_time": "2023-12-16T06:32:11.181Z"
   },
   {
    "duration": 19,
    "start_time": "2023-12-16T06:32:11.208Z"
   },
   {
    "duration": 22,
    "start_time": "2023-12-16T06:32:11.229Z"
   },
   {
    "duration": 21,
    "start_time": "2023-12-16T06:32:11.253Z"
   },
   {
    "duration": 13,
    "start_time": "2023-12-16T06:32:11.275Z"
   },
   {
    "duration": 23,
    "start_time": "2023-12-16T06:32:11.289Z"
   },
   {
    "duration": 20,
    "start_time": "2023-12-16T06:32:11.314Z"
   },
   {
    "duration": 21,
    "start_time": "2023-12-16T06:32:11.335Z"
   },
   {
    "duration": 43,
    "start_time": "2023-12-16T06:32:11.358Z"
   },
   {
    "duration": 19,
    "start_time": "2023-12-16T06:32:11.403Z"
   },
   {
    "duration": 36,
    "start_time": "2023-12-16T06:32:11.424Z"
   },
   {
    "duration": 41,
    "start_time": "2023-12-16T06:32:11.462Z"
   },
   {
    "duration": 21,
    "start_time": "2023-12-16T06:32:11.504Z"
   },
   {
    "duration": 220,
    "start_time": "2023-12-16T06:32:11.527Z"
   },
   {
    "duration": 19,
    "start_time": "2023-12-16T06:32:11.748Z"
   },
   {
    "duration": 16,
    "start_time": "2023-12-16T06:32:11.769Z"
   },
   {
    "duration": 17,
    "start_time": "2023-12-16T06:32:11.786Z"
   },
   {
    "duration": 14,
    "start_time": "2023-12-16T06:32:11.805Z"
   },
   {
    "duration": 107,
    "start_time": "2023-12-16T06:32:11.821Z"
   },
   {
    "duration": 6,
    "start_time": "2023-12-16T06:32:11.929Z"
   },
   {
    "duration": 9,
    "start_time": "2023-12-16T06:32:11.936Z"
   },
   {
    "duration": 17,
    "start_time": "2023-12-16T06:32:11.946Z"
   },
   {
    "duration": 11,
    "start_time": "2023-12-16T06:32:11.981Z"
   },
   {
    "duration": 35,
    "start_time": "2023-12-16T06:32:11.993Z"
   },
   {
    "duration": 7,
    "start_time": "2023-12-16T06:32:12.029Z"
   },
   {
    "duration": 20,
    "start_time": "2023-12-16T06:32:12.037Z"
   },
   {
    "duration": 29,
    "start_time": "2023-12-16T06:32:12.058Z"
   },
   {
    "duration": 40,
    "start_time": "2023-12-16T06:32:12.088Z"
   },
   {
    "duration": 10,
    "start_time": "2023-12-16T06:32:12.131Z"
   },
   {
    "duration": 686,
    "start_time": "2023-12-16T06:32:12.143Z"
   },
   {
    "duration": 884,
    "start_time": "2023-12-16T06:32:12.831Z"
   },
   {
    "duration": 434,
    "start_time": "2023-12-16T06:32:13.716Z"
   },
   {
    "duration": 128,
    "start_time": "2023-12-16T06:32:14.151Z"
   },
   {
    "duration": 136,
    "start_time": "2023-12-16T06:32:14.280Z"
   },
   {
    "duration": 121,
    "start_time": "2023-12-16T06:32:14.417Z"
   },
   {
    "duration": 52,
    "start_time": "2023-12-16T06:32:14.539Z"
   },
   {
    "duration": 23,
    "start_time": "2023-12-16T06:32:14.592Z"
   },
   {
    "duration": 9972,
    "start_time": "2023-12-16T06:32:14.616Z"
   },
   {
    "duration": 289,
    "start_time": "2023-12-16T06:34:34.893Z"
   },
   {
    "duration": 117,
    "start_time": "2023-12-16T06:55:07.703Z"
   },
   {
    "duration": 459,
    "start_time": "2023-12-16T06:55:22.410Z"
   },
   {
    "duration": 442,
    "start_time": "2023-12-16T06:58:25.076Z"
   },
   {
    "duration": 367,
    "start_time": "2023-12-16T06:58:49.378Z"
   },
   {
    "duration": 308,
    "start_time": "2023-12-16T06:59:25.917Z"
   },
   {
    "duration": 309,
    "start_time": "2023-12-16T06:59:57.893Z"
   },
   {
    "duration": 3,
    "start_time": "2023-12-16T07:00:12.780Z"
   },
   {
    "duration": 9,
    "start_time": "2023-12-16T07:00:20.996Z"
   },
   {
    "duration": 4,
    "start_time": "2023-12-16T07:01:28.265Z"
   },
   {
    "duration": 1330,
    "start_time": "2023-12-16T07:01:31.128Z"
   },
   {
    "duration": 977,
    "start_time": "2023-12-16T07:01:32.460Z"
   },
   {
    "duration": 16,
    "start_time": "2023-12-16T07:01:33.438Z"
   },
   {
    "duration": 113,
    "start_time": "2023-12-16T07:01:33.456Z"
   },
   {
    "duration": 3,
    "start_time": "2023-12-16T07:01:33.570Z"
   },
   {
    "duration": 4,
    "start_time": "2023-12-16T07:01:33.582Z"
   },
   {
    "duration": 19,
    "start_time": "2023-12-16T07:01:33.587Z"
   },
   {
    "duration": 286,
    "start_time": "2023-12-16T07:01:33.608Z"
   },
   {
    "duration": 290,
    "start_time": "2023-12-16T07:01:33.895Z"
   },
   {
    "duration": 318,
    "start_time": "2023-12-16T07:01:34.188Z"
   },
   {
    "duration": 276,
    "start_time": "2023-12-16T07:01:34.508Z"
   },
   {
    "duration": 27,
    "start_time": "2023-12-16T07:01:34.786Z"
   },
   {
    "duration": 11,
    "start_time": "2023-12-16T07:01:34.814Z"
   },
   {
    "duration": 19,
    "start_time": "2023-12-16T07:01:34.826Z"
   },
   {
    "duration": 36,
    "start_time": "2023-12-16T07:01:34.846Z"
   },
   {
    "duration": 20,
    "start_time": "2023-12-16T07:01:34.884Z"
   },
   {
    "duration": 8,
    "start_time": "2023-12-16T07:01:34.905Z"
   },
   {
    "duration": 22,
    "start_time": "2023-12-16T07:01:34.914Z"
   },
   {
    "duration": 20,
    "start_time": "2023-12-16T07:01:34.937Z"
   },
   {
    "duration": 39,
    "start_time": "2023-12-16T07:01:34.959Z"
   },
   {
    "duration": 20,
    "start_time": "2023-12-16T07:01:34.999Z"
   },
   {
    "duration": 25,
    "start_time": "2023-12-16T07:01:35.020Z"
   },
   {
    "duration": 46,
    "start_time": "2023-12-16T07:01:35.046Z"
   },
   {
    "duration": 27,
    "start_time": "2023-12-16T07:01:35.094Z"
   },
   {
    "duration": 25,
    "start_time": "2023-12-16T07:01:35.123Z"
   },
   {
    "duration": 233,
    "start_time": "2023-12-16T07:01:35.149Z"
   },
   {
    "duration": 20,
    "start_time": "2023-12-16T07:01:35.384Z"
   },
   {
    "duration": 32,
    "start_time": "2023-12-16T07:01:35.408Z"
   },
   {
    "duration": 17,
    "start_time": "2023-12-16T07:01:35.442Z"
   },
   {
    "duration": 16,
    "start_time": "2023-12-16T07:01:35.460Z"
   },
   {
    "duration": 91,
    "start_time": "2023-12-16T07:01:35.477Z"
   },
   {
    "duration": 7,
    "start_time": "2023-12-16T07:01:35.569Z"
   },
   {
    "duration": 14,
    "start_time": "2023-12-16T07:01:35.577Z"
   },
   {
    "duration": 17,
    "start_time": "2023-12-16T07:01:35.592Z"
   },
   {
    "duration": 9,
    "start_time": "2023-12-16T07:01:35.610Z"
   },
   {
    "duration": 47,
    "start_time": "2023-12-16T07:01:35.620Z"
   },
   {
    "duration": 13,
    "start_time": "2023-12-16T07:01:35.669Z"
   },
   {
    "duration": 41,
    "start_time": "2023-12-16T07:01:35.683Z"
   },
   {
    "duration": 6,
    "start_time": "2023-12-16T07:01:35.725Z"
   },
   {
    "duration": 41,
    "start_time": "2023-12-16T07:01:35.732Z"
   },
   {
    "duration": 24,
    "start_time": "2023-12-16T07:01:35.774Z"
   },
   {
    "duration": 607,
    "start_time": "2023-12-16T07:01:35.799Z"
   },
   {
    "duration": 548,
    "start_time": "2023-12-16T07:01:36.407Z"
   },
   {
    "duration": 432,
    "start_time": "2023-12-16T07:01:36.956Z"
   },
   {
    "duration": 132,
    "start_time": "2023-12-16T07:01:37.389Z"
   },
   {
    "duration": 149,
    "start_time": "2023-12-16T07:01:37.523Z"
   },
   {
    "duration": 119,
    "start_time": "2023-12-16T07:01:37.673Z"
   },
   {
    "duration": 52,
    "start_time": "2023-12-16T07:01:37.793Z"
   },
   {
    "duration": 39,
    "start_time": "2023-12-16T07:01:37.847Z"
   },
   {
    "duration": 10229,
    "start_time": "2023-12-16T07:01:37.887Z"
   },
   {
    "duration": 480,
    "start_time": "2023-12-16T07:01:48.117Z"
   },
   {
    "duration": 412,
    "start_time": "2023-12-16T07:01:48.598Z"
   },
   {
    "duration": 3,
    "start_time": "2023-12-16T07:01:49.012Z"
   },
   {
    "duration": 124,
    "start_time": "2023-12-16T07:01:49.017Z"
   },
   {
    "duration": 3,
    "start_time": "2023-12-16T07:02:25.888Z"
   },
   {
    "duration": 2,
    "start_time": "2023-12-16T07:02:30.827Z"
   },
   {
    "duration": 1437,
    "start_time": "2023-12-16T07:02:59.358Z"
   },
   {
    "duration": 1186,
    "start_time": "2023-12-16T07:03:00.797Z"
   },
   {
    "duration": 16,
    "start_time": "2023-12-16T07:03:01.984Z"
   },
   {
    "duration": 182,
    "start_time": "2023-12-16T07:03:02.001Z"
   },
   {
    "duration": 3,
    "start_time": "2023-12-16T07:03:02.185Z"
   },
   {
    "duration": 37,
    "start_time": "2023-12-16T07:03:02.189Z"
   },
   {
    "duration": 37,
    "start_time": "2023-12-16T07:03:02.228Z"
   },
   {
    "duration": 327,
    "start_time": "2023-12-16T07:03:02.267Z"
   },
   {
    "duration": 286,
    "start_time": "2023-12-16T07:03:02.596Z"
   },
   {
    "duration": 321,
    "start_time": "2023-12-16T07:03:02.884Z"
   },
   {
    "duration": 294,
    "start_time": "2023-12-16T07:03:03.207Z"
   },
   {
    "duration": 30,
    "start_time": "2023-12-16T07:03:03.503Z"
   },
   {
    "duration": 16,
    "start_time": "2023-12-16T07:03:03.534Z"
   },
   {
    "duration": 32,
    "start_time": "2023-12-16T07:03:03.553Z"
   },
   {
    "duration": 22,
    "start_time": "2023-12-16T07:03:03.586Z"
   },
   {
    "duration": 20,
    "start_time": "2023-12-16T07:03:03.610Z"
   },
   {
    "duration": 46,
    "start_time": "2023-12-16T07:03:03.631Z"
   },
   {
    "duration": 26,
    "start_time": "2023-12-16T07:03:03.679Z"
   },
   {
    "duration": 20,
    "start_time": "2023-12-16T07:03:03.706Z"
   },
   {
    "duration": 20,
    "start_time": "2023-12-16T07:03:03.728Z"
   },
   {
    "duration": 33,
    "start_time": "2023-12-16T07:03:03.749Z"
   },
   {
    "duration": 27,
    "start_time": "2023-12-16T07:03:03.783Z"
   },
   {
    "duration": 42,
    "start_time": "2023-12-16T07:03:03.812Z"
   },
   {
    "duration": 49,
    "start_time": "2023-12-16T07:03:03.855Z"
   },
   {
    "duration": 31,
    "start_time": "2023-12-16T07:03:03.906Z"
   },
   {
    "duration": 216,
    "start_time": "2023-12-16T07:03:03.939Z"
   },
   {
    "duration": 26,
    "start_time": "2023-12-16T07:03:04.157Z"
   },
   {
    "duration": 6,
    "start_time": "2023-12-16T07:03:04.185Z"
   },
   {
    "duration": 16,
    "start_time": "2023-12-16T07:03:04.192Z"
   },
   {
    "duration": 15,
    "start_time": "2023-12-16T07:03:04.210Z"
   },
   {
    "duration": 104,
    "start_time": "2023-12-16T07:03:04.226Z"
   },
   {
    "duration": 6,
    "start_time": "2023-12-16T07:03:04.332Z"
   },
   {
    "duration": 9,
    "start_time": "2023-12-16T07:03:04.339Z"
   },
   {
    "duration": 32,
    "start_time": "2023-12-16T07:03:04.349Z"
   },
   {
    "duration": 10,
    "start_time": "2023-12-16T07:03:04.382Z"
   },
   {
    "duration": 41,
    "start_time": "2023-12-16T07:03:04.393Z"
   },
   {
    "duration": 55,
    "start_time": "2023-12-16T07:03:04.435Z"
   },
   {
    "duration": 95,
    "start_time": "2023-12-16T07:03:04.491Z"
   },
   {
    "duration": 6,
    "start_time": "2023-12-16T07:03:04.588Z"
   },
   {
    "duration": 73,
    "start_time": "2023-12-16T07:03:04.595Z"
   },
   {
    "duration": 9,
    "start_time": "2023-12-16T07:03:04.671Z"
   },
   {
    "duration": 511,
    "start_time": "2023-12-16T07:03:04.681Z"
   },
   {
    "duration": 535,
    "start_time": "2023-12-16T07:03:05.193Z"
   },
   {
    "duration": 420,
    "start_time": "2023-12-16T07:03:05.729Z"
   },
   {
    "duration": 127,
    "start_time": "2023-12-16T07:03:06.151Z"
   },
   {
    "duration": 132,
    "start_time": "2023-12-16T07:03:06.279Z"
   },
   {
    "duration": 117,
    "start_time": "2023-12-16T07:03:06.412Z"
   },
   {
    "duration": 54,
    "start_time": "2023-12-16T07:03:06.530Z"
   },
   {
    "duration": 24,
    "start_time": "2023-12-16T07:03:06.586Z"
   },
   {
    "duration": 10244,
    "start_time": "2023-12-16T07:03:06.612Z"
   },
   {
    "duration": 451,
    "start_time": "2023-12-16T07:03:16.858Z"
   },
   {
    "duration": 375,
    "start_time": "2023-12-16T07:03:17.310Z"
   },
   {
    "duration": 3,
    "start_time": "2023-12-16T07:03:17.687Z"
   },
   {
    "duration": 8,
    "start_time": "2023-12-16T07:03:17.692Z"
   },
   {
    "duration": 44,
    "start_time": "2023-12-16T07:04:03.895Z"
   },
   {
    "duration": 1394,
    "start_time": "2023-12-16T07:04:25.075Z"
   },
   {
    "duration": 1211,
    "start_time": "2023-12-16T07:04:26.470Z"
   },
   {
    "duration": 16,
    "start_time": "2023-12-16T07:04:27.683Z"
   },
   {
    "duration": 118,
    "start_time": "2023-12-16T07:04:27.700Z"
   },
   {
    "duration": 3,
    "start_time": "2023-12-16T07:04:27.820Z"
   },
   {
    "duration": 20,
    "start_time": "2023-12-16T07:04:27.824Z"
   },
   {
    "duration": 29,
    "start_time": "2023-12-16T07:04:27.845Z"
   },
   {
    "duration": 291,
    "start_time": "2023-12-16T07:04:27.875Z"
   },
   {
    "duration": 286,
    "start_time": "2023-12-16T07:04:28.167Z"
   },
   {
    "duration": 320,
    "start_time": "2023-12-16T07:04:28.454Z"
   },
   {
    "duration": 305,
    "start_time": "2023-12-16T07:04:28.776Z"
   },
   {
    "duration": 28,
    "start_time": "2023-12-16T07:04:29.082Z"
   },
   {
    "duration": 18,
    "start_time": "2023-12-16T07:04:29.111Z"
   },
   {
    "duration": 22,
    "start_time": "2023-12-16T07:04:29.132Z"
   },
   {
    "duration": 33,
    "start_time": "2023-12-16T07:04:29.155Z"
   },
   {
    "duration": 25,
    "start_time": "2023-12-16T07:04:29.190Z"
   },
   {
    "duration": 26,
    "start_time": "2023-12-16T07:04:29.217Z"
   },
   {
    "duration": 45,
    "start_time": "2023-12-16T07:04:29.245Z"
   },
   {
    "duration": 31,
    "start_time": "2023-12-16T07:04:29.292Z"
   },
   {
    "duration": 29,
    "start_time": "2023-12-16T07:04:29.325Z"
   },
   {
    "duration": 24,
    "start_time": "2023-12-16T07:04:29.356Z"
   },
   {
    "duration": 23,
    "start_time": "2023-12-16T07:04:29.382Z"
   },
   {
    "duration": 51,
    "start_time": "2023-12-16T07:04:29.407Z"
   },
   {
    "duration": 37,
    "start_time": "2023-12-16T07:04:29.460Z"
   },
   {
    "duration": 25,
    "start_time": "2023-12-16T07:04:29.499Z"
   },
   {
    "duration": 250,
    "start_time": "2023-12-16T07:04:29.525Z"
   },
   {
    "duration": 23,
    "start_time": "2023-12-16T07:04:29.776Z"
   },
   {
    "duration": 7,
    "start_time": "2023-12-16T07:04:29.801Z"
   },
   {
    "duration": 20,
    "start_time": "2023-12-16T07:04:29.809Z"
   },
   {
    "duration": 26,
    "start_time": "2023-12-16T07:04:29.830Z"
   },
   {
    "duration": 93,
    "start_time": "2023-12-16T07:04:29.857Z"
   },
   {
    "duration": 6,
    "start_time": "2023-12-16T07:04:29.951Z"
   },
   {
    "duration": 7,
    "start_time": "2023-12-16T07:04:29.958Z"
   },
   {
    "duration": 33,
    "start_time": "2023-12-16T07:04:29.966Z"
   },
   {
    "duration": 11,
    "start_time": "2023-12-16T07:04:30.000Z"
   },
   {
    "duration": 71,
    "start_time": "2023-12-16T07:04:30.012Z"
   },
   {
    "duration": 6,
    "start_time": "2023-12-16T07:04:30.084Z"
   },
   {
    "duration": 41,
    "start_time": "2023-12-16T07:04:30.092Z"
   },
   {
    "duration": 6,
    "start_time": "2023-12-16T07:04:30.135Z"
   },
   {
    "duration": 54,
    "start_time": "2023-12-16T07:04:30.143Z"
   },
   {
    "duration": 9,
    "start_time": "2023-12-16T07:04:30.201Z"
   },
   {
    "duration": 520,
    "start_time": "2023-12-16T07:04:30.211Z"
   },
   {
    "duration": 563,
    "start_time": "2023-12-16T07:04:30.733Z"
   },
   {
    "duration": 434,
    "start_time": "2023-12-16T07:04:31.298Z"
   },
   {
    "duration": 131,
    "start_time": "2023-12-16T07:04:31.733Z"
   },
   {
    "duration": 138,
    "start_time": "2023-12-16T07:04:31.866Z"
   },
   {
    "duration": 119,
    "start_time": "2023-12-16T07:04:32.006Z"
   },
   {
    "duration": 49,
    "start_time": "2023-12-16T07:04:32.126Z"
   },
   {
    "duration": 24,
    "start_time": "2023-12-16T07:04:32.182Z"
   },
   {
    "duration": 10280,
    "start_time": "2023-12-16T07:04:32.208Z"
   },
   {
    "duration": 476,
    "start_time": "2023-12-16T07:04:42.489Z"
   },
   {
    "duration": 376,
    "start_time": "2023-12-16T07:04:42.966Z"
   },
   {
    "duration": 3,
    "start_time": "2023-12-16T07:04:43.343Z"
   },
   {
    "duration": 20052,
    "start_time": "2023-12-16T07:04:47.932Z"
   },
   {
    "duration": 17725,
    "start_time": "2023-12-16T07:06:35.265Z"
   },
   {
    "duration": 3,
    "start_time": "2023-12-16T07:07:12.425Z"
   },
   {
    "duration": 104,
    "start_time": "2023-12-16T07:08:33.663Z"
   },
   {
    "duration": 9,
    "start_time": "2023-12-16T07:10:29.646Z"
   },
   {
    "duration": 17,
    "start_time": "2023-12-16T07:10:38.766Z"
   },
   {
    "duration": 110,
    "start_time": "2023-12-16T07:10:41.412Z"
   },
   {
    "duration": 26,
    "start_time": "2023-12-16T07:10:49.257Z"
   },
   {
    "duration": 3,
    "start_time": "2023-12-16T07:10:54.948Z"
   },
   {
    "duration": 7828,
    "start_time": "2023-12-16T07:11:03.661Z"
   },
   {
    "duration": 9119,
    "start_time": "2023-12-16T07:11:53.980Z"
   },
   {
    "duration": 25,
    "start_time": "2023-12-16T07:13:16.579Z"
   },
   {
    "duration": 3,
    "start_time": "2023-12-16T07:13:17.552Z"
   },
   {
    "duration": 73295,
    "start_time": "2023-12-16T07:13:19.501Z"
   },
   {
    "duration": 3,
    "start_time": "2023-12-16T07:23:59.140Z"
   },
   {
    "duration": 10312025,
    "start_time": "2023-12-16T07:24:22.181Z"
   },
   {
    "duration": 18006,
    "start_time": "2023-12-16T10:19:33.983Z"
   },
   {
    "duration": 646,
    "start_time": "2023-12-16T10:21:54.537Z"
   },
   {
    "duration": 35737,
    "start_time": "2023-12-16T10:23:05.457Z"
   },
   {
    "duration": 13450,
    "start_time": "2023-12-16T10:23:41.195Z"
   },
   {
    "duration": 4380,
    "start_time": "2023-12-16T10:23:58.937Z"
   },
   {
    "duration": 4351,
    "start_time": "2023-12-16T10:24:31.642Z"
   },
   {
    "duration": 1324,
    "start_time": "2023-12-16T10:29:09.518Z"
   },
   {
    "duration": 944,
    "start_time": "2023-12-16T10:29:10.844Z"
   },
   {
    "duration": 15,
    "start_time": "2023-12-16T10:29:11.790Z"
   },
   {
    "duration": 107,
    "start_time": "2023-12-16T10:29:11.806Z"
   },
   {
    "duration": 2,
    "start_time": "2023-12-16T10:29:11.916Z"
   },
   {
    "duration": 5,
    "start_time": "2023-12-16T10:29:11.919Z"
   },
   {
    "duration": 16,
    "start_time": "2023-12-16T10:29:11.925Z"
   },
   {
    "duration": 285,
    "start_time": "2023-12-16T10:29:11.943Z"
   },
   {
    "duration": 322,
    "start_time": "2023-12-16T10:29:12.229Z"
   },
   {
    "duration": 317,
    "start_time": "2023-12-16T10:29:12.552Z"
   },
   {
    "duration": 292,
    "start_time": "2023-12-16T10:29:12.871Z"
   },
   {
    "duration": 29,
    "start_time": "2023-12-16T10:29:13.165Z"
   },
   {
    "duration": 27,
    "start_time": "2023-12-16T10:29:13.196Z"
   },
   {
    "duration": 55,
    "start_time": "2023-12-16T10:29:13.225Z"
   },
   {
    "duration": 43,
    "start_time": "2023-12-16T10:29:13.282Z"
   },
   {
    "duration": 19,
    "start_time": "2023-12-16T10:29:13.327Z"
   },
   {
    "duration": 9,
    "start_time": "2023-12-16T10:29:13.348Z"
   },
   {
    "duration": 21,
    "start_time": "2023-12-16T10:29:13.359Z"
   },
   {
    "duration": 21,
    "start_time": "2023-12-16T10:29:13.382Z"
   },
   {
    "duration": 67,
    "start_time": "2023-12-16T10:29:13.405Z"
   },
   {
    "duration": 20,
    "start_time": "2023-12-16T10:29:13.474Z"
   },
   {
    "duration": 26,
    "start_time": "2023-12-16T10:29:13.496Z"
   },
   {
    "duration": 36,
    "start_time": "2023-12-16T10:29:13.524Z"
   },
   {
    "duration": 36,
    "start_time": "2023-12-16T10:29:13.561Z"
   },
   {
    "duration": 22,
    "start_time": "2023-12-16T10:29:13.598Z"
   },
   {
    "duration": 218,
    "start_time": "2023-12-16T10:29:13.621Z"
   },
   {
    "duration": 23,
    "start_time": "2023-12-16T10:29:13.840Z"
   },
   {
    "duration": 18,
    "start_time": "2023-12-16T10:29:13.864Z"
   },
   {
    "duration": 16,
    "start_time": "2023-12-16T10:29:13.884Z"
   },
   {
    "duration": 14,
    "start_time": "2023-12-16T10:29:13.901Z"
   },
   {
    "duration": 91,
    "start_time": "2023-12-16T10:29:13.916Z"
   },
   {
    "duration": 5,
    "start_time": "2023-12-16T10:29:14.008Z"
   },
   {
    "duration": 7,
    "start_time": "2023-12-16T10:29:14.015Z"
   },
   {
    "duration": 16,
    "start_time": "2023-12-16T10:29:14.023Z"
   },
   {
    "duration": 10,
    "start_time": "2023-12-16T10:29:14.041Z"
   },
   {
    "duration": 60,
    "start_time": "2023-12-16T10:29:14.052Z"
   },
   {
    "duration": 6,
    "start_time": "2023-12-16T10:29:14.113Z"
   },
   {
    "duration": 20,
    "start_time": "2023-12-16T10:29:14.120Z"
   },
   {
    "duration": 6,
    "start_time": "2023-12-16T10:29:14.141Z"
   },
   {
    "duration": 59,
    "start_time": "2023-12-16T10:29:14.148Z"
   },
   {
    "duration": 8,
    "start_time": "2023-12-16T10:29:14.211Z"
   },
   {
    "duration": 521,
    "start_time": "2023-12-16T10:29:14.220Z"
   },
   {
    "duration": 532,
    "start_time": "2023-12-16T10:29:14.742Z"
   },
   {
    "duration": 414,
    "start_time": "2023-12-16T10:29:15.281Z"
   },
   {
    "duration": 146,
    "start_time": "2023-12-16T10:29:15.696Z"
   },
   {
    "duration": 129,
    "start_time": "2023-12-16T10:29:15.843Z"
   },
   {
    "duration": 120,
    "start_time": "2023-12-16T10:29:15.974Z"
   },
   {
    "duration": 46,
    "start_time": "2023-12-16T10:29:16.095Z"
   },
   {
    "duration": 22,
    "start_time": "2023-12-16T10:29:16.142Z"
   },
   {
    "duration": 9874,
    "start_time": "2023-12-16T10:29:16.166Z"
   },
   {
    "duration": 453,
    "start_time": "2023-12-16T10:29:26.041Z"
   },
   {
    "duration": 372,
    "start_time": "2023-12-16T10:29:26.495Z"
   },
   {
    "duration": 4,
    "start_time": "2023-12-16T10:29:26.868Z"
   },
   {
    "duration": 16909,
    "start_time": "2023-12-16T10:29:26.873Z"
   },
   {
    "duration": 16,
    "start_time": "2023-12-16T10:29:43.784Z"
   },
   {
    "duration": 192,
    "start_time": "2023-12-16T10:29:43.801Z"
   },
   {
    "duration": 24,
    "start_time": "2023-12-16T10:29:43.995Z"
   },
   {
    "duration": 3,
    "start_time": "2023-12-16T10:29:44.021Z"
   },
   {
    "duration": 8373,
    "start_time": "2023-12-16T10:29:44.025Z"
   },
   {
    "duration": 3,
    "start_time": "2023-12-16T10:29:52.399Z"
   },
   {
    "duration": 15879,
    "start_time": "2023-12-16T10:29:52.403Z"
   },
   {
    "duration": 700,
    "start_time": "2023-12-16T10:30:08.284Z"
   },
   {
    "duration": 32909,
    "start_time": "2023-12-16T10:30:08.986Z"
   },
   {
    "duration": 13124,
    "start_time": "2023-12-16T10:30:41.897Z"
   },
   {
    "duration": 4295,
    "start_time": "2023-12-16T10:30:55.022Z"
   },
   {
    "duration": 188,
    "start_time": "2023-12-16T10:30:59.320Z"
   },
   {
    "duration": 43,
    "start_time": "2023-12-16T14:07:21.244Z"
   },
   {
    "duration": 1439,
    "start_time": "2023-12-16T14:07:25.451Z"
   },
   {
    "duration": 1033,
    "start_time": "2023-12-16T14:07:26.892Z"
   },
   {
    "duration": 13,
    "start_time": "2023-12-16T14:07:27.926Z"
   },
   {
    "duration": 68,
    "start_time": "2023-12-16T14:07:27.941Z"
   },
   {
    "duration": 3,
    "start_time": "2023-12-16T14:07:28.010Z"
   },
   {
    "duration": 9,
    "start_time": "2023-12-16T14:07:28.015Z"
   },
   {
    "duration": 18,
    "start_time": "2023-12-16T14:07:28.025Z"
   },
   {
    "duration": 241,
    "start_time": "2023-12-16T14:07:28.044Z"
   },
   {
    "duration": 243,
    "start_time": "2023-12-16T14:07:28.286Z"
   },
   {
    "duration": 273,
    "start_time": "2023-12-16T14:07:28.531Z"
   },
   {
    "duration": 248,
    "start_time": "2023-12-16T14:07:28.805Z"
   },
   {
    "duration": 33,
    "start_time": "2023-12-16T14:07:29.055Z"
   },
   {
    "duration": 10,
    "start_time": "2023-12-16T14:07:29.089Z"
   },
   {
    "duration": 27,
    "start_time": "2023-12-16T14:07:29.102Z"
   },
   {
    "duration": 39,
    "start_time": "2023-12-16T14:07:29.130Z"
   },
   {
    "duration": 16,
    "start_time": "2023-12-16T14:07:29.170Z"
   },
   {
    "duration": 17,
    "start_time": "2023-12-16T14:07:29.187Z"
   },
   {
    "duration": 21,
    "start_time": "2023-12-16T14:07:29.205Z"
   },
   {
    "duration": 15,
    "start_time": "2023-12-16T14:07:29.227Z"
   },
   {
    "duration": 25,
    "start_time": "2023-12-16T14:07:29.243Z"
   },
   {
    "duration": 15,
    "start_time": "2023-12-16T14:07:29.269Z"
   },
   {
    "duration": 20,
    "start_time": "2023-12-16T14:07:29.286Z"
   },
   {
    "duration": 35,
    "start_time": "2023-12-16T14:07:29.307Z"
   },
   {
    "duration": 23,
    "start_time": "2023-12-16T14:07:29.343Z"
   },
   {
    "duration": 31,
    "start_time": "2023-12-16T14:07:29.367Z"
   },
   {
    "duration": 185,
    "start_time": "2023-12-16T14:07:29.400Z"
   },
   {
    "duration": 18,
    "start_time": "2023-12-16T14:07:29.586Z"
   },
   {
    "duration": 11,
    "start_time": "2023-12-16T14:07:29.605Z"
   },
   {
    "duration": 15,
    "start_time": "2023-12-16T14:07:29.617Z"
   },
   {
    "duration": 26,
    "start_time": "2023-12-16T14:07:29.633Z"
   },
   {
    "duration": 69,
    "start_time": "2023-12-16T14:07:29.661Z"
   },
   {
    "duration": 5,
    "start_time": "2023-12-16T14:07:29.731Z"
   },
   {
    "duration": 21,
    "start_time": "2023-12-16T14:07:29.737Z"
   },
   {
    "duration": 21,
    "start_time": "2023-12-16T14:07:29.760Z"
   },
   {
    "duration": 8,
    "start_time": "2023-12-16T14:07:29.782Z"
   },
   {
    "duration": 44,
    "start_time": "2023-12-16T14:07:29.791Z"
   },
   {
    "duration": 5,
    "start_time": "2023-12-16T14:07:29.837Z"
   },
   {
    "duration": 28,
    "start_time": "2023-12-16T14:07:29.843Z"
   },
   {
    "duration": 4,
    "start_time": "2023-12-16T14:07:29.872Z"
   },
   {
    "duration": 27,
    "start_time": "2023-12-16T14:07:29.877Z"
   },
   {
    "duration": 9,
    "start_time": "2023-12-16T14:07:29.908Z"
   },
   {
    "duration": 481,
    "start_time": "2023-12-16T14:07:29.918Z"
   },
   {
    "duration": 480,
    "start_time": "2023-12-16T14:07:30.400Z"
   },
   {
    "duration": 386,
    "start_time": "2023-12-16T14:07:30.881Z"
   },
   {
    "duration": 111,
    "start_time": "2023-12-16T14:07:31.269Z"
   },
   {
    "duration": 119,
    "start_time": "2023-12-16T14:07:31.381Z"
   },
   {
    "duration": 110,
    "start_time": "2023-12-16T14:07:31.501Z"
   },
   {
    "duration": 43,
    "start_time": "2023-12-16T14:07:31.615Z"
   },
   {
    "duration": 28,
    "start_time": "2023-12-16T14:07:31.659Z"
   },
   {
    "duration": 9117,
    "start_time": "2023-12-16T14:07:31.688Z"
   },
   {
    "duration": 394,
    "start_time": "2023-12-16T14:07:40.807Z"
   },
   {
    "duration": 326,
    "start_time": "2023-12-16T14:07:41.203Z"
   },
   {
    "duration": 2,
    "start_time": "2023-12-16T14:07:41.531Z"
   },
   {
    "duration": 12683,
    "start_time": "2023-12-16T14:07:41.535Z"
   },
   {
    "duration": 99,
    "start_time": "2023-12-16T14:07:54.219Z"
   },
   {
    "duration": 125,
    "start_time": "2023-12-16T14:07:54.319Z"
   },
   {
    "duration": 18,
    "start_time": "2023-12-16T14:07:54.445Z"
   },
   {
    "duration": 2,
    "start_time": "2023-12-16T14:07:54.465Z"
   },
   {
    "duration": 6248,
    "start_time": "2023-12-16T14:07:54.468Z"
   },
   {
    "duration": 3,
    "start_time": "2023-12-16T14:08:00.717Z"
   },
   {
    "duration": 11704,
    "start_time": "2023-12-16T14:08:00.721Z"
   },
   {
    "duration": 500,
    "start_time": "2023-12-16T14:08:12.516Z"
   },
   {
    "duration": 29509,
    "start_time": "2023-12-16T14:08:13.017Z"
   },
   {
    "duration": 10228,
    "start_time": "2023-12-16T14:08:42.527Z"
   },
   {
    "duration": 3465,
    "start_time": "2023-12-16T14:08:52.756Z"
   },
   {
    "duration": 1321,
    "start_time": "2023-12-16T14:10:22.879Z"
   },
   {
    "duration": 807,
    "start_time": "2023-12-16T14:10:24.202Z"
   },
   {
    "duration": 15,
    "start_time": "2023-12-16T14:10:25.010Z"
   },
   {
    "duration": 76,
    "start_time": "2023-12-16T14:10:25.026Z"
   },
   {
    "duration": 10,
    "start_time": "2023-12-16T14:10:25.105Z"
   },
   {
    "duration": 12,
    "start_time": "2023-12-16T14:10:25.116Z"
   },
   {
    "duration": 23,
    "start_time": "2023-12-16T14:10:25.129Z"
   },
   {
    "duration": 262,
    "start_time": "2023-12-16T14:10:25.153Z"
   },
   {
    "duration": 240,
    "start_time": "2023-12-16T14:10:25.416Z"
   },
   {
    "duration": 273,
    "start_time": "2023-12-16T14:10:25.658Z"
   },
   {
    "duration": 232,
    "start_time": "2023-12-16T14:10:25.933Z"
   },
   {
    "duration": 30,
    "start_time": "2023-12-16T14:10:26.167Z"
   },
   {
    "duration": 21,
    "start_time": "2023-12-16T14:10:26.199Z"
   },
   {
    "duration": 17,
    "start_time": "2023-12-16T14:10:26.224Z"
   },
   {
    "duration": 21,
    "start_time": "2023-12-16T14:10:26.243Z"
   },
   {
    "duration": 21,
    "start_time": "2023-12-16T14:10:26.265Z"
   },
   {
    "duration": 8,
    "start_time": "2023-12-16T14:10:26.287Z"
   },
   {
    "duration": 30,
    "start_time": "2023-12-16T14:10:26.296Z"
   },
   {
    "duration": 23,
    "start_time": "2023-12-16T14:10:26.327Z"
   },
   {
    "duration": 22,
    "start_time": "2023-12-16T14:10:26.351Z"
   },
   {
    "duration": 22,
    "start_time": "2023-12-16T14:10:26.374Z"
   },
   {
    "duration": 29,
    "start_time": "2023-12-16T14:10:26.397Z"
   },
   {
    "duration": 39,
    "start_time": "2023-12-16T14:10:26.427Z"
   },
   {
    "duration": 27,
    "start_time": "2023-12-16T14:10:26.467Z"
   },
   {
    "duration": 20,
    "start_time": "2023-12-16T14:10:26.495Z"
   },
   {
    "duration": 179,
    "start_time": "2023-12-16T14:10:26.517Z"
   },
   {
    "duration": 21,
    "start_time": "2023-12-16T14:10:26.698Z"
   },
   {
    "duration": 4,
    "start_time": "2023-12-16T14:10:26.720Z"
   },
   {
    "duration": 16,
    "start_time": "2023-12-16T14:10:26.725Z"
   },
   {
    "duration": 17,
    "start_time": "2023-12-16T14:10:26.742Z"
   },
   {
    "duration": 90,
    "start_time": "2023-12-16T14:10:26.760Z"
   },
   {
    "duration": 5,
    "start_time": "2023-12-16T14:10:26.851Z"
   },
   {
    "duration": 12,
    "start_time": "2023-12-16T14:10:26.857Z"
   },
   {
    "duration": 14,
    "start_time": "2023-12-16T14:10:26.870Z"
   },
   {
    "duration": 8,
    "start_time": "2023-12-16T14:10:26.885Z"
   },
   {
    "duration": 42,
    "start_time": "2023-12-16T14:10:26.894Z"
   },
   {
    "duration": 5,
    "start_time": "2023-12-16T14:10:26.937Z"
   },
   {
    "duration": 17,
    "start_time": "2023-12-16T14:10:26.943Z"
   },
   {
    "duration": 4,
    "start_time": "2023-12-16T14:10:26.961Z"
   },
   {
    "duration": 41,
    "start_time": "2023-12-16T14:10:26.966Z"
   },
   {
    "duration": 14,
    "start_time": "2023-12-16T14:10:27.011Z"
   },
   {
    "duration": 444,
    "start_time": "2023-12-16T14:10:27.026Z"
   },
   {
    "duration": 459,
    "start_time": "2023-12-16T14:10:27.471Z"
   },
   {
    "duration": 353,
    "start_time": "2023-12-16T14:10:27.932Z"
   },
   {
    "duration": 120,
    "start_time": "2023-12-16T14:10:28.287Z"
   },
   {
    "duration": 122,
    "start_time": "2023-12-16T14:10:28.408Z"
   },
   {
    "duration": 111,
    "start_time": "2023-12-16T14:10:28.531Z"
   },
   {
    "duration": 46,
    "start_time": "2023-12-16T14:10:28.644Z"
   },
   {
    "duration": 35,
    "start_time": "2023-12-16T14:10:28.691Z"
   },
   {
    "duration": 9309,
    "start_time": "2023-12-16T14:10:28.728Z"
   },
   {
    "duration": 355,
    "start_time": "2023-12-16T14:10:38.039Z"
   },
   {
    "duration": 272,
    "start_time": "2023-12-16T14:10:38.396Z"
   },
   {
    "duration": 3,
    "start_time": "2023-12-16T14:10:38.670Z"
   },
   {
    "duration": 12342,
    "start_time": "2023-12-16T14:10:38.674Z"
   },
   {
    "duration": 97,
    "start_time": "2023-12-16T14:10:51.018Z"
   },
   {
    "duration": 110,
    "start_time": "2023-12-16T14:10:51.117Z"
   },
   {
    "duration": 18,
    "start_time": "2023-12-16T14:10:51.229Z"
   },
   {
    "duration": 7,
    "start_time": "2023-12-16T14:10:51.248Z"
   },
   {
    "duration": 6959,
    "start_time": "2023-12-16T14:10:51.256Z"
   },
   {
    "duration": 2,
    "start_time": "2023-12-16T14:10:58.217Z"
   },
   {
    "duration": 12302,
    "start_time": "2023-12-16T14:10:58.220Z"
   },
   {
    "duration": 591,
    "start_time": "2023-12-16T14:11:10.524Z"
   },
   {
    "duration": 31503,
    "start_time": "2023-12-16T14:11:11.119Z"
   },
   {
    "duration": 10392,
    "start_time": "2023-12-16T14:11:42.624Z"
   },
   {
    "duration": 3522,
    "start_time": "2023-12-16T14:11:53.018Z"
   },
   {
    "duration": 30621,
    "start_time": "2023-12-16T14:13:48.900Z"
   },
   {
    "duration": 3,
    "start_time": "2023-12-16T14:18:03.007Z"
   },
   {
    "duration": 208,
    "start_time": "2023-12-16T14:23:41.046Z"
   },
   {
    "duration": 3,
    "start_time": "2023-12-16T14:23:41.781Z"
   },
   {
    "duration": 99,
    "start_time": "2023-12-16T14:23:42.353Z"
   },
   {
    "duration": 3,
    "start_time": "2023-12-16T14:23:49.455Z"
   },
   {
    "duration": 5749,
    "start_time": "2023-12-16T14:23:49.953Z"
   },
   {
    "duration": 5672,
    "start_time": "2023-12-16T14:24:35.345Z"
   },
   {
    "duration": 109,
    "start_time": "2023-12-16T14:24:46.120Z"
   },
   {
    "duration": 4,
    "start_time": "2023-12-16T14:35:52.518Z"
   },
   {
    "duration": 4,
    "start_time": "2023-12-16T14:35:59.673Z"
   },
   {
    "duration": 15,
    "start_time": "2023-12-16T14:36:16.902Z"
   },
   {
    "duration": 13,
    "start_time": "2023-12-16T14:36:37.674Z"
   },
   {
    "duration": 2,
    "start_time": "2023-12-16T14:37:20.187Z"
   },
   {
    "duration": 2,
    "start_time": "2023-12-16T14:37:33.104Z"
   },
   {
    "duration": 2,
    "start_time": "2023-12-16T14:37:33.569Z"
   },
   {
    "duration": 13,
    "start_time": "2023-12-16T14:38:13.889Z"
   },
   {
    "duration": 17,
    "start_time": "2023-12-16T14:38:26.836Z"
   },
   {
    "duration": 1213,
    "start_time": "2023-12-16T14:38:43.297Z"
   },
   {
    "duration": 820,
    "start_time": "2023-12-16T14:38:44.511Z"
   },
   {
    "duration": 13,
    "start_time": "2023-12-16T14:38:45.332Z"
   },
   {
    "duration": 76,
    "start_time": "2023-12-16T14:38:45.347Z"
   },
   {
    "duration": 3,
    "start_time": "2023-12-16T14:38:45.424Z"
   },
   {
    "duration": 10,
    "start_time": "2023-12-16T14:38:45.428Z"
   },
   {
    "duration": 13,
    "start_time": "2023-12-16T14:38:45.439Z"
   },
   {
    "duration": 238,
    "start_time": "2023-12-16T14:38:45.453Z"
   },
   {
    "duration": 244,
    "start_time": "2023-12-16T14:38:45.692Z"
   },
   {
    "duration": 271,
    "start_time": "2023-12-16T14:38:45.938Z"
   },
   {
    "duration": 237,
    "start_time": "2023-12-16T14:38:46.210Z"
   },
   {
    "duration": 26,
    "start_time": "2023-12-16T14:38:46.449Z"
   },
   {
    "duration": 11,
    "start_time": "2023-12-16T14:38:46.476Z"
   },
   {
    "duration": 29,
    "start_time": "2023-12-16T14:38:46.488Z"
   },
   {
    "duration": 17,
    "start_time": "2023-12-16T14:38:46.518Z"
   },
   {
    "duration": 22,
    "start_time": "2023-12-16T14:38:46.536Z"
   },
   {
    "duration": 21,
    "start_time": "2023-12-16T14:38:46.559Z"
   },
   {
    "duration": 35,
    "start_time": "2023-12-16T14:38:46.581Z"
   },
   {
    "duration": 27,
    "start_time": "2023-12-16T14:38:46.617Z"
   },
   {
    "duration": 27,
    "start_time": "2023-12-16T14:38:46.646Z"
   },
   {
    "duration": 24,
    "start_time": "2023-12-16T14:38:46.674Z"
   },
   {
    "duration": 19,
    "start_time": "2023-12-16T14:38:46.699Z"
   },
   {
    "duration": 28,
    "start_time": "2023-12-16T14:38:46.719Z"
   },
   {
    "duration": 29,
    "start_time": "2023-12-16T14:38:46.749Z"
   },
   {
    "duration": 20,
    "start_time": "2023-12-16T14:38:46.780Z"
   },
   {
    "duration": 185,
    "start_time": "2023-12-16T14:38:46.801Z"
   },
   {
    "duration": 19,
    "start_time": "2023-12-16T14:38:46.987Z"
   },
   {
    "duration": 6,
    "start_time": "2023-12-16T14:38:47.017Z"
   },
   {
    "duration": 19,
    "start_time": "2023-12-16T14:38:47.025Z"
   },
   {
    "duration": 22,
    "start_time": "2023-12-16T14:38:47.045Z"
   },
   {
    "duration": 90,
    "start_time": "2023-12-16T14:38:47.068Z"
   },
   {
    "duration": 6,
    "start_time": "2023-12-16T14:38:47.159Z"
   },
   {
    "duration": 13,
    "start_time": "2023-12-16T14:38:47.166Z"
   },
   {
    "duration": 14,
    "start_time": "2023-12-16T14:38:47.180Z"
   },
   {
    "duration": 22,
    "start_time": "2023-12-16T14:38:47.196Z"
   },
   {
    "duration": 26,
    "start_time": "2023-12-16T14:38:47.219Z"
   },
   {
    "duration": 5,
    "start_time": "2023-12-16T14:38:47.246Z"
   },
   {
    "duration": 42,
    "start_time": "2023-12-16T14:38:47.252Z"
   },
   {
    "duration": 4,
    "start_time": "2023-12-16T14:38:47.295Z"
   },
   {
    "duration": 44,
    "start_time": "2023-12-16T14:38:47.300Z"
   },
   {
    "duration": 8,
    "start_time": "2023-12-16T14:38:47.345Z"
   },
   {
    "duration": 441,
    "start_time": "2023-12-16T14:38:47.354Z"
   },
   {
    "duration": 491,
    "start_time": "2023-12-16T14:38:47.796Z"
   },
   {
    "duration": 369,
    "start_time": "2023-12-16T14:38:48.289Z"
   },
   {
    "duration": 117,
    "start_time": "2023-12-16T14:38:48.659Z"
   },
   {
    "duration": 119,
    "start_time": "2023-12-16T14:38:48.777Z"
   },
   {
    "duration": 117,
    "start_time": "2023-12-16T14:38:48.898Z"
   },
   {
    "duration": 53,
    "start_time": "2023-12-16T14:38:49.017Z"
   },
   {
    "duration": 21,
    "start_time": "2023-12-16T14:38:49.072Z"
   },
   {
    "duration": 9944,
    "start_time": "2023-12-16T14:38:49.094Z"
   },
   {
    "duration": 3,
    "start_time": "2023-12-16T14:38:59.039Z"
   },
   {
    "duration": 102,
    "start_time": "2023-12-16T14:38:59.043Z"
   },
   {
    "duration": 0,
    "start_time": "2023-12-16T14:38:59.146Z"
   },
   {
    "duration": 0,
    "start_time": "2023-12-16T14:38:59.147Z"
   },
   {
    "duration": 0,
    "start_time": "2023-12-16T14:38:59.148Z"
   },
   {
    "duration": 0,
    "start_time": "2023-12-16T14:38:59.149Z"
   },
   {
    "duration": 0,
    "start_time": "2023-12-16T14:38:59.150Z"
   },
   {
    "duration": 0,
    "start_time": "2023-12-16T14:38:59.151Z"
   },
   {
    "duration": 0,
    "start_time": "2023-12-16T14:38:59.152Z"
   },
   {
    "duration": 0,
    "start_time": "2023-12-16T14:38:59.153Z"
   },
   {
    "duration": 0,
    "start_time": "2023-12-16T14:38:59.153Z"
   },
   {
    "duration": 0,
    "start_time": "2023-12-16T14:38:59.154Z"
   },
   {
    "duration": 0,
    "start_time": "2023-12-16T14:38:59.155Z"
   },
   {
    "duration": 0,
    "start_time": "2023-12-16T14:38:59.155Z"
   },
   {
    "duration": 0,
    "start_time": "2023-12-16T14:38:59.156Z"
   },
   {
    "duration": 0,
    "start_time": "2023-12-16T14:38:59.157Z"
   },
   {
    "duration": 0,
    "start_time": "2023-12-16T14:38:59.158Z"
   },
   {
    "duration": 0,
    "start_time": "2023-12-16T14:38:59.159Z"
   },
   {
    "duration": 0,
    "start_time": "2023-12-16T14:38:59.160Z"
   },
   {
    "duration": 0,
    "start_time": "2023-12-16T14:38:59.160Z"
   },
   {
    "duration": 0,
    "start_time": "2023-12-16T14:38:59.162Z"
   },
   {
    "duration": 50,
    "start_time": "2023-12-16T14:39:20.550Z"
   },
   {
    "duration": 3,
    "start_time": "2023-12-16T14:39:21.561Z"
   },
   {
    "duration": 3,
    "start_time": "2023-12-16T14:39:27.816Z"
   },
   {
    "duration": 7,
    "start_time": "2023-12-16T14:39:28.402Z"
   },
   {
    "duration": 13,
    "start_time": "2023-12-16T14:39:31.141Z"
   },
   {
    "duration": 20336,
    "start_time": "2023-12-16T14:39:40.983Z"
   },
   {
    "duration": 41,
    "start_time": "2023-12-16T14:40:21.510Z"
   },
   {
    "duration": 3,
    "start_time": "2023-12-16T14:41:44.368Z"
   },
   {
    "duration": 16711,
    "start_time": "2023-12-16T14:41:56.510Z"
   },
   {
    "duration": 4,
    "start_time": "2023-12-16T14:43:00.271Z"
   },
   {
    "duration": 3,
    "start_time": "2023-12-16T14:43:11.133Z"
   },
   {
    "duration": 4,
    "start_time": "2023-12-16T14:43:19.072Z"
   },
   {
    "duration": 3,
    "start_time": "2023-12-16T14:43:27.388Z"
   },
   {
    "duration": 3,
    "start_time": "2023-12-16T14:43:37.432Z"
   },
   {
    "duration": 2,
    "start_time": "2023-12-16T14:47:11.628Z"
   },
   {
    "duration": 7,
    "start_time": "2023-12-16T14:47:14.862Z"
   },
   {
    "duration": 2,
    "start_time": "2023-12-16T14:47:38.020Z"
   },
   {
    "duration": 12,
    "start_time": "2023-12-16T14:47:39.911Z"
   },
   {
    "duration": 12,
    "start_time": "2023-12-16T14:47:48.337Z"
   },
   {
    "duration": 3,
    "start_time": "2023-12-16T14:47:51.120Z"
   },
   {
    "duration": 14,
    "start_time": "2023-12-16T14:48:06.360Z"
   },
   {
    "duration": 8,
    "start_time": "2023-12-16T14:48:07.324Z"
   },
   {
    "duration": 5,
    "start_time": "2023-12-16T14:50:08.303Z"
   },
   {
    "duration": 8,
    "start_time": "2023-12-16T14:50:11.413Z"
   },
   {
    "duration": 45,
    "start_time": "2023-12-16T14:51:28.591Z"
   },
   {
    "duration": 132,
    "start_time": "2023-12-16T14:51:50.100Z"
   },
   {
    "duration": 33,
    "start_time": "2023-12-16T14:51:53.353Z"
   },
   {
    "duration": 958,
    "start_time": "2023-12-16T14:52:52.897Z"
   },
   {
    "duration": 100,
    "start_time": "2023-12-16T14:52:59.472Z"
   },
   {
    "duration": 99,
    "start_time": "2023-12-16T14:53:27.971Z"
   },
   {
    "duration": 1223,
    "start_time": "2023-12-16T14:53:37.906Z"
   },
   {
    "duration": 833,
    "start_time": "2023-12-16T14:53:39.131Z"
   },
   {
    "duration": 13,
    "start_time": "2023-12-16T14:53:39.966Z"
   },
   {
    "duration": 75,
    "start_time": "2023-12-16T14:53:39.980Z"
   },
   {
    "duration": 3,
    "start_time": "2023-12-16T14:53:40.057Z"
   },
   {
    "duration": 14,
    "start_time": "2023-12-16T14:53:40.061Z"
   },
   {
    "duration": 22,
    "start_time": "2023-12-16T14:53:40.076Z"
   },
   {
    "duration": 246,
    "start_time": "2023-12-16T14:53:40.099Z"
   },
   {
    "duration": 273,
    "start_time": "2023-12-16T14:53:40.347Z"
   },
   {
    "duration": 267,
    "start_time": "2023-12-16T14:53:40.621Z"
   },
   {
    "duration": 231,
    "start_time": "2023-12-16T14:53:40.890Z"
   },
   {
    "duration": 27,
    "start_time": "2023-12-16T14:53:41.122Z"
   },
   {
    "duration": 13,
    "start_time": "2023-12-16T14:53:41.150Z"
   },
   {
    "duration": 15,
    "start_time": "2023-12-16T14:53:41.165Z"
   },
   {
    "duration": 18,
    "start_time": "2023-12-16T14:53:41.182Z"
   },
   {
    "duration": 17,
    "start_time": "2023-12-16T14:53:41.215Z"
   },
   {
    "duration": 7,
    "start_time": "2023-12-16T14:53:41.233Z"
   },
   {
    "duration": 20,
    "start_time": "2023-12-16T14:53:41.241Z"
   },
   {
    "duration": 14,
    "start_time": "2023-12-16T14:53:41.262Z"
   },
   {
    "duration": 38,
    "start_time": "2023-12-16T14:53:41.277Z"
   },
   {
    "duration": 20,
    "start_time": "2023-12-16T14:53:41.316Z"
   },
   {
    "duration": 18,
    "start_time": "2023-12-16T14:53:41.337Z"
   },
   {
    "duration": 30,
    "start_time": "2023-12-16T14:53:41.356Z"
   },
   {
    "duration": 34,
    "start_time": "2023-12-16T14:53:41.387Z"
   },
   {
    "duration": 22,
    "start_time": "2023-12-16T14:53:41.422Z"
   },
   {
    "duration": 188,
    "start_time": "2023-12-16T14:53:41.445Z"
   },
   {
    "duration": 18,
    "start_time": "2023-12-16T14:53:41.634Z"
   },
   {
    "duration": 5,
    "start_time": "2023-12-16T14:53:41.653Z"
   },
   {
    "duration": 14,
    "start_time": "2023-12-16T14:53:41.659Z"
   },
   {
    "duration": 17,
    "start_time": "2023-12-16T14:53:41.674Z"
   },
   {
    "duration": 87,
    "start_time": "2023-12-16T14:53:41.692Z"
   },
   {
    "duration": 5,
    "start_time": "2023-12-16T14:53:41.780Z"
   },
   {
    "duration": 7,
    "start_time": "2023-12-16T14:53:41.786Z"
   },
   {
    "duration": 30,
    "start_time": "2023-12-16T14:53:41.794Z"
   },
   {
    "duration": 8,
    "start_time": "2023-12-16T14:53:41.825Z"
   },
   {
    "duration": 27,
    "start_time": "2023-12-16T14:53:41.834Z"
   },
   {
    "duration": 5,
    "start_time": "2023-12-16T14:53:41.862Z"
   },
   {
    "duration": 17,
    "start_time": "2023-12-16T14:53:41.868Z"
   },
   {
    "duration": 3,
    "start_time": "2023-12-16T14:53:41.887Z"
   },
   {
    "duration": 46,
    "start_time": "2023-12-16T14:53:41.891Z"
   },
   {
    "duration": 8,
    "start_time": "2023-12-16T14:53:41.941Z"
   },
   {
    "duration": 452,
    "start_time": "2023-12-16T14:53:41.950Z"
   },
   {
    "duration": 463,
    "start_time": "2023-12-16T14:53:42.404Z"
   },
   {
    "duration": 356,
    "start_time": "2023-12-16T14:53:42.869Z"
   },
   {
    "duration": 119,
    "start_time": "2023-12-16T14:53:43.226Z"
   },
   {
    "duration": 121,
    "start_time": "2023-12-16T14:53:43.347Z"
   },
   {
    "duration": 119,
    "start_time": "2023-12-16T14:53:43.470Z"
   },
   {
    "duration": 51,
    "start_time": "2023-12-16T14:53:43.590Z"
   },
   {
    "duration": 22,
    "start_time": "2023-12-16T14:53:43.642Z"
   },
   {
    "duration": 1,
    "start_time": "2023-12-16T14:53:43.665Z"
   },
   {
    "duration": 64,
    "start_time": "2023-12-16T14:53:43.668Z"
   },
   {
    "duration": 2,
    "start_time": "2023-12-16T14:53:43.733Z"
   },
   {
    "duration": 35,
    "start_time": "2023-12-16T14:53:43.736Z"
   },
   {
    "duration": 16,
    "start_time": "2023-12-16T14:53:43.773Z"
   },
   {
    "duration": 22555,
    "start_time": "2023-12-16T14:53:43.790Z"
   },
   {
    "duration": 61,
    "start_time": "2023-12-16T14:54:06.346Z"
   },
   {
    "duration": 3,
    "start_time": "2023-12-16T14:54:06.415Z"
   },
   {
    "duration": 13200,
    "start_time": "2023-12-16T14:54:06.420Z"
   },
   {
    "duration": 95,
    "start_time": "2023-12-16T14:54:19.622Z"
   },
   {
    "duration": 190,
    "start_time": "2023-12-16T14:54:19.718Z"
   },
   {
    "duration": 25,
    "start_time": "2023-12-16T14:54:19.909Z"
   },
   {
    "duration": 3,
    "start_time": "2023-12-16T14:54:19.935Z"
   },
   {
    "duration": 6505,
    "start_time": "2023-12-16T14:54:19.939Z"
   },
   {
    "duration": 3,
    "start_time": "2023-12-16T14:54:26.516Z"
   },
   {
    "duration": 12896,
    "start_time": "2023-12-16T14:54:26.520Z"
   },
   {
    "duration": 298,
    "start_time": "2023-12-16T14:54:39.418Z"
   },
   {
    "duration": 40703,
    "start_time": "2023-12-16T14:54:39.718Z"
   },
   {
    "duration": 11011,
    "start_time": "2023-12-16T14:55:20.423Z"
   },
   {
    "duration": 3812,
    "start_time": "2023-12-16T14:55:31.436Z"
   },
   {
    "duration": 30,
    "start_time": "2023-12-16T14:55:35.314Z"
   },
   {
    "duration": 18,
    "start_time": "2023-12-16T14:56:26.022Z"
   },
   {
    "duration": 5614,
    "start_time": "2023-12-16T14:59:36.006Z"
   },
   {
    "duration": 13897,
    "start_time": "2023-12-16T15:00:23.225Z"
   },
   {
    "duration": 5469,
    "start_time": "2023-12-16T15:03:08.432Z"
   },
   {
    "duration": 5603,
    "start_time": "2023-12-16T15:03:23.925Z"
   },
   {
    "duration": 1187,
    "start_time": "2023-12-16T17:04:10.552Z"
   },
   {
    "duration": 833,
    "start_time": "2023-12-16T17:04:11.741Z"
   },
   {
    "duration": 14,
    "start_time": "2023-12-16T17:04:12.576Z"
   },
   {
    "duration": 89,
    "start_time": "2023-12-16T17:04:12.591Z"
   },
   {
    "duration": 2,
    "start_time": "2023-12-16T17:04:12.682Z"
   },
   {
    "duration": 4,
    "start_time": "2023-12-16T17:04:12.686Z"
   },
   {
    "duration": 12,
    "start_time": "2023-12-16T17:04:12.691Z"
   },
   {
    "duration": 254,
    "start_time": "2023-12-16T17:04:12.704Z"
   },
   {
    "duration": 248,
    "start_time": "2023-12-16T17:04:12.959Z"
   },
   {
    "duration": 275,
    "start_time": "2023-12-16T17:04:13.208Z"
   },
   {
    "duration": 243,
    "start_time": "2023-12-16T17:04:13.485Z"
   },
   {
    "duration": 27,
    "start_time": "2023-12-16T17:04:13.729Z"
   },
   {
    "duration": 16,
    "start_time": "2023-12-16T17:04:13.758Z"
   },
   {
    "duration": 15,
    "start_time": "2023-12-16T17:04:13.777Z"
   },
   {
    "duration": 29,
    "start_time": "2023-12-16T17:04:13.793Z"
   },
   {
    "duration": 19,
    "start_time": "2023-12-16T17:04:13.823Z"
   },
   {
    "duration": 8,
    "start_time": "2023-12-16T17:04:13.843Z"
   },
   {
    "duration": 21,
    "start_time": "2023-12-16T17:04:13.852Z"
   },
   {
    "duration": 28,
    "start_time": "2023-12-16T17:04:13.874Z"
   },
   {
    "duration": 23,
    "start_time": "2023-12-16T17:04:13.903Z"
   },
   {
    "duration": 15,
    "start_time": "2023-12-16T17:04:13.927Z"
   },
   {
    "duration": 22,
    "start_time": "2023-12-16T17:04:13.943Z"
   },
   {
    "duration": 28,
    "start_time": "2023-12-16T17:04:13.966Z"
   },
   {
    "duration": 35,
    "start_time": "2023-12-16T17:04:13.995Z"
   },
   {
    "duration": 19,
    "start_time": "2023-12-16T17:04:14.032Z"
   },
   {
    "duration": 182,
    "start_time": "2023-12-16T17:04:14.053Z"
   },
   {
    "duration": 19,
    "start_time": "2023-12-16T17:04:14.236Z"
   },
   {
    "duration": 7,
    "start_time": "2023-12-16T17:04:14.256Z"
   },
   {
    "duration": 19,
    "start_time": "2023-12-16T17:04:14.265Z"
   },
   {
    "duration": 29,
    "start_time": "2023-12-16T17:04:14.286Z"
   },
   {
    "duration": 70,
    "start_time": "2023-12-16T17:04:14.316Z"
   },
   {
    "duration": 5,
    "start_time": "2023-12-16T17:04:14.388Z"
   },
   {
    "duration": 24,
    "start_time": "2023-12-16T17:04:14.394Z"
   },
   {
    "duration": 15,
    "start_time": "2023-12-16T17:04:14.419Z"
   },
   {
    "duration": 8,
    "start_time": "2023-12-16T17:04:14.435Z"
   },
   {
    "duration": 26,
    "start_time": "2023-12-16T17:04:14.444Z"
   },
   {
    "duration": 6,
    "start_time": "2023-12-16T17:04:14.472Z"
   },
   {
    "duration": 43,
    "start_time": "2023-12-16T17:04:14.479Z"
   },
   {
    "duration": 4,
    "start_time": "2023-12-16T17:04:14.523Z"
   },
   {
    "duration": 34,
    "start_time": "2023-12-16T17:04:14.528Z"
   },
   {
    "duration": 8,
    "start_time": "2023-12-16T17:04:14.565Z"
   },
   {
    "duration": 444,
    "start_time": "2023-12-16T17:04:14.574Z"
   },
   {
    "duration": 487,
    "start_time": "2023-12-16T17:04:15.019Z"
   },
   {
    "duration": 420,
    "start_time": "2023-12-16T17:04:15.508Z"
   },
   {
    "duration": 119,
    "start_time": "2023-12-16T17:04:15.929Z"
   },
   {
    "duration": 124,
    "start_time": "2023-12-16T17:04:16.050Z"
   },
   {
    "duration": 119,
    "start_time": "2023-12-16T17:04:16.176Z"
   },
   {
    "duration": 52,
    "start_time": "2023-12-16T17:04:16.297Z"
   },
   {
    "duration": 24,
    "start_time": "2023-12-16T17:04:16.350Z"
   },
   {
    "duration": 9299,
    "start_time": "2023-12-16T17:04:16.375Z"
   },
   {
    "duration": 2,
    "start_time": "2023-12-16T17:04:25.675Z"
   },
   {
    "duration": 117,
    "start_time": "2023-12-16T17:04:25.679Z"
   },
   {
    "duration": 3,
    "start_time": "2023-12-16T17:04:25.797Z"
   },
   {
    "duration": 8,
    "start_time": "2023-12-16T17:04:25.801Z"
   },
   {
    "duration": 11,
    "start_time": "2023-12-16T17:04:25.810Z"
   },
   {
    "duration": 21622,
    "start_time": "2023-12-16T17:04:25.822Z"
   },
   {
    "duration": 70,
    "start_time": "2023-12-16T17:04:47.446Z"
   },
   {
    "duration": 33,
    "start_time": "2023-12-16T17:04:47.517Z"
   },
   {
    "duration": 3,
    "start_time": "2023-12-16T17:04:47.551Z"
   },
   {
    "duration": 12665,
    "start_time": "2023-12-16T17:04:47.556Z"
   },
   {
    "duration": 93,
    "start_time": "2023-12-16T17:05:00.223Z"
   },
   {
    "duration": 228,
    "start_time": "2023-12-16T17:05:00.317Z"
   },
   {
    "duration": 19,
    "start_time": "2023-12-16T17:05:00.546Z"
   },
   {
    "duration": 7,
    "start_time": "2023-12-16T17:05:00.567Z"
   },
   {
    "duration": 5341,
    "start_time": "2023-12-16T17:05:00.575Z"
   },
   {
    "duration": 3,
    "start_time": "2023-12-16T17:05:05.917Z"
   },
   {
    "duration": 11897,
    "start_time": "2023-12-16T17:05:05.921Z"
   },
   {
    "duration": 298,
    "start_time": "2023-12-16T17:05:17.819Z"
   },
   {
    "duration": 38794,
    "start_time": "2023-12-16T17:05:18.122Z"
   },
   {
    "duration": 10435,
    "start_time": "2023-12-16T17:05:56.917Z"
   },
   {
    "duration": 3579,
    "start_time": "2023-12-16T17:06:07.353Z"
   },
   {
    "duration": 42,
    "start_time": "2023-12-17T15:53:17.247Z"
   },
   {
    "duration": 1432,
    "start_time": "2023-12-17T15:53:22.314Z"
   },
   {
    "duration": 3035,
    "start_time": "2023-12-17T15:53:23.748Z"
   },
   {
    "duration": 15,
    "start_time": "2023-12-17T15:53:26.784Z"
   },
   {
    "duration": 109,
    "start_time": "2023-12-17T15:53:26.801Z"
   },
   {
    "duration": 3,
    "start_time": "2023-12-17T15:53:26.911Z"
   },
   {
    "duration": 15,
    "start_time": "2023-12-17T15:53:26.915Z"
   },
   {
    "duration": 15,
    "start_time": "2023-12-17T15:53:26.931Z"
   },
   {
    "duration": 278,
    "start_time": "2023-12-17T15:53:26.947Z"
   },
   {
    "duration": 280,
    "start_time": "2023-12-17T15:53:27.226Z"
   },
   {
    "duration": 308,
    "start_time": "2023-12-17T15:53:27.508Z"
   },
   {
    "duration": 275,
    "start_time": "2023-12-17T15:53:27.817Z"
   },
   {
    "duration": 30,
    "start_time": "2023-12-17T15:53:28.093Z"
   },
   {
    "duration": 38,
    "start_time": "2023-12-17T15:53:28.124Z"
   },
   {
    "duration": 27,
    "start_time": "2023-12-17T15:53:28.164Z"
   },
   {
    "duration": 29,
    "start_time": "2023-12-17T15:53:28.192Z"
   },
   {
    "duration": 19,
    "start_time": "2023-12-17T15:53:28.223Z"
   },
   {
    "duration": 8,
    "start_time": "2023-12-17T15:53:28.243Z"
   },
   {
    "duration": 24,
    "start_time": "2023-12-17T15:53:28.253Z"
   },
   {
    "duration": 25,
    "start_time": "2023-12-17T15:53:28.279Z"
   },
   {
    "duration": 18,
    "start_time": "2023-12-17T15:53:28.305Z"
   },
   {
    "duration": 19,
    "start_time": "2023-12-17T15:53:28.324Z"
   },
   {
    "duration": 39,
    "start_time": "2023-12-17T15:53:28.344Z"
   },
   {
    "duration": 48,
    "start_time": "2023-12-17T15:53:28.385Z"
   },
   {
    "duration": 23,
    "start_time": "2023-12-17T15:53:28.434Z"
   },
   {
    "duration": 22,
    "start_time": "2023-12-17T15:53:28.458Z"
   },
   {
    "duration": 214,
    "start_time": "2023-12-17T15:53:28.481Z"
   },
   {
    "duration": 19,
    "start_time": "2023-12-17T15:53:28.699Z"
   },
   {
    "duration": 5,
    "start_time": "2023-12-17T15:53:28.721Z"
   },
   {
    "duration": 27,
    "start_time": "2023-12-17T15:53:28.727Z"
   },
   {
    "duration": 21,
    "start_time": "2023-12-17T15:53:28.755Z"
   },
   {
    "duration": 95,
    "start_time": "2023-12-17T15:53:28.778Z"
   },
   {
    "duration": 6,
    "start_time": "2023-12-17T15:53:28.874Z"
   },
   {
    "duration": 18,
    "start_time": "2023-12-17T15:53:28.881Z"
   },
   {
    "duration": 15,
    "start_time": "2023-12-17T15:53:28.901Z"
   },
   {
    "duration": 9,
    "start_time": "2023-12-17T15:53:28.917Z"
   },
   {
    "duration": 37,
    "start_time": "2023-12-17T15:53:28.927Z"
   },
   {
    "duration": 6,
    "start_time": "2023-12-17T15:53:28.965Z"
   },
   {
    "duration": 38,
    "start_time": "2023-12-17T15:53:28.972Z"
   },
   {
    "duration": 5,
    "start_time": "2023-12-17T15:53:29.012Z"
   },
   {
    "duration": 41,
    "start_time": "2023-12-17T15:53:29.018Z"
   },
   {
    "duration": 9,
    "start_time": "2023-12-17T15:53:29.060Z"
   },
   {
    "duration": 547,
    "start_time": "2023-12-17T15:53:29.071Z"
   },
   {
    "duration": 660,
    "start_time": "2023-12-17T15:53:29.621Z"
   },
   {
    "duration": 419,
    "start_time": "2023-12-17T15:53:30.283Z"
   },
   {
    "duration": 128,
    "start_time": "2023-12-17T15:53:30.704Z"
   },
   {
    "duration": 126,
    "start_time": "2023-12-17T15:53:30.834Z"
   },
   {
    "duration": 120,
    "start_time": "2023-12-17T15:53:30.961Z"
   },
   {
    "duration": 54,
    "start_time": "2023-12-17T15:53:31.083Z"
   },
   {
    "duration": 22,
    "start_time": "2023-12-17T15:53:31.139Z"
   },
   {
    "duration": 9698,
    "start_time": "2023-12-17T15:53:31.163Z"
   },
   {
    "duration": 2,
    "start_time": "2023-12-17T15:53:40.863Z"
   },
   {
    "duration": 66,
    "start_time": "2023-12-17T15:53:40.866Z"
   },
   {
    "duration": 3,
    "start_time": "2023-12-17T15:53:40.933Z"
   },
   {
    "duration": 17,
    "start_time": "2023-12-17T15:53:40.937Z"
   },
   {
    "duration": 21,
    "start_time": "2023-12-17T15:53:40.955Z"
   },
   {
    "duration": 52440,
    "start_time": "2023-12-17T15:53:40.977Z"
   },
   {
    "duration": 90,
    "start_time": "2023-12-17T15:54:33.418Z"
   },
   {
    "duration": 40,
    "start_time": "2023-12-17T15:54:33.510Z"
   },
   {
    "duration": 4,
    "start_time": "2023-12-17T15:54:33.551Z"
   },
   {
    "duration": 16743,
    "start_time": "2023-12-17T15:54:33.556Z"
   },
   {
    "duration": 10,
    "start_time": "2023-12-17T15:54:50.301Z"
   },
   {
    "duration": 165,
    "start_time": "2023-12-17T15:54:50.313Z"
   },
   {
    "duration": 27,
    "start_time": "2023-12-17T15:54:50.479Z"
   },
   {
    "duration": 26,
    "start_time": "2023-12-17T15:54:50.507Z"
   },
   {
    "duration": 5488,
    "start_time": "2023-12-17T15:54:50.535Z"
   },
   {
    "duration": 3,
    "start_time": "2023-12-17T15:54:56.024Z"
   },
   {
    "duration": 15971,
    "start_time": "2023-12-17T15:54:56.028Z"
   },
   {
    "duration": 402,
    "start_time": "2023-12-17T15:55:12.001Z"
   },
   {
    "duration": 36104,
    "start_time": "2023-12-17T15:55:12.408Z"
   },
   {
    "duration": 13346,
    "start_time": "2023-12-17T15:55:48.513Z"
   },
   {
    "duration": 4440,
    "start_time": "2023-12-17T15:56:01.860Z"
   },
   {
    "duration": 4,
    "start_time": "2023-12-17T15:56:27.620Z"
   },
   {
    "duration": 3,
    "start_time": "2023-12-17T16:05:09.193Z"
   },
   {
    "duration": 101,
    "start_time": "2023-12-17T16:05:09.950Z"
   },
   {
    "duration": 2,
    "start_time": "2023-12-17T16:05:17.435Z"
   },
   {
    "duration": 49405,
    "start_time": "2023-12-17T16:05:27.568Z"
   },
   {
    "duration": 0,
    "start_time": "2023-12-17T16:06:16.975Z"
   },
   {
    "duration": 2,
    "start_time": "2023-12-17T16:06:27.130Z"
   },
   {
    "duration": 3,
    "start_time": "2023-12-17T16:06:31.497Z"
   },
   {
    "duration": 95523,
    "start_time": "2023-12-17T16:06:32.059Z"
   },
   {
    "duration": 2,
    "start_time": "2023-12-17T16:08:07.583Z"
   },
   {
    "duration": 49,
    "start_time": "2023-12-17T16:08:07.586Z"
   },
   {
    "duration": 13,
    "start_time": "2023-12-17T16:08:07.636Z"
   },
   {
    "duration": 16,
    "start_time": "2023-12-17T16:08:07.650Z"
   },
   {
    "duration": 3,
    "start_time": "2023-12-17T16:09:16.961Z"
   },
   {
    "duration": 95669,
    "start_time": "2023-12-17T16:09:21.908Z"
   },
   {
    "duration": 2,
    "start_time": "2023-12-17T16:10:57.579Z"
   },
   {
    "duration": 5,
    "start_time": "2023-12-17T16:10:57.582Z"
   },
   {
    "duration": 10,
    "start_time": "2023-12-17T16:10:57.589Z"
   },
   {
    "duration": 3,
    "start_time": "2023-12-17T16:10:57.601Z"
   },
   {
    "duration": 2,
    "start_time": "2023-12-17T16:11:15.310Z"
   },
   {
    "duration": 3,
    "start_time": "2023-12-17T16:11:15.969Z"
   },
   {
    "duration": 4,
    "start_time": "2023-12-17T16:11:16.734Z"
   },
   {
    "duration": 16281,
    "start_time": "2023-12-17T16:11:32.127Z"
   },
   {
    "duration": 2,
    "start_time": "2023-12-17T16:11:48.501Z"
   },
   {
    "duration": 6,
    "start_time": "2023-12-17T16:11:48.505Z"
   },
   {
    "duration": 149686,
    "start_time": "2023-12-17T16:11:48.513Z"
   },
   {
    "duration": 3,
    "start_time": "2023-12-17T16:14:18.201Z"
   },
   {
    "duration": 13,
    "start_time": "2023-12-17T16:14:18.205Z"
   },
   {
    "duration": 5,
    "start_time": "2023-12-17T16:14:18.219Z"
   },
   {
    "duration": 3,
    "start_time": "2023-12-17T16:14:18.226Z"
   },
   {
    "duration": 4,
    "start_time": "2023-12-17T16:16:39.563Z"
   },
   {
    "duration": 52,
    "start_time": "2023-12-17T16:17:05.830Z"
   },
   {
    "duration": 3,
    "start_time": "2023-12-17T16:17:10.207Z"
   },
   {
    "duration": 1332,
    "start_time": "2023-12-17T16:20:10.280Z"
   },
   {
    "duration": 941,
    "start_time": "2023-12-17T16:20:11.614Z"
   },
   {
    "duration": 14,
    "start_time": "2023-12-17T16:20:12.557Z"
   },
   {
    "duration": 95,
    "start_time": "2023-12-17T16:20:12.573Z"
   },
   {
    "duration": 3,
    "start_time": "2023-12-17T16:20:12.669Z"
   },
   {
    "duration": 5,
    "start_time": "2023-12-17T16:20:12.673Z"
   },
   {
    "duration": 25,
    "start_time": "2023-12-17T16:20:12.679Z"
   },
   {
    "duration": 278,
    "start_time": "2023-12-17T16:20:12.705Z"
   },
   {
    "duration": 277,
    "start_time": "2023-12-17T16:20:12.984Z"
   },
   {
    "duration": 342,
    "start_time": "2023-12-17T16:20:13.263Z"
   },
   {
    "duration": 269,
    "start_time": "2023-12-17T16:20:13.607Z"
   },
   {
    "duration": 30,
    "start_time": "2023-12-17T16:20:13.878Z"
   },
   {
    "duration": 12,
    "start_time": "2023-12-17T16:20:13.910Z"
   },
   {
    "duration": 19,
    "start_time": "2023-12-17T16:20:13.924Z"
   },
   {
    "duration": 28,
    "start_time": "2023-12-17T16:20:13.945Z"
   },
   {
    "duration": 27,
    "start_time": "2023-12-17T16:20:13.974Z"
   },
   {
    "duration": 9,
    "start_time": "2023-12-17T16:20:14.002Z"
   },
   {
    "duration": 20,
    "start_time": "2023-12-17T16:20:14.013Z"
   },
   {
    "duration": 20,
    "start_time": "2023-12-17T16:20:14.035Z"
   },
   {
    "duration": 40,
    "start_time": "2023-12-17T16:20:14.056Z"
   },
   {
    "duration": 42,
    "start_time": "2023-12-17T16:20:14.097Z"
   },
   {
    "duration": 29,
    "start_time": "2023-12-17T16:20:14.141Z"
   },
   {
    "duration": 37,
    "start_time": "2023-12-17T16:20:14.172Z"
   },
   {
    "duration": 27,
    "start_time": "2023-12-17T16:20:14.210Z"
   },
   {
    "duration": 20,
    "start_time": "2023-12-17T16:20:14.239Z"
   },
   {
    "duration": 212,
    "start_time": "2023-12-17T16:20:14.260Z"
   },
   {
    "duration": 19,
    "start_time": "2023-12-17T16:20:14.473Z"
   },
   {
    "duration": 6,
    "start_time": "2023-12-17T16:20:14.501Z"
   },
   {
    "duration": 20,
    "start_time": "2023-12-17T16:20:14.508Z"
   },
   {
    "duration": 24,
    "start_time": "2023-12-17T16:20:14.529Z"
   },
   {
    "duration": 95,
    "start_time": "2023-12-17T16:20:14.554Z"
   },
   {
    "duration": 7,
    "start_time": "2023-12-17T16:20:14.650Z"
   },
   {
    "duration": 13,
    "start_time": "2023-12-17T16:20:14.659Z"
   },
   {
    "duration": 29,
    "start_time": "2023-12-17T16:20:14.673Z"
   },
   {
    "duration": 11,
    "start_time": "2023-12-17T16:20:14.703Z"
   },
   {
    "duration": 31,
    "start_time": "2023-12-17T16:20:14.715Z"
   },
   {
    "duration": 6,
    "start_time": "2023-12-17T16:20:14.748Z"
   },
   {
    "duration": 45,
    "start_time": "2023-12-17T16:20:14.755Z"
   },
   {
    "duration": 7,
    "start_time": "2023-12-17T16:20:14.801Z"
   },
   {
    "duration": 28,
    "start_time": "2023-12-17T16:20:14.809Z"
   },
   {
    "duration": 9,
    "start_time": "2023-12-17T16:20:14.839Z"
   },
   {
    "duration": 524,
    "start_time": "2023-12-17T16:20:14.850Z"
   },
   {
    "duration": 550,
    "start_time": "2023-12-17T16:20:15.376Z"
   },
   {
    "duration": 427,
    "start_time": "2023-12-17T16:20:15.927Z"
   },
   {
    "duration": 123,
    "start_time": "2023-12-17T16:20:16.356Z"
   },
   {
    "duration": 124,
    "start_time": "2023-12-17T16:20:16.481Z"
   },
   {
    "duration": 121,
    "start_time": "2023-12-17T16:20:16.606Z"
   },
   {
    "duration": 47,
    "start_time": "2023-12-17T16:20:16.728Z"
   },
   {
    "duration": 37,
    "start_time": "2023-12-17T16:20:16.777Z"
   },
   {
    "duration": 9489,
    "start_time": "2023-12-17T16:20:16.816Z"
   },
   {
    "duration": 1,
    "start_time": "2023-12-17T16:20:26.307Z"
   },
   {
    "duration": 61,
    "start_time": "2023-12-17T16:20:26.310Z"
   },
   {
    "duration": 2,
    "start_time": "2023-12-17T16:20:26.373Z"
   },
   {
    "duration": 22,
    "start_time": "2023-12-17T16:20:26.377Z"
   },
   {
    "duration": 9,
    "start_time": "2023-12-17T16:20:26.400Z"
   },
   {
    "duration": 49261,
    "start_time": "2023-12-17T16:20:26.410Z"
   },
   {
    "duration": 81,
    "start_time": "2023-12-17T16:21:15.672Z"
   },
   {
    "duration": 45,
    "start_time": "2023-12-17T16:21:15.754Z"
   },
   {
    "duration": 3,
    "start_time": "2023-12-17T16:21:15.800Z"
   },
   {
    "duration": 15703,
    "start_time": "2023-12-17T16:21:15.805Z"
   },
   {
    "duration": 2,
    "start_time": "2023-12-17T16:21:31.600Z"
   },
   {
    "duration": 21,
    "start_time": "2023-12-17T16:21:31.603Z"
   },
   {
    "duration": 152984,
    "start_time": "2023-12-17T16:21:31.625Z"
   },
   {
    "duration": 3,
    "start_time": "2023-12-17T16:24:04.699Z"
   },
   {
    "duration": 24,
    "start_time": "2023-12-17T16:24:04.704Z"
   },
   {
    "duration": 15,
    "start_time": "2023-12-17T16:24:04.730Z"
   },
   {
    "duration": 125,
    "start_time": "2023-12-17T16:24:04.746Z"
   },
   {
    "duration": 39,
    "start_time": "2023-12-17T16:24:04.873Z"
   },
   {
    "duration": 3,
    "start_time": "2023-12-17T16:24:04.913Z"
   },
   {
    "duration": 4989,
    "start_time": "2023-12-17T16:24:04.918Z"
   },
   {
    "duration": 3,
    "start_time": "2023-12-17T16:24:09.908Z"
   },
   {
    "duration": 17194,
    "start_time": "2023-12-17T16:24:09.912Z"
   },
   {
    "duration": 392,
    "start_time": "2023-12-17T16:24:27.108Z"
   },
   {
    "duration": 52314,
    "start_time": "2023-12-17T16:24:27.502Z"
   },
   {
    "duration": 12810,
    "start_time": "2023-12-17T16:25:19.817Z"
   },
   {
    "duration": 4299,
    "start_time": "2023-12-17T16:25:32.629Z"
   }
  ],
  "kernelspec": {
   "display_name": "Python 3 (ipykernel)",
   "language": "python",
   "name": "python3"
  },
  "language_info": {
   "codemirror_mode": {
    "name": "ipython",
    "version": 3
   },
   "file_extension": ".py",
   "mimetype": "text/x-python",
   "name": "python",
   "nbconvert_exporter": "python",
   "pygments_lexer": "ipython3",
   "version": "3.11.5"
  },
  "toc": {
   "base_numbering": 1,
   "nav_menu": {},
   "number_sections": true,
   "sideBar": true,
   "skip_h1_title": true,
   "title_cell": "Table of Contents",
   "title_sidebar": "Contents",
   "toc_cell": false,
   "toc_position": {
    "height": "calc(100% - 180px)",
    "left": "10px",
    "top": "150px",
    "width": "222px"
   },
   "toc_section_display": true,
   "toc_window_display": true
  }
 },
 "nbformat": 4,
 "nbformat_minor": 2
}
